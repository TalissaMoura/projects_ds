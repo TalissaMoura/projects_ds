{
 "cells": [
  {
   "cell_type": "markdown",
   "metadata": {
    "papermill": {
     "duration": 0.028699,
     "end_time": "2022-03-12T20:35:16.462096",
     "exception": false,
     "start_time": "2022-03-12T20:35:16.433397",
     "status": "completed"
    },
    "tags": []
   },
   "source": [
    "## Utilizando bagging ensemble com CNNs 🧩"
   ]
  },
  {
   "cell_type": "markdown",
   "metadata": {
    "papermill": {
     "duration": 0.027102,
     "end_time": "2022-03-12T20:35:16.518274",
     "exception": false,
     "start_time": "2022-03-12T20:35:16.491172",
     "status": "completed"
    },
    "tags": []
   },
   "source": [
    "**Resumo:**\n",
    "As redes neurais convolucionais são um tipo de arquitetura muito popular em deep learning. A partir da operação matemática de convolução foi possível construir redes que conseguem aprender padrões complexos de dados utilizando uma menor quantidade de processamento computacional e obtém resultados satisfatórios principalmente em problemas de visão computacional. \n",
    "\n",
    "O ensemble, por outro, lado é uma técnica utilizada para melhorar o resultado de modelos de machine learning. Em geral, se reune vários modelos e no final se agrega as predições. Diversos algoritmos realizam essa tarefa de diferentes formas, o que vamos estudar nesse notebook é o bagging ensemble. \n",
    "\n",
    "#### TABLE OF CONTENTS\n",
    "* [Biblotecas e dados](#bibliotecas)\n",
    "* [Criando e treinando o modelo](#train_model)\n",
    "* [Avaliando o modelo](#avaliacao)\n",
    "* [Gerando saída](#saida)\n",
    "* [Criando um bagging ensemble](#bagging)\n",
    "* [Avaliando o ensemble](#avalicao_en)\n",
    "* [Gerando saída do ensemble](#saida_en)"
   ]
  },
  {
   "cell_type": "markdown",
   "metadata": {
    "papermill": {
     "duration": 0.027769,
     "end_time": "2022-03-12T20:35:16.573826",
     "exception": false,
     "start_time": "2022-03-12T20:35:16.546057",
     "status": "completed"
    },
    "tags": []
   },
   "source": [
    "<h1>Bibliotecas e Dados \n",
    " <a id=\"bibliotecas\" class=\"anchor-link\" href=\"#bibliotecas\">¶</a>\n",
    "</h1>"
   ]
  },
  {
   "cell_type": "code",
   "execution_count": 1,
   "metadata": {
    "ExecuteTime": {
     "end_time": "2019-01-16T20:39:41.500258Z",
     "start_time": "2019-01-16T20:39:39.261856Z"
    },
    "execution": {
     "iopub.execute_input": "2022-03-12T20:35:16.640918Z",
     "iopub.status.busy": "2022-03-12T20:35:16.639979Z",
     "iopub.status.idle": "2022-03-12T20:35:21.422535Z",
     "shell.execute_reply": "2022-03-12T20:35:21.421327Z"
    },
    "papermill": {
     "duration": 4.820967,
     "end_time": "2022-03-12T20:35:21.422665",
     "exception": false,
     "start_time": "2022-03-12T20:35:16.601698",
     "status": "completed"
    },
    "tags": []
   },
   "outputs": [
    {
     "name": "stderr",
     "output_type": "stream",
     "text": [
      "Using TensorFlow backend.\n"
     ]
    }
   ],
   "source": [
    "# Bibliotecas necessárias\n",
    "# Manipulação de dados\n",
    "import pandas as pd\n",
    "import numpy as np\n",
    "# Redes Neurais\n",
    "import tensorflow as tf\n",
    "from tensorflow import keras\n",
    "from tensorflow.keras.datasets import mnist\n",
    "from tensorflow.keras.models import Sequential\n",
    "#camadas de preprocessamento\n",
    "from keras import layers\n",
    "from tensorflow.keras.layers import Dense, Dropout, \\\n",
    "Conv2D, MaxPooling2D,GlobalMaxPooling2D,BatchNormalization,InputLayer\n",
    "from tensorflow.keras.optimizers import Adam\n",
    "# Plot\n",
    "import matplotlib.pyplot as plt\n",
    "%matplotlib inline\n",
    "# Avaliação\n",
    "from sklearn.metrics import classification_report, confusion_matrix,accuracy_score\n",
    "#ensemble\n",
    "from sklearn.utils import resample\n"
   ]
  },
  {
   "cell_type": "code",
   "execution_count": 2,
   "metadata": {
    "execution": {
     "iopub.execute_input": "2022-03-12T20:35:21.489527Z",
     "iopub.status.busy": "2022-03-12T20:35:21.488923Z",
     "iopub.status.idle": "2022-03-12T20:35:26.949208Z",
     "shell.execute_reply": "2022-03-12T20:35:26.948266Z"
    },
    "papermill": {
     "duration": 5.497308,
     "end_time": "2022-03-12T20:35:26.949346",
     "exception": false,
     "start_time": "2022-03-12T20:35:21.452038",
     "status": "completed"
    },
    "tags": []
   },
   "outputs": [],
   "source": [
    "# Lendo o dataset Kaggle\n",
    "train_full = pd.read_csv(\"../input/digit-recognizer/train.csv\")\n",
    "test = pd.read_csv(\"../input/digit-recognizer/test.csv\")\n",
    "\n"
   ]
  },
  {
   "cell_type": "code",
   "execution_count": 3,
   "metadata": {
    "execution": {
     "iopub.execute_input": "2022-03-12T20:35:27.026032Z",
     "iopub.status.busy": "2022-03-12T20:35:27.021549Z",
     "iopub.status.idle": "2022-03-12T20:35:27.029809Z",
     "shell.execute_reply": "2022-03-12T20:35:27.028961Z"
    },
    "papermill": {
     "duration": 0.050998,
     "end_time": "2022-03-12T20:35:27.029969",
     "exception": false,
     "start_time": "2022-03-12T20:35:26.978971",
     "status": "completed"
    },
    "tags": []
   },
   "outputs": [
    {
     "name": "stdout",
     "output_type": "stream",
     "text": [
      "Quantidade de elementos de treino: 42000\n",
      "   label  pixel0  pixel1  pixel2  pixel3  pixel4  pixel5  pixel6  pixel7  \\\n",
      "0      1       0       0       0       0       0       0       0       0   \n",
      "1      0       0       0       0       0       0       0       0       0   \n",
      "2      1       0       0       0       0       0       0       0       0   \n",
      "3      4       0       0       0       0       0       0       0       0   \n",
      "4      0       0       0       0       0       0       0       0       0   \n",
      "\n",
      "   pixel8  ...  pixel774  pixel775  pixel776  pixel777  pixel778  pixel779  \\\n",
      "0       0  ...         0         0         0         0         0         0   \n",
      "1       0  ...         0         0         0         0         0         0   \n",
      "2       0  ...         0         0         0         0         0         0   \n",
      "3       0  ...         0         0         0         0         0         0   \n",
      "4       0  ...         0         0         0         0         0         0   \n",
      "\n",
      "   pixel780  pixel781  pixel782  pixel783  \n",
      "0         0         0         0         0  \n",
      "1         0         0         0         0  \n",
      "2         0         0         0         0  \n",
      "3         0         0         0         0  \n",
      "4         0         0         0         0  \n",
      "\n",
      "[5 rows x 785 columns]\n"
     ]
    }
   ],
   "source": [
    "# Analisando o dataset\n",
    "print(\"Quantidade de elementos de treino: {}\". format(len(train_full)))\n",
    "print(train_full.head())"
   ]
  },
  {
   "cell_type": "code",
   "execution_count": 4,
   "metadata": {
    "execution": {
     "iopub.execute_input": "2022-03-12T20:35:27.102103Z",
     "iopub.status.busy": "2022-03-12T20:35:27.099139Z",
     "iopub.status.idle": "2022-03-12T20:35:27.105240Z",
     "shell.execute_reply": "2022-03-12T20:35:27.104497Z"
    },
    "papermill": {
     "duration": 0.043628,
     "end_time": "2022-03-12T20:35:27.105392",
     "exception": false,
     "start_time": "2022-03-12T20:35:27.061764",
     "status": "completed"
    },
    "tags": []
   },
   "outputs": [
    {
     "name": "stdout",
     "output_type": "stream",
     "text": [
      "shape de train: (42000, 785)\n",
      "shape de test: (28000, 784)\n"
     ]
    }
   ],
   "source": [
    "#visualizando o shape dos arquivos de treino e teste\n",
    "print(\"shape de train:\",train_full.shape)\n",
    "print(\"shape de test:\",test.shape)"
   ]
  },
  {
   "cell_type": "code",
   "execution_count": 5,
   "metadata": {
    "execution": {
     "iopub.execute_input": "2022-03-12T20:35:27.177216Z",
     "iopub.status.busy": "2022-03-12T20:35:27.176260Z",
     "iopub.status.idle": "2022-03-12T20:35:27.364922Z",
     "shell.execute_reply": "2022-03-12T20:35:27.364352Z"
    },
    "papermill": {
     "duration": 0.227091,
     "end_time": "2022-03-12T20:35:27.365046",
     "exception": false,
     "start_time": "2022-03-12T20:35:27.137955",
     "status": "completed"
    },
    "tags": []
   },
   "outputs": [],
   "source": [
    "# Separando x_train, x_valid,x_test e y_train,y_valid,y_test e fazendo preprocessamento\n",
    "#vamos utilizar 37001 imagens para train,5000 para validação e 28000 para \n",
    "x_train,x_valid,x_test = train_full.loc[:len(train_full)-5000,\"pixel0\":]/255.,train_full.loc[len(train_full)-5000:,\"pixel0\":]/255.,test/255.\n",
    "y_train,y_valid = train_full.loc[:len(train_full)-5000,\"label\"],train_full.loc[len(train_full)-5000:,\"label\"]"
   ]
  },
  {
   "cell_type": "code",
   "execution_count": 6,
   "metadata": {
    "execution": {
     "iopub.execute_input": "2022-03-12T20:35:27.432264Z",
     "iopub.status.busy": "2022-03-12T20:35:27.431526Z",
     "iopub.status.idle": "2022-03-12T20:35:27.434516Z",
     "shell.execute_reply": "2022-03-12T20:35:27.432818Z"
    },
    "papermill": {
     "duration": 0.040649,
     "end_time": "2022-03-12T20:35:27.434657",
     "exception": false,
     "start_time": "2022-03-12T20:35:27.394008",
     "status": "completed"
    },
    "tags": []
   },
   "outputs": [
    {
     "name": "stdout",
     "output_type": "stream",
     "text": [
      "Shape de x_train e y_train: ((37001, 784), (37001,))\n",
      "Shape de x_valid e y_valid: ((5000, 784), (5000,))\n",
      "Shape de x_test: (28000, 784)\n"
     ]
    }
   ],
   "source": [
    "#visualizando shape dos dados\n",
    "print(\"Shape de x_train e y_train:\",(x_train.shape,y_train.shape))\n",
    "print(\"Shape de x_valid e y_valid:\",(x_valid.shape,y_valid.shape))\n",
    "print(\"Shape de x_test:\",x_test.shape)"
   ]
  },
  {
   "cell_type": "code",
   "execution_count": 7,
   "metadata": {
    "execution": {
     "iopub.execute_input": "2022-03-12T20:35:27.503503Z",
     "iopub.status.busy": "2022-03-12T20:35:27.502751Z",
     "iopub.status.idle": "2022-03-12T20:35:27.507658Z",
     "shell.execute_reply": "2022-03-12T20:35:27.507155Z"
    },
    "papermill": {
     "duration": 0.042377,
     "end_time": "2022-03-12T20:35:27.507767",
     "exception": false,
     "start_time": "2022-03-12T20:35:27.465390",
     "status": "completed"
    },
    "tags": []
   },
   "outputs": [
    {
     "name": "stdout",
     "output_type": "stream",
     "text": [
      "Shape de x_train e y_train: ((37001, 28, 28, 1), (37001,))\n",
      "Shape de x_valid e y_valid: ((5000, 28, 28, 1), (5000,))\n",
      "Shape de x_test: (28000, 28, 28, 1)\n"
     ]
    }
   ],
   "source": [
    "#transformando os vetores em imagens de 28 x 28 x 1\n",
    "x_train = np.reshape(x_train.values,(x_train.shape[0],28,28,1))\n",
    "x_valid = np.reshape(x_valid.values,(x_valid.shape[0],28,28,1))\n",
    "x_test = np.reshape(x_test.values,(x_test.shape[0],28,28,1))\n",
    "\n",
    "print(\"Shape de x_train e y_train:\",(x_train.shape,y_train.shape))\n",
    "print(\"Shape de x_valid e y_valid:\",(x_valid.shape,y_valid.shape))\n",
    "print(\"Shape de x_test:\",x_test.shape)\n"
   ]
  },
  {
   "cell_type": "code",
   "execution_count": 8,
   "metadata": {
    "execution": {
     "iopub.execute_input": "2022-03-12T20:35:27.573022Z",
     "iopub.status.busy": "2022-03-12T20:35:27.572243Z",
     "iopub.status.idle": "2022-03-12T20:35:27.867898Z",
     "shell.execute_reply": "2022-03-12T20:35:27.868439Z"
    },
    "papermill": {
     "duration": 0.329977,
     "end_time": "2022-03-12T20:35:27.868601",
     "exception": false,
     "start_time": "2022-03-12T20:35:27.538624",
     "status": "completed"
    },
    "tags": []
   },
   "outputs": [
    {
     "data": {
      "image/png": "[encoded data removed]",
      "text/plain": [
       "<Figure size 432x288 with 1 Axes>"
      ]
     },
     "metadata": {
      "needs_background": "light"
     },
     "output_type": "display_data"
    }
   ],
   "source": [
    "#visualizando uma imagem \n",
    "plt.imshow(x_train[0][:,:,0],cmap=\"Greys\");"
   ]
  },
  {
   "cell_type": "code",
   "execution_count": 9,
   "metadata": {
    "ExecuteTime": {
     "end_time": "2019-01-08T20:50:48.007428Z",
     "start_time": "2019-01-08T20:50:47.986527Z"
    },
    "execution": {
     "iopub.execute_input": "2022-03-12T20:35:27.946436Z",
     "iopub.status.busy": "2022-03-12T20:35:27.945339Z",
     "iopub.status.idle": "2022-03-12T20:35:27.952837Z",
     "shell.execute_reply": "2022-03-12T20:35:27.952084Z"
    },
    "papermill": {
     "duration": 0.043704,
     "end_time": "2022-03-12T20:35:27.952981",
     "exception": false,
     "start_time": "2022-03-12T20:35:27.909277",
     "status": "completed"
    },
    "tags": []
   },
   "outputs": [
    {
     "name": "stdout",
     "output_type": "stream",
     "text": [
      "visualizando o formato de y_train: [0. 1. 0. 0. 0. 0. 0. 0. 0. 0.]\n",
      "visualizando o formato de y_valid: [0. 0. 0. 0. 0. 0. 0. 0. 0. 1.]\n"
     ]
    }
   ],
   "source": [
    "# Vamos ajustar o formato da saida\n",
    "num_classes = 10\n",
    "\n",
    "# Convertendo para um vetor de saida com 10 dimensoes\n",
    "# ex. 8 => [0,0,0,0,0,0,0,0,1,0]\n",
    "y_train,y_valid = keras.utils.to_categorical(y_train, num_classes),keras.utils.to_categorical(y_valid, num_classes)\n",
    "print(\"visualizando o formato de y_train:\",y_train[0])\n",
    "print(\"visualizando o formato de y_valid:\",y_valid[0])"
   ]
  },
  {
   "cell_type": "markdown",
   "metadata": {
    "papermill": {
     "duration": 0.030536,
     "end_time": "2022-03-12T20:35:28.014158",
     "exception": false,
     "start_time": "2022-03-12T20:35:27.983622",
     "status": "completed"
    },
    "tags": []
   },
   "source": [
    "<h1>Criando e treinando o modelo\n",
    " <a id=\"train_model\" class=\"anchor-link\" href=\"#train_model\">¶</a>\n",
    "</h1>"
   ]
  },
  {
   "cell_type": "markdown",
   "metadata": {
    "papermill": {
     "duration": 0.030992,
     "end_time": "2022-03-12T20:35:28.076111",
     "exception": false,
     "start_time": "2022-03-12T20:35:28.045119",
     "status": "completed"
    },
    "tags": []
   },
   "source": [
    "A arquitetura de uma CNN contém duas partes importantes:\n",
    " * Base: Convolutional layers \n",
    " * Head: Fully conected layer\n",
    " \n",
    "Em resumo, na base, as convolutional layers vão identificar diversos paramêtros (features) da camada de entrada e no head esses paramêtros são analisados e combinados para encontrar quais deles são relevantes para resolver o problema em questão. \n",
    "\n",
    "Aprofundando mais esses conceitos, na base, são reunidos os features maps, eles são resultado das operações de convolução (filtragem da imagem) e função de ativação, ou seja, aqui são destacados diversos aspectos das imagens. É valido destacar que nas primeiras camadas esses padrões são simples (bordas, cores, formas e etc), já para as últimas, temos padrões mais complexos (texturas, padrões de olhos e narizes)\n",
    "\n",
    "A partir disso, a camada de head (ou top) reúne essas informações e procura classificar as imagens encontradas. Aqui, a finalidade é saber quais dos diversos features maps são relevantes para a classificação. Nessa camada, geralmente, pode-se ter uma dense network ou uma global poolying layer"
   ]
  },
  {
   "cell_type": "markdown",
   "metadata": {
    "execution": {
     "iopub.execute_input": "2022-03-11T00:51:36.095647Z",
     "iopub.status.busy": "2022-03-11T00:51:36.095291Z",
     "iopub.status.idle": "2022-03-11T00:51:36.108051Z",
     "shell.execute_reply": "2022-03-11T00:51:36.105838Z",
     "shell.execute_reply.started": "2022-03-11T00:51:36.095616Z"
    },
    "papermill": {
     "duration": 0.031078,
     "end_time": "2022-03-12T20:35:28.137703",
     "exception": false,
     "start_time": "2022-03-12T20:35:28.106625",
     "status": "completed"
    },
    "tags": []
   },
   "source": [
    "<div class=\"alert alert-block alert-info\" style=\"color:black; font-size:14px;\">\n",
    "    📌 A camada de output deve ter o mesmo tamanho da quantidade dos dados a serem classificados.\n",
    "    <br>\n",
    "    📌 Em geral, nas convolutional layers, a quantidade de filtros é aplicada em ordem crescente (64,128,256..) e são seguidas de pooling layers com strides de 2. Dessa forma, pouca memoria RAM é consumida (as pooling layers reduzem a dimensão da imagem e condensam as informações das covolutional layers) e mais reuniões de features são feitas nas camadas mais superiores (ou seja, mais parametros complexos são formados). Contudo, isso não é uma regra, é válido fazer vários testes com diferentes quantidade de filtros para saber qual é o melhor para seus dados. \n",
    "    </div>"
   ]
  },
  {
   "cell_type": "markdown",
   "metadata": {
    "papermill": {
     "duration": 0.032433,
     "end_time": "2022-03-12T20:35:28.201786",
     "exception": false,
     "start_time": "2022-03-12T20:35:28.169353",
     "status": "completed"
    },
    "tags": []
   },
   "source": [
    "**Data Augmentation \n",
    "**\n",
    "\n",
    "O data augumentation se resume em produzir artificialmente novas imagens de diferentes formatos em relação a original sem fazer com que ela perca seu significado de classificação. É uma técnica de preprocessamento para fazer com que a rede aprenda também outras formas de visualizar a camada de entrada e saber lidar com situações diferentes. Algumas transformações feitas são: rotação da imagem, aplicação de zoom, alteração de largura e altura, aumentar/diminuir constraste e entre outras tecnicas."
   ]
  },
  {
   "cell_type": "code",
   "execution_count": 10,
   "metadata": {
    "execution": {
     "iopub.execute_input": "2022-03-12T20:35:28.270633Z",
     "iopub.status.busy": "2022-03-12T20:35:28.269908Z",
     "iopub.status.idle": "2022-03-12T20:35:28.274015Z",
     "shell.execute_reply": "2022-03-12T20:35:28.274447Z"
    },
    "papermill": {
     "duration": 0.041393,
     "end_time": "2022-03-12T20:35:28.274626",
     "exception": false,
     "start_time": "2022-03-12T20:35:28.233233",
     "status": "completed"
    },
    "tags": []
   },
   "outputs": [],
   "source": [
    "#camadas de data augumentation\n",
    "\n",
    "dataGen = tf.keras.preprocessing.image.ImageDataGenerator(\n",
    "    rotation_range=10,\n",
    "    zoom_range = 0.20,\n",
    "    width_shift_range=0.1,\n",
    "    height_shift_range=0.1,\n",
    ")"
   ]
  },
  {
   "cell_type": "code",
   "execution_count": 11,
   "metadata": {
    "execution": {
     "iopub.execute_input": "2022-03-12T20:35:28.348835Z",
     "iopub.status.busy": "2022-03-12T20:35:28.347739Z",
     "iopub.status.idle": "2022-03-12T20:35:28.824348Z",
     "shell.execute_reply": "2022-03-12T20:35:28.823574Z"
    },
    "papermill": {
     "duration": 0.518506,
     "end_time": "2022-03-12T20:35:28.824460",
     "exception": false,
     "start_time": "2022-03-12T20:35:28.305954",
     "status": "completed"
    },
    "tags": []
   },
   "outputs": [
    {
     "data": {
      "image/png": "[encoded data removed]",
      "text/plain": [
       "<Figure size 576x576 with 6 Axes>"
      ]
     },
     "metadata": {
      "needs_background": "light"
     },
     "output_type": "display_data"
    },
    {
     "data": {
      "image/png": "[encoded data removed]",
      "text/plain": [
       "<Figure size 576x576 with 6 Axes>"
      ]
     },
     "metadata": {
      "needs_background": "light"
     },
     "output_type": "display_data"
    }
   ],
   "source": [
    "#visualizando data augmentation\n",
    "\n",
    "#primeiro verificando imagens originais \n",
    "ex_imgs = x_train[0:6,:,:,:]\n",
    "label_ex_imgs = y_train[0:6]\n",
    "\n",
    "plt.figure(figsize=(8,8))\n",
    "plt.subplot(1,2,1)\n",
    "plt.suptitle(\"Imagens sem data augumentation\")\n",
    "for i in range(6):\n",
    "    ax = plt.subplot(3,3,i+1)\n",
    "    plt.imshow(ex_imgs[i][:,:,0],cmap=\"Greys\")\n",
    "    plt.title(np.argmax(label_ex_imgs[i]))\n",
    "    plt.axis(\"off\")\n",
    "\n",
    "plt.figure(figsize=(8,8))\n",
    "plt.subplot(1,2,2)\n",
    "plt.suptitle(\"Imagens com data augumentation\")\n",
    "for i in range(6):\n",
    "    ax = plt.subplot(3,3,i+1)\n",
    "    new_img = dataGen.random_transform(ex_imgs[i])\n",
    "    plt.imshow(new_img[:,:,0],cmap=\"Greys\")\n",
    "    plt.title(np.argmax(label_ex_imgs[i]))\n",
    "    plt.axis(\"off\")"
   ]
  },
  {
   "cell_type": "code",
   "execution_count": 12,
   "metadata": {
    "ExecuteTime": {
     "end_time": "2019-01-08T21:38:00.233865Z",
     "start_time": "2019-01-08T21:38:00.15079Z"
    },
    "execution": {
     "iopub.execute_input": "2022-03-12T20:35:28.901887Z",
     "iopub.status.busy": "2022-03-12T20:35:28.897372Z",
     "iopub.status.idle": "2022-03-12T20:35:31.581669Z",
     "shell.execute_reply": "2022-03-12T20:35:31.581081Z"
    },
    "papermill": {
     "duration": 2.72473,
     "end_time": "2022-03-12T20:35:31.581790",
     "exception": false,
     "start_time": "2022-03-12T20:35:28.857060",
     "status": "completed"
    },
    "scrolled": true,
    "tags": []
   },
   "outputs": [],
   "source": [
    "# Criando o modelo Sequential\n",
    "# Sequential: Modelo Keras de ir adicionando camadas (como um lego)\n",
    "\n",
    "# Conv2D: Camada com kernels (filtros) que percorrem a imagem extraindo caracterísitcas (mapas de caracteísticas)\n",
    "\n",
    "# MaxPooling2D: Camada que reduz a dimensionalidade dos mapas de características 2D -->\n",
    "# Ela divide a imagem em pequenos blocos e encontra neles o pixel de maior valor. \n",
    "\n",
    "# Dropout: Camada usa durante treino que descarta aleatoriamente um percentual de conexões (reduz overfitting)\n",
    "\n",
    "# GlobalMaxPooling2D: Reduz os features maps para um único número. \n",
    "# Enfatiza a presença ao modelo a presença de um feature.\n",
    "# Seu output para a GlobalMaxPooling2D é o valor máximo de ativação do feature map analisado. \n",
    "\n",
    "\n",
    "model = Sequential()\n",
    "model.add(InputLayer(input_shape=(28,28,1)))\n",
    "#primeira camada de conv\n",
    "model.add(Conv2D(32,kernel_size=5,activation=\"relu\",padding=\"same\"))\n",
    "model.add(MaxPooling2D()),\n",
    "model.add(Dropout(0.15))\n",
    "model.add(BatchNormalization())\n",
    "\n",
    "#segunda camada de conv\n",
    "model.add(Conv2D(64,kernel_size=3,activation=\"relu\",padding=\"same\"))\n",
    "model.add(MaxPooling2D(pool_size=(1,1))),\n",
    "model.add(Dropout(0.15))\n",
    "model.add(BatchNormalization())\n",
    "\n",
    "#terceira camada de conv\n",
    "model.add(Conv2D(64,kernel_size=3,activation=\"relu\",padding=\"same\"))\n",
    "model.add(Conv2D(64,kernel_size=3,activation=\"relu\",padding=\"same\"))\n",
    "model.add(MaxPooling2D(pool_size=(1,1)))\n",
    "model.add(Dropout(0.25))\n",
    "\n",
    "#camada de classficação\n",
    "model.add(BatchNormalization())\n",
    "model.add(GlobalMaxPooling2D())\n",
    "model.add(Dropout(0.15))\n",
    "model.add(Dense(10,activation=\"softmax\"))"
   ]
  },
  {
   "cell_type": "code",
   "execution_count": 13,
   "metadata": {
    "execution": {
     "iopub.execute_input": "2022-03-12T20:35:31.655190Z",
     "iopub.status.busy": "2022-03-12T20:35:31.652599Z",
     "iopub.status.idle": "2022-03-12T20:35:31.663002Z",
     "shell.execute_reply": "2022-03-12T20:35:31.663714Z"
    },
    "papermill": {
     "duration": 0.049196,
     "end_time": "2022-03-12T20:35:31.663919",
     "exception": false,
     "start_time": "2022-03-12T20:35:31.614723",
     "status": "completed"
    },
    "tags": []
   },
   "outputs": [
    {
     "name": "stdout",
     "output_type": "stream",
     "text": [
      "Model: \"sequential\"\n",
      "_________________________________________________________________\n",
      "Layer (type)                 Output Shape              Param #   \n",
      "=================================================================\n",
      "conv2d (Conv2D)              (None, 28, 28, 32)        832       \n",
      "_________________________________________________________________\n",
      "max_pooling2d (MaxPooling2D) (None, 14, 14, 32)        0         \n",
      "_________________________________________________________________\n",
      "dropout (Dropout)            (None, 14, 14, 32)        0         \n",
      "_________________________________________________________________\n",
      "batch_normalization (BatchNo (None, 14, 14, 32)        128       \n",
      "_________________________________________________________________\n",
      "conv2d_1 (Conv2D)            (None, 14, 14, 64)        18496     \n",
      "_________________________________________________________________\n",
      "max_pooling2d_1 (MaxPooling2 (None, 14, 14, 64)        0         \n",
      "_________________________________________________________________\n",
      "dropout_1 (Dropout)          (None, 14, 14, 64)        0         \n",
      "_________________________________________________________________\n",
      "batch_normalization_1 (Batch (None, 14, 14, 64)        256       \n",
      "_________________________________________________________________\n",
      "conv2d_2 (Conv2D)            (None, 14, 14, 64)        36928     \n",
      "_________________________________________________________________\n",
      "conv2d_3 (Conv2D)            (None, 14, 14, 64)        36928     \n",
      "_________________________________________________________________\n",
      "max_pooling2d_2 (MaxPooling2 (None, 14, 14, 64)        0         \n",
      "_________________________________________________________________\n",
      "dropout_2 (Dropout)          (None, 14, 14, 64)        0         \n",
      "_________________________________________________________________\n",
      "batch_normalization_2 (Batch (None, 14, 14, 64)        256       \n",
      "_________________________________________________________________\n",
      "global_max_pooling2d (Global (None, 64)                0         \n",
      "_________________________________________________________________\n",
      "dropout_3 (Dropout)          (None, 64)                0         \n",
      "_________________________________________________________________\n",
      "dense (Dense)                (None, 10)                650       \n",
      "=================================================================\n",
      "Total params: 94,474\n",
      "Trainable params: 94,154\n",
      "Non-trainable params: 320\n",
      "_________________________________________________________________\n"
     ]
    }
   ],
   "source": [
    "#visualizando o modelo\n",
    "model.summary()"
   ]
  },
  {
   "cell_type": "code",
   "execution_count": 14,
   "metadata": {
    "ExecuteTime": {
     "end_time": "2019-01-08T21:33:17.184644Z",
     "start_time": "2019-01-08T21:33:17.129141Z"
    },
    "execution": {
     "iopub.execute_input": "2022-03-12T20:35:31.741385Z",
     "iopub.status.busy": "2022-03-12T20:35:31.738871Z",
     "iopub.status.idle": "2022-03-12T20:35:31.772802Z",
     "shell.execute_reply": "2022-03-12T20:35:31.771948Z"
    },
    "papermill": {
     "duration": 0.074171,
     "end_time": "2022-03-12T20:35:31.772919",
     "exception": false,
     "start_time": "2022-03-12T20:35:31.698748",
     "status": "completed"
    },
    "tags": []
   },
   "outputs": [],
   "source": [
    "# Compila o modelo\n",
    "model.compile(loss='categorical_crossentropy',\n",
    "              optimizer=Adam(learning_rate=0.01,epsilon=0.01),\n",
    "              metrics=['accuracy'])"
   ]
  },
  {
   "cell_type": "code",
   "execution_count": 15,
   "metadata": {
    "ExecuteTime": {
     "end_time": "2019-01-08T21:36:15.501168Z",
     "start_time": "2019-01-08T21:33:19.322895Z"
    },
    "execution": {
     "iopub.execute_input": "2022-03-12T20:35:31.849812Z",
     "iopub.status.busy": "2022-03-12T20:35:31.848590Z",
     "iopub.status.idle": "2022-03-12T20:44:49.521969Z",
     "shell.execute_reply": "2022-03-12T20:44:49.522509Z"
    },
    "papermill": {
     "duration": 557.716146,
     "end_time": "2022-03-12T20:44:49.522697",
     "exception": false,
     "start_time": "2022-03-12T20:35:31.806551",
     "status": "completed"
    },
    "tags": []
   },
   "outputs": [
    {
     "name": "stdout",
     "output_type": "stream",
     "text": [
      "Train for 1157 steps, validate on 5000 samples\n",
      "Epoch 1/30\n",
      "1154/1157 [============================>.] - ETA: 0s - loss: 0.5584 - accuracy: 0.8373\n",
      "Epoch 00001: val_loss improved from inf to 0.15170, saving model to model.h5\n",
      "1157/1157 [==============================] - 21s 18ms/step - loss: 0.5575 - accuracy: 0.8376 - val_loss: 0.1517 - val_accuracy: 0.9522\n",
      "Epoch 2/30\n",
      "1156/1157 [============================>.] - ETA: 0s - loss: 0.1316 - accuracy: 0.9601\n",
      "Epoch 00002: val_loss improved from 0.15170 to 0.05422, saving model to model.h5\n",
      "1157/1157 [==============================] - 19s 16ms/step - loss: 0.1315 - accuracy: 0.9601 - val_loss: 0.0542 - val_accuracy: 0.9854\n",
      "Epoch 3/30\n",
      "1155/1157 [============================>.] - ETA: 0s - loss: 0.0921 - accuracy: 0.9723\n",
      "Epoch 00003: val_loss improved from 0.05422 to 0.05198, saving model to model.h5\n",
      "1157/1157 [==============================] - 17s 15ms/step - loss: 0.0922 - accuracy: 0.9722 - val_loss: 0.0520 - val_accuracy: 0.9842\n",
      "Epoch 4/30\n",
      "1156/1157 [============================>.] - ETA: 0s - loss: 0.0779 - accuracy: 0.9760\n",
      "Epoch 00004: val_loss improved from 0.05198 to 0.04781, saving model to model.h5\n",
      "1157/1157 [==============================] - 18s 16ms/step - loss: 0.0778 - accuracy: 0.9761 - val_loss: 0.0478 - val_accuracy: 0.9846\n",
      "Epoch 5/30\n",
      "1155/1157 [============================>.] - ETA: 0s - loss: 0.0735 - accuracy: 0.9782\n",
      "Epoch 00005: val_loss improved from 0.04781 to 0.04198, saving model to model.h5\n",
      "1157/1157 [==============================] - 18s 16ms/step - loss: 0.0736 - accuracy: 0.9782 - val_loss: 0.0420 - val_accuracy: 0.9856\n",
      "Epoch 6/30\n",
      "1156/1157 [============================>.] - ETA: 0s - loss: 0.0654 - accuracy: 0.9796\n",
      "Epoch 00006: val_loss improved from 0.04198 to 0.04123, saving model to model.h5\n",
      "1157/1157 [==============================] - 18s 15ms/step - loss: 0.0654 - accuracy: 0.9796 - val_loss: 0.0412 - val_accuracy: 0.9898\n",
      "Epoch 7/30\n",
      "1154/1157 [============================>.] - ETA: 0s - loss: 0.0601 - accuracy: 0.9813\n",
      "Epoch 00007: val_loss improved from 0.04123 to 0.03142, saving model to model.h5\n",
      "1157/1157 [==============================] - 18s 15ms/step - loss: 0.0600 - accuracy: 0.9813 - val_loss: 0.0314 - val_accuracy: 0.9898\n",
      "Epoch 8/30\n",
      "1155/1157 [============================>.] - ETA: 0s - loss: 0.0625 - accuracy: 0.9813\n",
      "Epoch 00008: val_loss did not improve from 0.03142\n",
      "1157/1157 [==============================] - 18s 15ms/step - loss: 0.0624 - accuracy: 0.9813 - val_loss: 0.0326 - val_accuracy: 0.9902\n",
      "Epoch 9/30\n",
      "1156/1157 [============================>.] - ETA: 0s - loss: 0.0554 - accuracy: 0.9842\n",
      "Epoch 00009: val_loss improved from 0.03142 to 0.03004, saving model to model.h5\n",
      "1157/1157 [==============================] - 19s 16ms/step - loss: 0.0554 - accuracy: 0.9842 - val_loss: 0.0300 - val_accuracy: 0.9910\n",
      "Epoch 10/30\n",
      "1156/1157 [============================>.] - ETA: 0s - loss: 0.0525 - accuracy: 0.9840\n",
      "Epoch 00010: val_loss improved from 0.03004 to 0.02708, saving model to model.h5\n",
      "1157/1157 [==============================] - 17s 15ms/step - loss: 0.0524 - accuracy: 0.9840 - val_loss: 0.0271 - val_accuracy: 0.9916\n",
      "Epoch 11/30\n",
      "1153/1157 [============================>.] - ETA: 0s - loss: 0.0528 - accuracy: 0.9840\n",
      "Epoch 00011: val_loss did not improve from 0.02708\n",
      "1157/1157 [==============================] - 19s 16ms/step - loss: 0.0527 - accuracy: 0.9840 - val_loss: 0.0272 - val_accuracy: 0.9920\n",
      "Epoch 12/30\n",
      "1154/1157 [============================>.] - ETA: 0s - loss: 0.0493 - accuracy: 0.9851\n",
      "Epoch 00012: val_loss did not improve from 0.02708\n",
      "1157/1157 [==============================] - 18s 15ms/step - loss: 0.0494 - accuracy: 0.9851 - val_loss: 0.0283 - val_accuracy: 0.9906\n",
      "Epoch 13/30\n",
      "1155/1157 [============================>.] - ETA: 0s - loss: 0.0327 - accuracy: 0.9898\n",
      "Epoch 00013: val_loss improved from 0.02708 to 0.01790, saving model to model.h5\n",
      "1157/1157 [==============================] - 19s 16ms/step - loss: 0.0326 - accuracy: 0.9898 - val_loss: 0.0179 - val_accuracy: 0.9950\n",
      "Epoch 14/30\n",
      "1153/1157 [============================>.] - ETA: 0s - loss: 0.0293 - accuracy: 0.9909\n",
      "Epoch 00014: val_loss did not improve from 0.01790\n",
      "1157/1157 [==============================] - 18s 16ms/step - loss: 0.0296 - accuracy: 0.9909 - val_loss: 0.0183 - val_accuracy: 0.9950\n",
      "Epoch 15/30\n",
      "1156/1157 [============================>.] - ETA: 0s - loss: 0.0267 - accuracy: 0.9916\n",
      "Epoch 00015: val_loss improved from 0.01790 to 0.01789, saving model to model.h5\n",
      "1157/1157 [==============================] - 18s 16ms/step - loss: 0.0267 - accuracy: 0.9916 - val_loss: 0.0179 - val_accuracy: 0.9948\n",
      "Epoch 16/30\n",
      "1154/1157 [============================>.] - ETA: 0s - loss: 0.0257 - accuracy: 0.9914\n",
      "Epoch 00016: val_loss improved from 0.01789 to 0.01743, saving model to model.h5\n",
      "1157/1157 [==============================] - 19s 16ms/step - loss: 0.0257 - accuracy: 0.9914 - val_loss: 0.0174 - val_accuracy: 0.9950\n",
      "Epoch 17/30\n",
      "1153/1157 [============================>.] - ETA: 0s - loss: 0.0257 - accuracy: 0.9919\n",
      "Epoch 00017: val_loss did not improve from 0.01743\n",
      "1157/1157 [==============================] - 18s 16ms/step - loss: 0.0256 - accuracy: 0.9920 - val_loss: 0.0176 - val_accuracy: 0.9946\n",
      "Epoch 18/30\n",
      "1155/1157 [============================>.] - ETA: 0s - loss: 0.0259 - accuracy: 0.9923\n",
      "Epoch 00018: val_loss improved from 0.01743 to 0.01697, saving model to model.h5\n",
      "1157/1157 [==============================] - 19s 16ms/step - loss: 0.0258 - accuracy: 0.9924 - val_loss: 0.0170 - val_accuracy: 0.9948\n",
      "Epoch 19/30\n",
      "1154/1157 [============================>.] - ETA: 0s - loss: 0.0255 - accuracy: 0.9917\n",
      "Epoch 00019: val_loss did not improve from 0.01697\n",
      "1157/1157 [==============================] - 18s 15ms/step - loss: 0.0255 - accuracy: 0.9917 - val_loss: 0.0170 - val_accuracy: 0.9950\n",
      "Epoch 20/30\n",
      "1156/1157 [============================>.] - ETA: 0s - loss: 0.0269 - accuracy: 0.9922\n",
      "Epoch 00020: val_loss did not improve from 0.01697\n",
      "1157/1157 [==============================] - 20s 17ms/step - loss: 0.0269 - accuracy: 0.9922 - val_loss: 0.0171 - val_accuracy: 0.9950\n",
      "Epoch 21/30\n",
      "1154/1157 [============================>.] - ETA: 0s - loss: 0.0243 - accuracy: 0.9920\n",
      "Epoch 00021: val_loss improved from 0.01697 to 0.01694, saving model to model.h5\n",
      "1157/1157 [==============================] - 18s 16ms/step - loss: 0.0243 - accuracy: 0.9920 - val_loss: 0.0169 - val_accuracy: 0.9954\n",
      "Epoch 22/30\n",
      "1153/1157 [============================>.] - ETA: 0s - loss: 0.0235 - accuracy: 0.9922\n",
      "Epoch 00022: val_loss did not improve from 0.01694\n",
      "1157/1157 [==============================] - 19s 17ms/step - loss: 0.0236 - accuracy: 0.9922 - val_loss: 0.0170 - val_accuracy: 0.9950\n",
      "Epoch 23/30\n",
      "1155/1157 [============================>.] - ETA: 0s - loss: 0.0244 - accuracy: 0.9920\n",
      "Epoch 00023: val_loss did not improve from 0.01694\n",
      "1157/1157 [==============================] - 20s 17ms/step - loss: 0.0244 - accuracy: 0.9920 - val_loss: 0.0170 - val_accuracy: 0.9950\n",
      "Epoch 24/30\n",
      "1155/1157 [============================>.] - ETA: 0s - loss: 0.0244 - accuracy: 0.9921\n",
      "Epoch 00024: val_loss did not improve from 0.01694\n",
      "1157/1157 [==============================] - 18s 16ms/step - loss: 0.0243 - accuracy: 0.9921 - val_loss: 0.0170 - val_accuracy: 0.9950\n",
      "Epoch 25/30\n",
      "1154/1157 [============================>.] - ETA: 0s - loss: 0.0231 - accuracy: 0.9922\n",
      "Epoch 00025: val_loss improved from 0.01694 to 0.01693, saving model to model.h5\n",
      "1157/1157 [==============================] - 20s 18ms/step - loss: 0.0231 - accuracy: 0.9922 - val_loss: 0.0169 - val_accuracy: 0.9954\n",
      "Epoch 26/30\n",
      "1155/1157 [============================>.] - ETA: 0s - loss: 0.0253 - accuracy: 0.9919\n",
      "Epoch 00026: val_loss did not improve from 0.01693\n",
      "1157/1157 [==============================] - 17s 15ms/step - loss: 0.0253 - accuracy: 0.9919 - val_loss: 0.0170 - val_accuracy: 0.9950\n",
      "Epoch 27/30\n",
      "1155/1157 [============================>.] - ETA: 0s - loss: 0.0257 - accuracy: 0.9917\n",
      "Epoch 00027: val_loss improved from 0.01693 to 0.01688, saving model to model.h5\n",
      "1157/1157 [==============================] - 20s 18ms/step - loss: 0.0257 - accuracy: 0.9917 - val_loss: 0.0169 - val_accuracy: 0.9952\n",
      "Epoch 28/30\n",
      "1155/1157 [============================>.] - ETA: 0s - loss: 0.0250 - accuracy: 0.9921\n",
      "Epoch 00028: val_loss did not improve from 0.01688\n",
      "1157/1157 [==============================] - 18s 15ms/step - loss: 0.0250 - accuracy: 0.9921 - val_loss: 0.0170 - val_accuracy: 0.9950\n",
      "Epoch 29/30\n",
      "1153/1157 [============================>.] - ETA: 0s - loss: 0.0250 - accuracy: 0.9918\n",
      "Epoch 00029: val_loss did not improve from 0.01688\n",
      "1157/1157 [==============================] - 20s 17ms/step - loss: 0.0250 - accuracy: 0.9918 - val_loss: 0.0169 - val_accuracy: 0.9952\n",
      "Epoch 30/30\n",
      "1153/1157 [============================>.] - ETA: 0s - loss: 0.0253 - accuracy: 0.9922\n",
      "Epoch 00030: val_loss did not improve from 0.01688\n",
      "1157/1157 [==============================] - 18s 15ms/step - loss: 0.0252 - accuracy: 0.9922 - val_loss: 0.0169 - val_accuracy: 0.9954\n"
     ]
    }
   ],
   "source": [
    "# Treina com os parte dos dados\n",
    "batch_size = 32\n",
    "epochs = 30\n",
    "\n",
    "#Salvar o melhor modelo\n",
    "callbacks_list = [\n",
    "    keras.callbacks.ModelCheckpoint(\n",
    "        filepath='model.h5',\n",
    "        monitor='val_loss', save_best_only=True, verbose=1),\n",
    "    keras.callbacks.EarlyStopping(monitor='val_loss', patience=5,verbose=1),\n",
    "    keras.callbacks.ReduceLROnPlateau(monitor='val_loss', factor=0.1,\n",
    "                              patience=2, min_lr=0.00001)\n",
    "    \n",
    "]\n",
    "\n",
    "history = model.fit(dataGen.flow(x_train, y_train,batch_size=batch_size,seed=42),\n",
    "                   validation_data=(x_valid, y_valid),\n",
    "                   epochs=epochs,\n",
    "                   callbacks=callbacks_list)"
   ]
  },
  {
   "cell_type": "code",
   "execution_count": 16,
   "metadata": {
    "ExecuteTime": {
     "end_time": "2019-01-08T21:36:20.243921Z",
     "start_time": "2019-01-08T21:36:20.064201Z"
    },
    "execution": {
     "iopub.execute_input": "2022-03-12T20:44:55.941479Z",
     "iopub.status.busy": "2022-03-12T20:44:55.940487Z",
     "iopub.status.idle": "2022-03-12T20:44:56.273031Z",
     "shell.execute_reply": "2022-03-12T20:44:56.273516Z"
    },
    "papermill": {
     "duration": 3.368621,
     "end_time": "2022-03-12T20:44:56.273657",
     "exception": false,
     "start_time": "2022-03-12T20:44:52.905036",
     "status": "completed"
    },
    "tags": []
   },
   "outputs": [
    {
     "data": {
      "image/png": "[encoded data removed]",
      "text/plain": [
       "<Figure size 1152x576 with 2 Axes>"
      ]
     },
     "metadata": {
      "needs_background": "light"
     },
     "output_type": "display_data"
    }
   ],
   "source": [
    "#Vamos ver como foi o treino?\n",
    "\n",
    "fig, ax = plt.subplots(1,2, figsize=(16,8))\n",
    "ax[0].plot(history.history['loss'], color='b', label=\"Training loss\")\n",
    "ax[0].plot(history.history['val_loss'], color='r', label=\"validation loss\",axes =ax[0])\n",
    "legend = ax[0].legend(loc='best', shadow=True)\n",
    "\n",
    "ax[1].plot(history.history['accuracy'], color='b', label=\"Training accuracy\")\n",
    "ax[1].plot(history.history['val_accuracy'], color='r',label=\"Validation accuracy\")\n",
    "legend = ax[1].legend(loc='best', shadow=True)"
   ]
  },
  {
   "cell_type": "code",
   "execution_count": 17,
   "metadata": {
    "execution": {
     "iopub.execute_input": "2022-03-12T20:45:01.850748Z",
     "iopub.status.busy": "2022-03-12T20:45:01.849850Z",
     "iopub.status.idle": "2022-03-12T20:45:02.910427Z",
     "shell.execute_reply": "2022-03-12T20:45:02.909887Z"
    },
    "papermill": {
     "duration": 3.854755,
     "end_time": "2022-03-12T20:45:02.910578",
     "exception": false,
     "start_time": "2022-03-12T20:44:59.055823",
     "status": "completed"
    },
    "tags": []
   },
   "outputs": [],
   "source": [
    "from tensorflow.keras.models import load_model\n",
    "# Load the best saved model\n",
    "model = load_model('model.h5')"
   ]
  },
  {
   "cell_type": "code",
   "execution_count": 18,
   "metadata": {
    "ExecuteTime": {
     "end_time": "2019-01-08T21:36:39.779842Z",
     "start_time": "2019-01-08T21:36:38.946173Z"
    },
    "execution": {
     "iopub.execute_input": "2022-03-12T20:45:08.815875Z",
     "iopub.status.busy": "2022-03-12T20:45:08.814881Z",
     "iopub.status.idle": "2022-03-12T20:45:09.418719Z",
     "shell.execute_reply": "2022-03-12T20:45:09.419195Z"
    },
    "papermill": {
     "duration": 3.671488,
     "end_time": "2022-03-12T20:45:09.419339",
     "exception": false,
     "start_time": "2022-03-12T20:45:05.747851",
     "status": "completed"
    },
    "tags": []
   },
   "outputs": [
    {
     "name": "stdout",
     "output_type": "stream",
     "text": [
      "Validation loss: 0.0168805504869204\n",
      "Validation accuracy: 0.9952\n"
     ]
    }
   ],
   "source": [
    "# Testa\n",
    "score = model.evaluate(x_valid, y_valid, verbose=0)\n",
    "print('Validation loss:', score[0])\n",
    "print('Validation accuracy:', score[1])"
   ]
  },
  {
   "cell_type": "code",
   "execution_count": 19,
   "metadata": {
    "ExecuteTime": {
     "end_time": "2019-01-08T21:06:04.363715Z",
     "start_time": "2019-01-08T21:06:04.27849Z"
    },
    "execution": {
     "iopub.execute_input": "2022-03-12T20:45:15.009615Z",
     "iopub.status.busy": "2022-03-12T20:45:15.008684Z",
     "iopub.status.idle": "2022-03-12T20:45:15.400671Z",
     "shell.execute_reply": "2022-03-12T20:45:15.399991Z"
    },
    "papermill": {
     "duration": 3.178902,
     "end_time": "2022-03-12T20:45:15.400806",
     "exception": false,
     "start_time": "2022-03-12T20:45:12.221904",
     "status": "completed"
    },
    "tags": []
   },
   "outputs": [
    {
     "data": {
      "image/png": "[encoded data removed]",
      "text/plain": [
       "<Figure size 1008x1008 with 6 Axes>"
      ]
     },
     "metadata": {
      "needs_background": "light"
     },
     "output_type": "display_data"
    }
   ],
   "source": [
    "#Visualizando as predições no subset de validação\n",
    "plt.figure(figsize=(14,14)) \n",
    "pred_images = model.predict(x_valid[0:6,:,:,:])\n",
    "for i in range(6): #show 6 images \n",
    "    ax = plt.subplot(3,3,i+1)\n",
    "    plt.imshow(x_valid[i,:,:,0],cmap=\"Greys\")\n",
    "    y_pred_valid = pred_images[i]\n",
    "    plt.title(f\"Número previsto: {np.argmax(y_pred_valid)} \\n Número real: {np.argmax(y_valid[i])}\",\n",
    "             fontsize=10)\n",
    "    plt.axis(\"off\")"
   ]
  },
  {
   "cell_type": "markdown",
   "metadata": {
    "papermill": {
     "duration": 2.862436,
     "end_time": "2022-03-12T20:45:21.372605",
     "exception": false,
     "start_time": "2022-03-12T20:45:18.510169",
     "status": "completed"
    },
    "tags": []
   },
   "source": [
    "<h1> Avaliando o modelo \n",
    "<a id=\"avaliacao\" href=\"#avaliacao\" class=\"anchor-link\">¶</a>    \n",
    "</h1>"
   ]
  },
  {
   "cell_type": "code",
   "execution_count": 20,
   "metadata": {
    "execution": {
     "iopub.execute_input": "2022-03-12T20:45:27.473481Z",
     "iopub.status.busy": "2022-03-12T20:45:27.468529Z",
     "iopub.status.idle": "2022-03-12T20:45:27.476610Z",
     "shell.execute_reply": "2022-03-12T20:45:27.476070Z"
    },
    "papermill": {
     "duration": 3.296468,
     "end_time": "2022-03-12T20:45:27.476724",
     "exception": false,
     "start_time": "2022-03-12T20:45:24.180256",
     "status": "completed"
    },
    "tags": []
   },
   "outputs": [],
   "source": [
    "import itertools\n",
    "\n",
    "#Plot the confusion matrix. Set Normalize = True/False\n",
    "def plot_confusion_matrix(cm, classes, normalize=True, title='Confusion matrix', cmap=plt.cm.Blues):\n",
    "    \"\"\"\n",
    "    This function prints and plots the confusion matrix.\n",
    "    Normalization can be applied by setting `normalize=True`.\n",
    "    \"\"\"\n",
    "    plt.figure(figsize=(10,10))\n",
    "    plt.imshow(cm, interpolation='nearest', cmap=cmap)\n",
    "    plt.title(title)\n",
    "    plt.colorbar()\n",
    "    tick_marks = np.arange(len(classes))\n",
    "    plt.xticks(tick_marks, classes, rotation=45)\n",
    "    plt.yticks(tick_marks, classes)\n",
    "    if normalize:\n",
    "        cm = cm.astype('float') / cm.sum(axis=1)[:, np.newaxis]\n",
    "        cm = np.around(cm, decimals=2)\n",
    "        cm[np.isnan(cm)] = 0.0\n",
    "    thresh = cm.max() / 2.\n",
    "    for i, j in itertools.product(range(cm.shape[0]), range(cm.shape[1])):\n",
    "        plt.text(j, i, cm[i, j],\n",
    "                 horizontalalignment=\"center\",\n",
    "                 color=\"white\" if cm[i, j] > thresh else \"black\")\n",
    "    plt.tight_layout()\n",
    "    plt.ylabel('True label')\n",
    "    plt.xlabel('Predicted label')"
   ]
  },
  {
   "cell_type": "code",
   "execution_count": 21,
   "metadata": {
    "ExecuteTime": {
     "end_time": "2019-01-08T21:24:57.7654Z",
     "start_time": "2019-01-08T21:24:57.220867Z"
    },
    "execution": {
     "iopub.execute_input": "2022-03-12T20:45:33.430541Z",
     "iopub.status.busy": "2022-03-12T20:45:33.429579Z",
     "iopub.status.idle": "2022-03-12T20:45:34.375877Z",
     "shell.execute_reply": "2022-03-12T20:45:34.376305Z"
    },
    "papermill": {
     "duration": 3.7928,
     "end_time": "2022-03-12T20:45:34.376448",
     "exception": false,
     "start_time": "2022-03-12T20:45:30.583648",
     "status": "completed"
    },
    "tags": []
   },
   "outputs": [
    {
     "name": "stdout",
     "output_type": "stream",
     "text": [
      "Classification Report\n",
      "              precision    recall  f1-score   support\n",
      "\n",
      "           0       0.99      1.00      1.00       520\n",
      "           1       1.00      1.00      1.00       563\n",
      "           2       1.00      0.99      1.00       465\n",
      "           3       0.99      1.00      1.00       530\n",
      "           4       1.00      0.99      0.99       521\n",
      "           5       1.00      0.99      0.99       415\n",
      "           6       1.00      1.00      1.00       494\n",
      "           7       1.00      1.00      1.00       506\n",
      "           8       0.99      0.99      0.99       485\n",
      "           9       0.99      0.99      0.99       501\n",
      "\n",
      "    accuracy                           1.00      5000\n",
      "   macro avg       1.00      1.00      1.00      5000\n",
      "weighted avg       1.00      1.00      1.00      5000\n",
      "\n"
     ]
    },
    {
     "data": {
      "image/png": "[encoded data removed]",
      "text/plain": [
       "<Figure size 720x720 with 2 Axes>"
      ]
     },
     "metadata": {
      "needs_background": "light"
     },
     "output_type": "display_data"
    }
   ],
   "source": [
    "# Vendo alguns reports# Vendo alguns reports\n",
    "# Usando sklearn\n",
    "import numpy as np\n",
    "\n",
    "# Classificando toda base de teste\n",
    "y_pred = model.predict_classes(x_valid)\n",
    "# voltando pro formato de classes\n",
    "y_test_c = np.argmax(y_valid, axis=1)\n",
    "target_names = ['0', '1', '2', '3', '4', '5', '6', '7', '8', '9']\n",
    "\n",
    "#Confution Matrix\n",
    "cm = confusion_matrix(y_test_c, y_pred)\n",
    "plot_confusion_matrix(cm, target_names, normalize=False, title='Confusion Matrix')\n",
    "\n",
    "print('Classification Report')\n",
    "print(classification_report(y_test_c, y_pred, target_names=target_names))"
   ]
  },
  {
   "cell_type": "markdown",
   "metadata": {
    "papermill": {
     "duration": 3.054464,
     "end_time": "2022-03-12T20:45:40.259935",
     "exception": false,
     "start_time": "2022-03-12T20:45:37.205471",
     "status": "completed"
    },
    "tags": []
   },
   "source": [
    "<h1>Gerando saída\n",
    " <a id=\"saida\" class=\"anchor-link\" href=\"#saida\">¶</a>\n",
    "</h1>"
   ]
  },
  {
   "cell_type": "code",
   "execution_count": 22,
   "metadata": {
    "execution": {
     "iopub.execute_input": "2022-03-12T20:45:45.880557Z",
     "iopub.status.busy": "2022-03-12T20:45:45.879662Z",
     "iopub.status.idle": "2022-03-12T20:45:47.902130Z",
     "shell.execute_reply": "2022-03-12T20:45:47.901436Z"
    },
    "papermill": {
     "duration": 4.831412,
     "end_time": "2022-03-12T20:45:47.902241",
     "exception": false,
     "start_time": "2022-03-12T20:45:43.070829",
     "status": "completed"
    },
    "tags": []
   },
   "outputs": [
    {
     "data": {
      "image/png": "[encoded data removed]",
      "text/plain": [
       "<Figure size 1008x1008 with 6 Axes>"
      ]
     },
     "metadata": {
      "needs_background": "light"
     },
     "output_type": "display_data"
    }
   ],
   "source": [
    "# Gerando saída para dataset de teste\n",
    "\n",
    "# Faz classificação para dataset de teste\n",
    "y_pred_test = model.predict_classes(x_test)\n",
    "\n",
    "# Visualizando exemplos\n",
    "plt.figure(figsize=(14,14))\n",
    "for i in range(6): #show 6 images \n",
    "    ax = plt.subplot(3,3,i+1)\n",
    "    plt.imshow(x_test[i,:,:,0],cmap=\"Greys\")\n",
    "    plt.title(f\"Número previsto: {y_pred_test[i]}\",\n",
    "             fontsize=10)\n",
    "    plt.axis(\"off\")"
   ]
  },
  {
   "cell_type": "markdown",
   "metadata": {
    "papermill": {
     "duration": 2.787517,
     "end_time": "2022-03-12T20:45:53.729645",
     "exception": false,
     "start_time": "2022-03-12T20:45:50.942128",
     "status": "completed"
    },
    "tags": []
   },
   "source": [
    "<h1>Criando um bagging ensemble\n",
    "    <a id=\"bagging\" class=\"anchor-link\" href=\"bagging\">¶</a>\n",
    "</h1>"
   ]
  },
  {
   "cell_type": "markdown",
   "metadata": {
    "papermill": {
     "duration": 3.316842,
     "end_time": "2022-03-12T20:45:59.847369",
     "exception": false,
     "start_time": "2022-03-12T20:45:56.530527",
     "status": "completed"
    },
    "tags": []
   },
   "source": [
    "Um bagging ensemble procura treinar um único modelo com diferentes dados do datasets e ao final as predições são feitas com base em quem teve uma maior frequência entre os modelos para o caso de classificação ou a média dos resultados para problemas de regressão.\n",
    "\n",
    "<div style=\" display: block; margin-left: auto; margin-right: auto; width: 50%;\">\n",
    "<img src=\"https://images.ctfassets.net/8qlu80sl3ynp/6B8g45iTyrQusAbnPNCU0O/413773241fda93830de7b6c6922d06aa/knowledge_ensemble_bagging.png\" alt=\"bagging\"/>\n",
    "</div>\n",
    "\n",
    "\n",
    "\n",
    "Ao criar diferentes subsets de treino podemos ter dados com repetição, ou seja, quem apareceu no primeiro subset de treino pode aparecer nos outros (isso é conhecido como o bagging) mas é possível não repetir os dados,então, os modelos veem apenas partes do conjunto total de treinamento (isso é conhecido como pasting). \n",
    "\n",
    "Em geral, os modelos criados pelo bagging ensemble tem um bias maior do que um único modelo criado com os dados de treinamento, contudo, a agregação dos resultados reduz tanto o bias quanto a variância, logo, obtemos um modelo com bias similar ao de um único modelo criado com os dados de treinamento porém com uma variância menor em relação ao mesmo.\n",
    "\n"
   ]
  },
  {
   "cell_type": "markdown",
   "metadata": {
    "papermill": {
     "duration": 2.749959,
     "end_time": "2022-03-12T20:46:05.685120",
     "exception": false,
     "start_time": "2022-03-12T20:46:02.935161",
     "status": "completed"
    },
    "tags": []
   },
   "source": [
    "Os passos para criar o bagging ensemble são os seguintes:\n",
    "\n",
    "<ol style=\"list-style-type:upper-roman\">\n",
    "    <li>vamos criar uma função fit_model para criar um único modelo base para o ensemble.</li>\n",
    "    <li> Em seguida, a função ensemble_models cria N modelos (definidos por n_estimators) com uma quantidade máxima de M dados (definido por max_samples). Para garantir o bagging, a função resample da scikit learn realiza um shuffle dos indexes dos dados de treinamento recebidos e para cada iteração seleciona partes dos mesmos (podendo ou não ter repetição). </li>\n",
    "    <li>Ao final, as predições dos modelos são feitas pela função ensemble_predicitons, nela as predições dos modelos são somadas e o resultado final é definido por aquela classe que teve maior % probabilidade nesse agregação. </li>\n",
    "</ol>"
   ]
  },
  {
   "cell_type": "code",
   "execution_count": 23,
   "metadata": {
    "execution": {
     "iopub.execute_input": "2022-03-12T20:46:11.389126Z",
     "iopub.status.busy": "2022-03-12T20:46:11.388178Z",
     "iopub.status.idle": "2022-03-12T20:46:11.390890Z",
     "shell.execute_reply": "2022-03-12T20:46:11.391353Z"
    },
    "papermill": {
     "duration": 2.880227,
     "end_time": "2022-03-12T20:46:11.391522",
     "exception": false,
     "start_time": "2022-03-12T20:46:08.511295",
     "status": "completed"
    },
    "tags": []
   },
   "outputs": [],
   "source": [
    "## Criando bagging emsemble \n",
    "\n",
    "#função para criar um único modelo \n",
    "def fit_model(X_train,y_train,X_valid,y_valid,with_aug=True):\n",
    "    #definindo callbacks\n",
    "    callbacks_list = [\n",
    "        keras.callbacks.EarlyStopping(monitor='val_loss', patience=5,verbose=1,restore_best_weights=True),\n",
    "        keras.callbacks.ReduceLROnPlateau(monitor='val_loss', factor=0.1,\n",
    "                              patience=2, min_lr=0.00001)\n",
    "    \n",
    "]\n",
    "    optimizer = Adam(epsilon=0.01,learning_rate=0.01)\n",
    "    \n",
    "    ####definindo modelo base \n",
    "    model = Sequential()\n",
    "    model.add(InputLayer(input_shape=(28,28,1)))\n",
    "    #primeira camada de conv\n",
    "    model.add(Conv2D(32,kernel_size=5,activation=\"relu\",padding=\"same\"))\n",
    "    model.add(MaxPooling2D()),\n",
    "    model.add(Dropout(0.15))\n",
    "    model.add(BatchNormalization())\n",
    "\n",
    "    #segunda camada de conv\n",
    "    model.add(Conv2D(64,kernel_size=3,activation=\"relu\",padding=\"same\"))\n",
    "    model.add(MaxPooling2D(pool_size=(1,1))),\n",
    "    model.add(Dropout(0.15))\n",
    "    model.add(BatchNormalization())\n",
    "\n",
    "    #terceira camada de conv\n",
    "    model.add(Conv2D(64,kernel_size=3,activation=\"relu\",padding=\"same\"))\n",
    "    model.add(Conv2D(64,kernel_size=3,activation=\"relu\",padding=\"same\"))\n",
    "    model.add(MaxPooling2D(pool_size=(1,1)))\n",
    "    model.add(Dropout(0.25))\n",
    "\n",
    "    #camada de classficação\n",
    "    model.add(BatchNormalization())\n",
    "    model.add(GlobalMaxPooling2D())\n",
    "    model.add(Dropout(0.15))\n",
    "    model.add(Dense(10,activation=\"softmax\"))\n",
    "    \n",
    "    if with_aug:\n",
    "        dataGen = tf.keras.preprocessing.image.ImageDataGenerator(\n",
    "            rotation_range=10,\n",
    "            zoom_range = 0.20,\n",
    "            width_shift_range=0.1,\n",
    "            height_shift_range=0.1\n",
    "        )\n",
    "        model.compile(loss='categorical_crossentropy', optimizer=optimizer, metrics=['accuracy'])\n",
    "        model.fit(dataGen.flow(X_train,y_train),validation_data=(X_valid,y_valid),epochs=30,verbose=0)\n",
    "        val_loss,val_acc = model.evaluate(X_valid,y_valid,verbose=0)\n",
    "    else:\n",
    "        model.compile(loss='categorical_crossentropy', optimizer=optimizer, metrics=['accuracy'])\n",
    "        model.fit(X_train,y_train,validation_data=(X_valid,y_valid),epochs=30,verbose=0)\n",
    "        val_loss,val_acc = model.evaluate(X_valid,y_valid,verbose=0)\n",
    "        \n",
    "    return model,val_loss,val_acc"
   ]
  },
  {
   "cell_type": "code",
   "execution_count": 24,
   "metadata": {
    "execution": {
     "iopub.execute_input": "2022-03-12T20:46:17.298836Z",
     "iopub.status.busy": "2022-03-12T20:46:17.297927Z",
     "iopub.status.idle": "2022-03-12T20:46:17.300956Z",
     "shell.execute_reply": "2022-03-12T20:46:17.300503Z"
    },
    "papermill": {
     "duration": 2.816874,
     "end_time": "2022-03-12T20:46:17.301060",
     "exception": false,
     "start_time": "2022-03-12T20:46:14.484186",
     "status": "completed"
    },
    "tags": []
   },
   "outputs": [],
   "source": [
    "#criando ensemble de modelos \n",
    "def ensemble_models(X_train,y_train,n_estimators=5,max_samples=100):\n",
    "    models = []\n",
    "    val_losses = []\n",
    "    scores = []\n",
    "    for i in range(n_estimators):\n",
    "        #select indexes\n",
    "        ix = [ix for ix in range(len(X_train))]\n",
    "        #resample faz um \"shuffle\" dos indexes das matrizes\n",
    "        #bagging precisa do replace = True\n",
    "        train_ix = resample(ix,replace=True,n_samples=max_samples)\n",
    "        valid_ix = [x for x in ix if x not in train_ix]\n",
    "        #select data\n",
    "        X_train_en,X_valid_en = X_train[train_ix],X_train[valid_ix]\n",
    "        y_train_en,y_valid_en = y_train[train_ix],y_train[valid_ix]\n",
    "        #evaluate models\n",
    "        model,val_loss,val_acc = fit_model(X_train_en,y_train_en,X_valid_en,y_valid_en)\n",
    "        models.append(model)\n",
    "        val_losses.append(val_loss)\n",
    "        scores.append(val_acc)\n",
    "        \n",
    "    return models,val_losses,scores"
   ]
  },
  {
   "cell_type": "code",
   "execution_count": 25,
   "metadata": {
    "execution": {
     "iopub.execute_input": "2022-03-12T20:46:23.192905Z",
     "iopub.status.busy": "2022-03-12T20:46:23.191933Z",
     "iopub.status.idle": "2022-03-12T20:46:23.196596Z",
     "shell.execute_reply": "2022-03-12T20:46:23.197248Z"
    },
    "papermill": {
     "duration": 3.101289,
     "end_time": "2022-03-12T20:46:23.197428",
     "exception": false,
     "start_time": "2022-03-12T20:46:20.096139",
     "status": "completed"
    },
    "tags": []
   },
   "outputs": [],
   "source": [
    "#realizando predições \n",
    "def ensemble_predictions(models,X_valid):\n",
    "    ##armazena predições em array\n",
    "    all_preds = [model.predict(X_valid) for model in models]\n",
    "    #transforma a lista em numpy array\n",
    "    all_preds = np.array(all_preds)\n",
    "    #faz a soma de todas as probabilidades das predições dos modelos\n",
    "    summed = np.sum(all_preds,axis=0)\n",
    "    #argmax across classes\n",
    "    result = np.argmax(summed, axis=1)\n",
    "    return result"
   ]
  },
  {
   "cell_type": "markdown",
   "metadata": {
    "papermill": {
     "duration": 2.81748,
     "end_time": "2022-03-12T20:46:28.840579",
     "exception": false,
     "start_time": "2022-03-12T20:46:26.023099",
     "status": "completed"
    },
    "tags": []
   },
   "source": [
    "Para facilitar a validação dos modelos, a função evaluate_n_members reune os modelos e aplica a função de validação nos dados de teste. \n",
    "\n",
    "A quantidade de modelos utilizados pelo ensemble é definida por n_members."
   ]
  },
  {
   "cell_type": "code",
   "execution_count": 26,
   "metadata": {
    "execution": {
     "iopub.execute_input": "2022-03-12T20:46:35.245776Z",
     "iopub.status.busy": "2022-03-12T20:46:35.244872Z",
     "iopub.status.idle": "2022-03-12T20:46:35.247388Z",
     "shell.execute_reply": "2022-03-12T20:46:35.246971Z"
    },
    "papermill": {
     "duration": 3.114027,
     "end_time": "2022-03-12T20:46:35.247510",
     "exception": false,
     "start_time": "2022-03-12T20:46:32.133483",
     "status": "completed"
    },
    "tags": []
   },
   "outputs": [],
   "source": [
    "#avaliando os modelos \n",
    "def evaluate_n_members(members, n_members, X_valid, y_valid):\n",
    "\t# select a subset of members\n",
    "\tsubset = members[:n_members]\n",
    "\t# make prediction\n",
    "\ty_pred = ensemble_predictions(subset, X_valid)\n",
    "\t# calculate accuracy\n",
    "\treturn accuracy_score(y_valid, y_pred)"
   ]
  },
  {
   "cell_type": "code",
   "execution_count": 27,
   "metadata": {
    "execution": {
     "iopub.execute_input": "2022-03-12T20:46:40.787660Z",
     "iopub.status.busy": "2022-03-12T20:46:40.786042Z",
     "iopub.status.idle": "2022-03-12T21:14:08.098686Z",
     "shell.execute_reply": "2022-03-12T21:14:08.097563Z"
    },
    "papermill": {
     "duration": 1650.090214,
     "end_time": "2022-03-12T21:14:08.098826",
     "exception": false,
     "start_time": "2022-03-12T20:46:38.008612",
     "status": "completed"
    },
    "tags": []
   },
   "outputs": [],
   "source": [
    "qtde_modelos = 5\n",
    "models,val_losses,scores = ensemble_models(x_train,y_train,n_estimators=qtde_modelos,max_samples=20000)"
   ]
  },
  {
   "cell_type": "code",
   "execution_count": 28,
   "metadata": {
    "execution": {
     "iopub.execute_input": "2022-03-12T21:14:13.921511Z",
     "iopub.status.busy": "2022-03-12T21:14:13.919297Z",
     "iopub.status.idle": "2022-03-12T21:14:13.924003Z",
     "shell.execute_reply": "2022-03-12T21:14:13.922055Z"
    },
    "papermill": {
     "duration": 2.921017,
     "end_time": "2022-03-12T21:14:13.924119",
     "exception": false,
     "start_time": "2022-03-12T21:14:11.003102",
     "status": "completed"
    },
    "tags": []
   },
   "outputs": [
    {
     "name": "stdout",
     "output_type": "stream",
     "text": [
      "Acurácia média de todos os modelos: 0.9918\n",
      "Validation loss média de todos os modelos:0.0288\n"
     ]
    }
   ],
   "source": [
    "print(f\"Acurácia média de todos os modelos: {np.mean(scores):.4f}\")\n",
    "print(f\"Validation loss média de todos os modelos:{np.mean(val_losses):.4f}\")"
   ]
  },
  {
   "cell_type": "code",
   "execution_count": 29,
   "metadata": {
    "execution": {
     "iopub.execute_input": "2022-03-12T21:14:19.860066Z",
     "iopub.status.busy": "2022-03-12T21:14:19.859110Z",
     "iopub.status.idle": "2022-03-12T21:14:27.714979Z",
     "shell.execute_reply": "2022-03-12T21:14:27.713978Z"
    },
    "papermill": {
     "duration": 10.67786,
     "end_time": "2022-03-12T21:14:27.715095",
     "exception": false,
     "start_time": "2022-03-12T21:14:17.037235",
     "status": "completed"
    },
    "tags": []
   },
   "outputs": [
    {
     "name": "stdout",
     "output_type": "stream",
     "text": [
      "single score accuracy: 0.9906, ensemble score accuracy: 0.9906\n",
      "single score accuracy: 0.9944, ensemble score accuracy: 0.9942\n",
      "single score accuracy: 0.9918, ensemble score accuracy: 0.9950\n",
      "single score accuracy: 0.9926, ensemble score accuracy: 0.9946\n",
      "single score accuracy: 0.9914, ensemble score accuracy: 0.9948\n"
     ]
    }
   ],
   "source": [
    "#avaliando o ensemble e os modelos únicos \n",
    "for i in range(1,qtde_modelos+1):\n",
    "    ensemble_score = evaluate_n_members(models,i,x_valid,np.argmax(y_valid,axis=1))\n",
    "    _,single_score = models[i-1].evaluate(x_valid,y_valid,verbose=0)\n",
    "    print(f\"single score accuracy: {single_score:.4f}, ensemble score accuracy: {ensemble_score:.4f}\")\n",
    "    "
   ]
  },
  {
   "cell_type": "code",
   "execution_count": 30,
   "metadata": {
    "execution": {
     "iopub.execute_input": "2022-03-12T21:14:33.987020Z",
     "iopub.status.busy": "2022-03-12T21:14:33.986083Z",
     "iopub.status.idle": "2022-03-12T21:14:35.528713Z",
     "shell.execute_reply": "2022-03-12T21:14:35.527603Z"
    },
    "papermill": {
     "duration": 4.886913,
     "end_time": "2022-03-12T21:14:35.528842",
     "exception": false,
     "start_time": "2022-03-12T21:14:30.641929",
     "status": "completed"
    },
    "tags": []
   },
   "outputs": [
    {
     "name": "stdout",
     "output_type": "stream",
     "text": [
      "Acurácia final do ensemble: 0.9948\n"
     ]
    }
   ],
   "source": [
    "#verificando nos dados do teste \n",
    "val_acc = evaluate_n_members(models,qtde_modelos,x_valid,np.argmax(y_valid,axis=1))\n",
    "print(f\"Acurácia final do ensemble: {val_acc:.4f}\")"
   ]
  },
  {
   "cell_type": "code",
   "execution_count": 31,
   "metadata": {
    "execution": {
     "iopub.execute_input": "2022-03-12T21:14:41.585774Z",
     "iopub.status.busy": "2022-03-12T21:14:41.580517Z",
     "iopub.status.idle": "2022-03-12T21:14:41.830800Z",
     "shell.execute_reply": "2022-03-12T21:14:41.829948Z"
    },
    "papermill": {
     "duration": 3.181551,
     "end_time": "2022-03-12T21:14:41.830931",
     "exception": false,
     "start_time": "2022-03-12T21:14:38.649380",
     "status": "completed"
    },
    "tags": []
   },
   "outputs": [],
   "source": [
    "#salvando modelos \n",
    "import os\n",
    "##criando diretorio no /kaggle/working --diretorio atual\n",
    "os.mkdir(\"./ensemble_models\")\n",
    "for i in range(len(models)):\n",
    "    model = models[i]\n",
    "    model.save(f\"./ensemble_models/model_{i+1}.h5\")\n",
    "    "
   ]
  },
  {
   "cell_type": "code",
   "execution_count": 32,
   "metadata": {
    "execution": {
     "iopub.execute_input": "2022-03-12T21:14:47.665785Z",
     "iopub.status.busy": "2022-03-12T21:14:47.664843Z",
     "iopub.status.idle": "2022-03-12T21:14:48.345592Z",
     "shell.execute_reply": "2022-03-12T21:14:48.346790Z"
    },
    "papermill": {
     "duration": 3.600256,
     "end_time": "2022-03-12T21:14:48.346990",
     "exception": false,
     "start_time": "2022-03-12T21:14:44.746734",
     "status": "completed"
    },
    "tags": []
   },
   "outputs": [
    {
     "data": {
      "image/png": "[encoded data removed]",
      "text/plain": [
       "<Figure size 1008x1008 with 6 Axes>"
      ]
     },
     "metadata": {
      "needs_background": "light"
     },
     "output_type": "display_data"
    }
   ],
   "source": [
    "#Visualizando as predições no subset de validação\n",
    "plt.figure(figsize=(14,14)) \n",
    "pred_images_en_valid = ensemble_predictions(models,x_valid[6:12,:,:,:])\n",
    "for i in range(6): #show 6 images \n",
    "    ax = plt.subplot(3,3,i+1)\n",
    "    #de 6 em diante\n",
    "    plt.imshow(x_valid[6+i,:,:,0],cmap=\"Greys\")\n",
    "    plt.title(f\"Número previsto: {pred_images_en_valid[i]} \\n Número real: {np.argmax(y_valid[6+i])}\",\n",
    "             fontsize=10)\n",
    "    plt.axis(\"off\")"
   ]
  },
  {
   "cell_type": "markdown",
   "metadata": {
    "papermill": {
     "duration": 2.872065,
     "end_time": "2022-03-12T21:14:54.061728",
     "exception": false,
     "start_time": "2022-03-12T21:14:51.189663",
     "status": "completed"
    },
    "tags": []
   },
   "source": [
    "<h1>Avalaindo o ensemble\n",
    " <a id=\"avalicao_en\" class=\"anchor-link\" href=\"#avaliacao_en\">¶</a>\n",
    "</h1>"
   ]
  },
  {
   "cell_type": "code",
   "execution_count": 33,
   "metadata": {
    "execution": {
     "iopub.execute_input": "2022-03-12T21:15:00.090013Z",
     "iopub.status.busy": "2022-03-12T21:15:00.088973Z",
     "iopub.status.idle": "2022-03-12T21:15:02.270989Z",
     "shell.execute_reply": "2022-03-12T21:15:02.271605Z"
    },
    "papermill": {
     "duration": 5.326851,
     "end_time": "2022-03-12T21:15:02.271748",
     "exception": false,
     "start_time": "2022-03-12T21:14:56.944897",
     "status": "completed"
    },
    "tags": []
   },
   "outputs": [
    {
     "data": {
      "image/png": "[encoded data removed]",
      "text/plain": [
       "<Figure size 720x720 with 2 Axes>"
      ]
     },
     "metadata": {
      "needs_background": "light"
     },
     "output_type": "display_data"
    }
   ],
   "source": [
    "#vamos avaliar pela matriz de confusão \n",
    "\n",
    "y_pred_en = ensemble_predictions(models,x_valid)\n",
    "\n",
    "#Confution Matrix\n",
    "cm_en = confusion_matrix(np.argmax(y_valid,axis=1), y_pred_en)\n",
    "plot_confusion_matrix(cm_en, target_names, normalize=False, title='Confusion Matrix for Ensemble in validation data')"
   ]
  },
  {
   "cell_type": "code",
   "execution_count": 34,
   "metadata": {
    "execution": {
     "iopub.execute_input": "2022-03-12T21:15:08.683309Z",
     "iopub.status.busy": "2022-03-12T21:15:08.682270Z",
     "iopub.status.idle": "2022-03-12T21:15:08.701332Z",
     "shell.execute_reply": "2022-03-12T21:15:08.701885Z"
    },
    "papermill": {
     "duration": 2.941614,
     "end_time": "2022-03-12T21:15:08.702040",
     "exception": false,
     "start_time": "2022-03-12T21:15:05.760426",
     "status": "completed"
    },
    "tags": []
   },
   "outputs": [
    {
     "name": "stdout",
     "output_type": "stream",
     "text": [
      "Classification Report for Ensemble in validation data\n",
      "              precision    recall  f1-score   support\n",
      "\n",
      "           0       0.99      1.00      1.00       520\n",
      "           1       1.00      1.00      1.00       563\n",
      "           2       1.00      0.99      1.00       465\n",
      "           3       0.99      1.00      1.00       530\n",
      "           4       1.00      0.99      0.99       521\n",
      "           5       1.00      0.99      0.99       415\n",
      "           6       1.00      1.00      1.00       494\n",
      "           7       1.00      1.00      1.00       506\n",
      "           8       0.99      0.99      0.99       485\n",
      "           9       0.99      0.99      0.99       501\n",
      "\n",
      "    accuracy                           1.00      5000\n",
      "   macro avg       1.00      1.00      1.00      5000\n",
      "weighted avg       1.00      1.00      1.00      5000\n",
      "\n"
     ]
    }
   ],
   "source": [
    "#mostrando o report \n",
    "print('Classification Report for Ensemble in validation data')\n",
    "print(classification_report(np.argmax(y_valid,axis=1), y_pred, target_names=target_names))"
   ]
  },
  {
   "cell_type": "markdown",
   "metadata": {
    "papermill": {
     "duration": 2.806962,
     "end_time": "2022-03-12T21:15:14.758096",
     "exception": false,
     "start_time": "2022-03-12T21:15:11.951134",
     "status": "completed"
    },
    "tags": []
   },
   "source": [
    "<h1>Gerando a saída do ensemble <a id=\"saida_en\" class= \"anchor-link\"href=\"#saida_en\">¶</a><h1>\n",
    " "
   ]
  },
  {
   "cell_type": "code",
   "execution_count": 35,
   "metadata": {
    "execution": {
     "iopub.execute_input": "2022-03-12T21:15:20.400825Z",
     "iopub.status.busy": "2022-03-12T21:15:20.399944Z",
     "iopub.status.idle": "2022-03-12T21:15:29.770916Z",
     "shell.execute_reply": "2022-03-12T21:15:29.770342Z"
    },
    "papermill": {
     "duration": 12.208523,
     "end_time": "2022-03-12T21:15:29.771033",
     "exception": false,
     "start_time": "2022-03-12T21:15:17.562510",
     "status": "completed"
    },
    "tags": []
   },
   "outputs": [
    {
     "data": {
      "image/png": "[encoded data removed]",
      "text/plain": [
       "<Figure size 1008x1008 with 6 Axes>"
      ]
     },
     "metadata": {
      "needs_background": "light"
     },
     "output_type": "display_data"
    }
   ],
   "source": [
    "#realizando predições nos dados de teste\n",
    "\n",
    "# Faz classificação para dataset de teste\n",
    "y_pred_test_en = ensemble_predictions(models,x_test)\n",
    "\n",
    "# Visualizando exemplos\n",
    "plt.figure(figsize=(14,14))\n",
    "for i in range(6): #show 6 images \n",
    "    ax = plt.subplot(3,3,i+1)\n",
    "    #pegando a partir de 10 em diante\n",
    "    plt.imshow(x_test[10+i,:,:,0],cmap=\"Greys\")\n",
    "    plt.title(f\"Número previsto: {y_pred_test_en[10+i]}\",\n",
    "             fontsize=10)\n",
    "    plt.axis(\"off\")"
   ]
  },
  {
   "cell_type": "code",
   "execution_count": 36,
   "metadata": {
    "execution": {
     "iopub.execute_input": "2022-03-12T21:15:35.635543Z",
     "iopub.status.busy": "2022-03-12T21:15:35.632061Z",
     "iopub.status.idle": "2022-03-12T21:15:35.736661Z",
     "shell.execute_reply": "2022-03-12T21:15:35.737307Z"
    },
    "papermill": {
     "duration": 2.90213,
     "end_time": "2022-03-12T21:15:35.737508",
     "exception": false,
     "start_time": "2022-03-12T21:15:32.835378",
     "status": "completed"
    },
    "tags": []
   },
   "outputs": [
    {
     "name": "stdout",
     "output_type": "stream",
     "text": [
      "   ImageId  Label\n",
      "0        1      2\n",
      "1        2      0\n",
      "2        3      9\n",
      "3        4      0\n",
      "4        5      3\n",
      "5        6      7\n",
      "6        7      0\n",
      "7        8      3\n",
      "8        9      0\n",
      "9       10      3\n"
     ]
    }
   ],
   "source": [
    "##armazenando dados para submissão \n",
    "\n",
    "results = pd.Series(y_pred_test_en,name=\"Label\")\n",
    "submission = pd.concat([pd.Series(range(1,len(y_pred_test_en)+1),name = \"ImageId\"),results],axis = 1)\n",
    "print(submission.head(10))\n",
    "#Salvando Arquivo\n",
    "submission.to_csv(\"submission.csv\",index=False)"
   ]
  },
  {
   "cell_type": "markdown",
   "metadata": {
    "papermill": {
     "duration": 2.772447,
     "end_time": "2022-03-12T21:15:41.834886",
     "exception": false,
     "start_time": "2022-03-12T21:15:39.062439",
     "status": "completed"
    },
    "tags": []
   },
   "source": [
    "*Referencias*\n",
    "* Figueireido, Mauricio. CNN simples com Keras para Iniciantes. Disponível em: https://www.kaggle.com/mauriciofigueiredo/cnn-simples-com-keras-para-iniciantes. Acesso em: 07/03/2022.\n",
    "\n",
    "* Brownlee, Jason. How to Create a Bagging Ensemble of Deep Learning Models in Keras. Disponível em: \n",
    " https://machinelearningmastery.com/how-to-create-a-random-split-cross-validation-and-bagging-ensemble-for-deep-learning-in-keras/. Acesso em: 10/03/2022\n",
    "\n",
    "* Gérion, Aurélien. Hands-on machine learning with scikit-learn,keras and tensorflow. 2ed. Canadá: O'Reilly Media. 2019"
   ]
  },
  {
   "cell_type": "code",
   "execution_count": null,
   "metadata": {
    "papermill": {
     "duration": 2.789844,
     "end_time": "2022-03-12T21:15:47.740732",
     "exception": false,
     "start_time": "2022-03-12T21:15:44.950888",
     "status": "completed"
    },
    "tags": []
   },
   "outputs": [],
   "source": []
  }
 ],
 "metadata": {
  "kernelspec": {
   "display_name": "Python 3",
   "language": "python",
   "name": "python3"
  },
  "language_info": {
   "codemirror_mode": {
    "name": "ipython",
    "version": 3
   },
   "file_extension": ".py",
   "mimetype": "text/x-python",
   "name": "python",
   "nbconvert_exporter": "python",
   "pygments_lexer": "ipython3",
   "version": "3.7.6"
  },
  "papermill": {
   "duration": 2438.085398,
   "end_time": "2022-03-12T21:15:50.776617",
   "environment_variables": {},
   "exception": null,
   "input_path": "__notebook__.ipynb",
   "output_path": "__notebook__.ipynb",
   "parameters": {},
   "start_time": "2022-03-12T20:35:12.691219",
   "version": "2.1.0"
  }
 },
 "nbformat": 4,
 "nbformat_minor": 4
}
