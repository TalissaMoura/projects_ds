{
 "cells": [
  {
   "cell_type": "markdown",
   "source": [
    "# News Category Analysis\r\n",
    "\r\n",
    "## Objective \r\n",
    "Our main goal is to create a model that predict the category of news from their title and save the model and preprocessing functions to be used \r\n",
    "in a web application. Here are some definitions:\r\n",
    "\r\n",
    "* **Dataset used**: The dataset used is the <a href=\"https://www.kaggle.com/datasets/rmisra/news-category-dataset\">News Category Dataset</a> which contains around 210k news headlines from 2012 to 2022 from HuffPost.\r\n",
    "\r\n",
    "* **Data preprocessing**: To use text for ML algorithms we need to convert our text into vectors. But, before this the data is prepared by following this steps: first, we clean the text by removing punctuations, repetitions and contractions, after this, our text is convert to tokens (and every token is stemming by SnowballStemmer), then, we apply the tf-idf vectorizer,finally, to reduce the dimensionality of our vectors we use PCA\r\n",
    "\r\n",
    "* **Model definition and training**: Our dataset have for about 20k news, divide by 5 categories: business, art, education, science and sports. The training data contains 80% of all data, the rest is test data. As we have a good amount of data and small categories a simple logistic regression gives good results. So our model estimates what category is more likely to occur based on probabilities.\r\n",
    "\r\n",
    "## Results\r\n",
    "\r\n",
    "For training data or best model has 85% of accuracy, 84% of f1-score macro avg and 84% of f1-score weighted avg. At test data, it achieved 80% of accuracy, 78% of f1-score macro avg and 80% of f1-score weighted avg."
   ],
   "metadata": {}
  },
  {
   "cell_type": "markdown",
   "source": [
    "## Table of Contents\r\n",
    "1. [Load the data](#load_data)\r\n",
    "2. [Data preprocessing](#data_preprocessing)\r\n",
    "3. [Create Training and Test data](#create_train_test_data)\r\n",
    "4. [Defining the model](#defining_model)\r\n",
    "5. [Model Hyperparameters tuning](#model_hyperparameters)\r\n",
    "6. [Results](#results)\r\n",
    "7. [Testing](#test)\r\n"
   ],
   "metadata": {}
  },
  {
   "cell_type": "markdown",
   "source": [
    "<p id='load_data'><a href='#load_data'>#</a></p>\r\n",
    "\r\n",
    "# 1 - Load the data"
   ],
   "metadata": {}
  },
  {
   "cell_type": "code",
   "execution_count": 1,
   "source": [
    "#imports\r\n",
    "##imports for visualization and data preprocessing\r\n",
    "import matplotlib.pyplot as plt\r\n",
    "import numpy as np\r\n",
    "import pandas as pd \r\n",
    "import re\r\n",
    "import string\r\n",
    "import contractions\r\n",
    "import pickle \r\n",
    "\r\n",
    "import nltk\r\n",
    "from nltk.tokenize import word_tokenize\r\n",
    "from nltk.corpus import stopwords\r\n",
    "from nltk.stem.snowball import SnowballStemmer\r\n",
    "\r\n",
    "#imports for text preprocessing\r\n",
    "from sklearn.feature_extraction.text import TfidfVectorizer\r\n",
    "from sklearn.decomposition import PCA\r\n",
    "from sklearn.model_selection import train_test_split\r\n",
    "from sklearn.linear_model import LogisticRegression\r\n",
    "from sklearn.model_selection import RandomizedSearchCV\r\n",
    "\r\n",
    "#ML libraries\r\n",
    "\r\n",
    "from sklearn.metrics import classification_report, accuracy_score,roc_auc_score,mean_squared_error\r\n",
    "\r\n",
    "#Web Scrapping Libraries\r\n",
    "import requests\r\n",
    "from bs4 import BeautifulSoup"
   ],
   "outputs": [],
   "metadata": {}
  },
  {
   "cell_type": "code",
   "execution_count": 2,
   "source": [
    "#load data\r\n",
    "directory = r\"C:\\Users\\Talissa\\Documents\\env\\flask_projects\\newsApp\\news\\model_data\\News_Category_Dataset_v2.json\"\r\n",
    "\r\n",
    "df = pd.read_json(directory,lines=True)"
   ],
   "outputs": [],
   "metadata": {}
  },
  {
   "cell_type": "code",
   "execution_count": 3,
   "source": [
    "df.head(5)"
   ],
   "outputs": [
    {
     "output_type": "execute_result",
     "data": {
      "text/html": [
       "<div>\n",
       "<style scoped>\n",
       "    .dataframe tbody tr th:only-of-type {\n",
       "        vertical-align: middle;\n",
       "    }\n",
       "\n",
       "    .dataframe tbody tr th {\n",
       "        vertical-align: top;\n",
       "    }\n",
       "\n",
       "    .dataframe thead th {\n",
       "        text-align: right;\n",
       "    }\n",
       "</style>\n",
       "<table border=\"1\" class=\"dataframe\">\n",
       "  <thead>\n",
       "    <tr style=\"text-align: right;\">\n",
       "      <th></th>\n",
       "      <th>category</th>\n",
       "      <th>headline</th>\n",
       "      <th>authors</th>\n",
       "      <th>link</th>\n",
       "      <th>short_description</th>\n",
       "      <th>date</th>\n",
       "    </tr>\n",
       "  </thead>\n",
       "  <tbody>\n",
       "    <tr>\n",
       "      <th>0</th>\n",
       "      <td>CRIME</td>\n",
       "      <td>There Were 2 Mass Shootings In Texas Last Week...</td>\n",
       "      <td>Melissa Jeltsen</td>\n",
       "      <td>https://www.huffingtonpost.com/entry/texas-ama...</td>\n",
       "      <td>She left her husband. He killed their children...</td>\n",
       "      <td>2018-05-26</td>\n",
       "    </tr>\n",
       "    <tr>\n",
       "      <th>1</th>\n",
       "      <td>ENTERTAINMENT</td>\n",
       "      <td>Will Smith Joins Diplo And Nicky Jam For The 2...</td>\n",
       "      <td>Andy McDonald</td>\n",
       "      <td>https://www.huffingtonpost.com/entry/will-smit...</td>\n",
       "      <td>Of course it has a song.</td>\n",
       "      <td>2018-05-26</td>\n",
       "    </tr>\n",
       "    <tr>\n",
       "      <th>2</th>\n",
       "      <td>ENTERTAINMENT</td>\n",
       "      <td>Hugh Grant Marries For The First Time At Age 57</td>\n",
       "      <td>Ron Dicker</td>\n",
       "      <td>https://www.huffingtonpost.com/entry/hugh-gran...</td>\n",
       "      <td>The actor and his longtime girlfriend Anna Ebe...</td>\n",
       "      <td>2018-05-26</td>\n",
       "    </tr>\n",
       "    <tr>\n",
       "      <th>3</th>\n",
       "      <td>ENTERTAINMENT</td>\n",
       "      <td>Jim Carrey Blasts 'Castrato' Adam Schiff And D...</td>\n",
       "      <td>Ron Dicker</td>\n",
       "      <td>https://www.huffingtonpost.com/entry/jim-carre...</td>\n",
       "      <td>The actor gives Dems an ass-kicking for not fi...</td>\n",
       "      <td>2018-05-26</td>\n",
       "    </tr>\n",
       "    <tr>\n",
       "      <th>4</th>\n",
       "      <td>ENTERTAINMENT</td>\n",
       "      <td>Julianna Margulies Uses Donald Trump Poop Bags...</td>\n",
       "      <td>Ron Dicker</td>\n",
       "      <td>https://www.huffingtonpost.com/entry/julianna-...</td>\n",
       "      <td>The \"Dietland\" actress said using the bags is ...</td>\n",
       "      <td>2018-05-26</td>\n",
       "    </tr>\n",
       "  </tbody>\n",
       "</table>\n",
       "</div>"
      ],
      "text/plain": [
       "        category                                           headline  \\\n",
       "0          CRIME  There Were 2 Mass Shootings In Texas Last Week...   \n",
       "1  ENTERTAINMENT  Will Smith Joins Diplo And Nicky Jam For The 2...   \n",
       "2  ENTERTAINMENT    Hugh Grant Marries For The First Time At Age 57   \n",
       "3  ENTERTAINMENT  Jim Carrey Blasts 'Castrato' Adam Schiff And D...   \n",
       "4  ENTERTAINMENT  Julianna Margulies Uses Donald Trump Poop Bags...   \n",
       "\n",
       "           authors                                               link  \\\n",
       "0  Melissa Jeltsen  https://www.huffingtonpost.com/entry/texas-ama...   \n",
       "1    Andy McDonald  https://www.huffingtonpost.com/entry/will-smit...   \n",
       "2       Ron Dicker  https://www.huffingtonpost.com/entry/hugh-gran...   \n",
       "3       Ron Dicker  https://www.huffingtonpost.com/entry/jim-carre...   \n",
       "4       Ron Dicker  https://www.huffingtonpost.com/entry/julianna-...   \n",
       "\n",
       "                                   short_description       date  \n",
       "0  She left her husband. He killed their children... 2018-05-26  \n",
       "1                           Of course it has a song. 2018-05-26  \n",
       "2  The actor and his longtime girlfriend Anna Ebe... 2018-05-26  \n",
       "3  The actor gives Dems an ass-kicking for not fi... 2018-05-26  \n",
       "4  The \"Dietland\" actress said using the bags is ... 2018-05-26  "
      ]
     },
     "metadata": {},
     "execution_count": 3
    }
   ],
   "metadata": {
    "scrolled": true
   }
  },
  {
   "cell_type": "code",
   "execution_count": 4,
   "source": [
    "df.shape"
   ],
   "outputs": [
    {
     "output_type": "execute_result",
     "data": {
      "text/plain": [
       "(200853, 6)"
      ]
     },
     "metadata": {},
     "execution_count": 4
    }
   ],
   "metadata": {}
  },
  {
   "cell_type": "markdown",
   "source": [
    "<p id='data_preprocessing'><a href='#data_preprocessing'>#</a></p>\r\n",
    "\r\n",
    "# 2 - Data preprocessing"
   ],
   "metadata": {}
  },
  {
   "cell_type": "code",
   "execution_count": 5,
   "source": [
    "(df.groupby([\"category\"]).size()/df.shape[0])*100"
   ],
   "outputs": [
    {
     "output_type": "execute_result",
     "data": {
      "text/plain": [
       "category\n",
       "ARTS               0.751296\n",
       "ARTS & CULTURE     0.666657\n",
       "BLACK VOICES       2.254385\n",
       "BUSINESS           2.955893\n",
       "COLLEGE            0.569571\n",
       "COMEDY             2.576511\n",
       "CRIME              1.695270\n",
       "CULTURE & ARTS     0.512813\n",
       "DIVORCE            1.705725\n",
       "EDUCATION          0.499868\n",
       "ENTERTAINMENT      7.994902\n",
       "ENVIRONMENT        0.658691\n",
       "FIFTY              0.697525\n",
       "FOOD & DRINK       3.099779\n",
       "GOOD NEWS          0.696031\n",
       "GREEN              1.305432\n",
       "HEALTHY LIVING     3.332786\n",
       "HOME & LIVING      2.088592\n",
       "IMPACT             1.722155\n",
       "LATINO VOICES      0.562103\n",
       "MEDIA              1.401523\n",
       "MONEY              0.849875\n",
       "PARENTING          4.320075\n",
       "PARENTS            1.969102\n",
       "POLITICS          16.299981\n",
       "QUEER VOICES       3.143593\n",
       "RELIGION           1.272572\n",
       "SCIENCE            1.084375\n",
       "SPORTS             2.431629\n",
       "STYLE              1.122214\n",
       "STYLE & BEAUTY     4.804011\n",
       "TASTE              1.043549\n",
       "TECH               1.036579\n",
       "THE WORLDPOST      1.824220\n",
       "TRAVEL             4.922506\n",
       "WEDDINGS           1.817747\n",
       "WEIRD NEWS         1.329330\n",
       "WELLNESS           8.875645\n",
       "WOMEN              1.737589\n",
       "WORLD NEWS         1.083877\n",
       "WORLDPOST          1.284024\n",
       "dtype: float64"
      ]
     },
     "metadata": {},
     "execution_count": 5
    }
   ],
   "metadata": {
    "scrolled": false
   }
  },
  {
   "cell_type": "code",
   "execution_count": 6,
   "source": [
    "#number of categories\r\n",
    "len(df[\"category\"].unique())"
   ],
   "outputs": [
    {
     "output_type": "execute_result",
     "data": {
      "text/plain": [
       "41"
      ]
     },
     "metadata": {},
     "execution_count": 6
    }
   ],
   "metadata": {
    "scrolled": true
   }
  },
  {
   "cell_type": "code",
   "execution_count": 7,
   "source": [
    "#Change category is a function to change the categories in DF\r\n",
    "def change_category(df,old_categories,new_category):\r\n",
    "    for c in old_categories:\r\n",
    "        data = df.loc[df.loc[:,\"category\"]==c]\r\n",
    "        df.loc[data.index,\"category\"]=new_category\r\n",
    "    return df"
   ],
   "outputs": [],
   "metadata": {}
  },
  {
   "cell_type": "code",
   "execution_count": 8,
   "source": [
    "# Removing categories Culture & Arts, wellness, parenting, style, envioronment, taste, queer voices, latino voices,\r\n",
    "#black voices, women, the worldpost, wedding, divorce, college, green para uma única categoria \r\n",
    "\r\n",
    "#arts & culture, culture & arts --> arts\r\n",
    "#black voices, queer voices, latino voices, women --> social issues \r\n",
    "#style & beauty --> style \r\n",
    "#divorce e wedding --> social\r\n",
    "#taste --> food & drink\r\n",
    "#college --> education \r\n",
    "#green --> enviorement \r\n",
    "#parenting --> Parents\r\n",
    "#the worldpost --> worldpost \r\n",
    "#wellness --> healthy living\r\n",
    "\r\n",
    "new_categories = {\"STYLE & BEAUTY\":\"STYLE\", \"ARTS & CULTURE\":\"ARTS\",\"CULTURE & ARTS\":\"ARTS\",\r\n",
    "                  \"PARENTING\":\"PARENTS\",\"WELLNESS\":\"HEALTHY LIVING\",\r\n",
    "                 \"DIVORCE\":\"SOCIAL\",\"WEDDINGS\":\"SOCIAL\",\"TASTE\":\"FOOD & DRINK\",\r\n",
    "                 \"COLLEGE\":\"EDUCATION\",\"THE WORLDPOST\":\"WORLDPOST\",\"BLACK VOICES\":\"SOCIAL ISSUES\",\r\n",
    "                 \"QUEER VOICES\":\"SOCIAL ISSUES\",\"LATINO VOICES\":\"SOCIAL ISSUES\",\"WOMEN\":\"SOCIAL ISSUES\",\r\n",
    "                 \"GREEN\":\"ENVIRONMENT\"}\r\n",
    "\r\n",
    "\r\n",
    "for k,v in new_categories.items():\r\n",
    "    df = change_category(df,[k],v)"
   ],
   "outputs": [],
   "metadata": {}
  },
  {
   "cell_type": "code",
   "execution_count": 9,
   "source": [
    "len(df[\"category\"].unique())"
   ],
   "outputs": [
    {
     "output_type": "execute_result",
     "data": {
      "text/plain": [
       "28"
      ]
     },
     "metadata": {},
     "execution_count": 9
    }
   ],
   "metadata": {
    "scrolled": false
   }
  },
  {
   "cell_type": "code",
   "execution_count": 10,
   "source": [
    "df[\"category\"].unique()"
   ],
   "outputs": [
    {
     "output_type": "execute_result",
     "data": {
      "text/plain": [
       "array(['CRIME', 'ENTERTAINMENT', 'WORLD NEWS', 'IMPACT', 'POLITICS',\n",
       "       'WEIRD NEWS', 'SOCIAL ISSUES', 'COMEDY', 'SPORTS', 'BUSINESS',\n",
       "       'TRAVEL', 'MEDIA', 'TECH', 'RELIGION', 'SCIENCE', 'EDUCATION',\n",
       "       'PARENTS', 'ARTS', 'STYLE', 'ENVIRONMENT', 'FOOD & DRINK',\n",
       "       'HEALTHY LIVING', 'WORLDPOST', 'GOOD NEWS', 'FIFTY',\n",
       "       'HOME & LIVING', 'SOCIAL', 'MONEY'], dtype=object)"
      ]
     },
     "metadata": {},
     "execution_count": 10
    }
   ],
   "metadata": {
    "scrolled": false
   }
  },
  {
   "cell_type": "code",
   "execution_count": 11,
   "source": [
    "df.groupby([\"category\"]).size()"
   ],
   "outputs": [
    {
     "output_type": "execute_result",
     "data": {
      "text/plain": [
       "category\n",
       "ARTS               3878\n",
       "BUSINESS           5937\n",
       "COMEDY             5175\n",
       "CRIME              3405\n",
       "EDUCATION          2148\n",
       "ENTERTAINMENT     16058\n",
       "ENVIRONMENT        3945\n",
       "FIFTY              1401\n",
       "FOOD & DRINK       8322\n",
       "GOOD NEWS          1398\n",
       "HEALTHY LIVING    24521\n",
       "HOME & LIVING      4195\n",
       "IMPACT             3459\n",
       "MEDIA              2815\n",
       "MONEY              1707\n",
       "PARENTS           12632\n",
       "POLITICS          32739\n",
       "RELIGION           2556\n",
       "SCIENCE            2178\n",
       "SOCIAL             7077\n",
       "SOCIAL ISSUES     15461\n",
       "SPORTS             4884\n",
       "STYLE             11903\n",
       "TECH               2082\n",
       "TRAVEL             9887\n",
       "WEIRD NEWS         2670\n",
       "WORLD NEWS         2177\n",
       "WORLDPOST          6243\n",
       "dtype: int64"
      ]
     },
     "metadata": {},
     "execution_count": 11
    }
   ],
   "metadata": {}
  },
  {
   "cell_type": "markdown",
   "source": [
    "For our problem, we're going to use just 5 categories: Arts, Education, Science, Business and Sports"
   ],
   "metadata": {}
  },
  {
   "cell_type": "code",
   "execution_count": 12,
   "source": [
    "selected_categories = [\"ARTS\",\"EDUCATION\",\"SCIENCE\",\"BUSINESS\",\"SPORTS\"]\r\n",
    "new_df = []\r\n",
    "for category in selected_categories:\r\n",
    "    data = df[df.category == category]\r\n",
    "    new_df.append(data)\r\n",
    "\r\n",
    "df = pd.concat(new_df,ignore_index=True)"
   ],
   "outputs": [],
   "metadata": {}
  },
  {
   "cell_type": "code",
   "execution_count": 13,
   "source": [
    "#create a csv only with the selected categories to store at our database\r\n",
    "df.to_csv(\"selected_news.csv\",encoding=\"utf-8\",index=False)"
   ],
   "outputs": [],
   "metadata": {}
  },
  {
   "cell_type": "markdown",
   "source": [
    "Removing columns that are not important for the model and keep only the headline and category"
   ],
   "metadata": {}
  },
  {
   "cell_type": "code",
   "execution_count": 14,
   "source": [
    "df.drop(columns=[\"authors\",\"link\",\"date\",\"short_description\"],inplace=True)\r\n",
    "df.head(5)"
   ],
   "outputs": [
    {
     "output_type": "execute_result",
     "data": {
      "text/html": [
       "<div>\n",
       "<style scoped>\n",
       "    .dataframe tbody tr th:only-of-type {\n",
       "        vertical-align: middle;\n",
       "    }\n",
       "\n",
       "    .dataframe tbody tr th {\n",
       "        vertical-align: top;\n",
       "    }\n",
       "\n",
       "    .dataframe thead th {\n",
       "        text-align: right;\n",
       "    }\n",
       "</style>\n",
       "<table border=\"1\" class=\"dataframe\">\n",
       "  <thead>\n",
       "    <tr style=\"text-align: right;\">\n",
       "      <th></th>\n",
       "      <th>category</th>\n",
       "      <th>headline</th>\n",
       "    </tr>\n",
       "  </thead>\n",
       "  <tbody>\n",
       "    <tr>\n",
       "      <th>0</th>\n",
       "      <td>ARTS</td>\n",
       "      <td>Modeling Agencies Enabled Sexual Predators For...</td>\n",
       "    </tr>\n",
       "    <tr>\n",
       "      <th>1</th>\n",
       "      <td>ARTS</td>\n",
       "      <td>Actor Jeff Hiller Talks “Bright Colors And Bol...</td>\n",
       "    </tr>\n",
       "    <tr>\n",
       "      <th>2</th>\n",
       "      <td>ARTS</td>\n",
       "      <td>New Yorker Cover Puts Trump 'In The Hole' Afte...</td>\n",
       "    </tr>\n",
       "    <tr>\n",
       "      <th>3</th>\n",
       "      <td>ARTS</td>\n",
       "      <td>J. K. Rowling Trolls Trump For Canceled UK Vis...</td>\n",
       "    </tr>\n",
       "    <tr>\n",
       "      <th>4</th>\n",
       "      <td>ARTS</td>\n",
       "      <td>Man Surprises Girlfriend By Drawing Them In Di...</td>\n",
       "    </tr>\n",
       "  </tbody>\n",
       "</table>\n",
       "</div>"
      ],
      "text/plain": [
       "  category                                           headline\n",
       "0     ARTS  Modeling Agencies Enabled Sexual Predators For...\n",
       "1     ARTS  Actor Jeff Hiller Talks “Bright Colors And Bol...\n",
       "2     ARTS  New Yorker Cover Puts Trump 'In The Hole' Afte...\n",
       "3     ARTS  J. K. Rowling Trolls Trump For Canceled UK Vis...\n",
       "4     ARTS  Man Surprises Girlfriend By Drawing Them In Di..."
      ]
     },
     "metadata": {},
     "execution_count": 14
    }
   ],
   "metadata": {
    "scrolled": false
   }
  },
  {
   "cell_type": "code",
   "execution_count": 15,
   "source": [
    "df.groupby([\"category\"]).size()"
   ],
   "outputs": [
    {
     "output_type": "execute_result",
     "data": {
      "text/plain": [
       "category\n",
       "ARTS         3878\n",
       "BUSINESS     5937\n",
       "EDUCATION    2148\n",
       "SCIENCE      2178\n",
       "SPORTS       4884\n",
       "dtype: int64"
      ]
     },
     "metadata": {},
     "execution_count": 15
    }
   ],
   "metadata": {
    "scrolled": true
   }
  },
  {
   "cell_type": "code",
   "execution_count": 16,
   "source": [
    "#defining type of category \r\n",
    "df[\"category\"] = df[\"category\"].astype(\"category\")\r\n",
    "df.dtypes"
   ],
   "outputs": [
    {
     "output_type": "execute_result",
     "data": {
      "text/plain": [
       "category    category\n",
       "headline      object\n",
       "dtype: object"
      ]
     },
     "metadata": {},
     "execution_count": 16
    }
   ],
   "metadata": {}
  },
  {
   "cell_type": "code",
   "execution_count": 17,
   "source": [
    "#changing categories to ordinal \r\n",
    "df[\"category\"]=df[\"category\"].cat.rename_categories([i for i in range(len(df[\"category\"].unique()))])\r\n",
    "df[\"category\"]"
   ],
   "outputs": [
    {
     "output_type": "execute_result",
     "data": {
      "text/plain": [
       "0        0\n",
       "1        0\n",
       "2        0\n",
       "3        0\n",
       "4        0\n",
       "        ..\n",
       "19020    4\n",
       "19021    4\n",
       "19022    4\n",
       "19023    4\n",
       "19024    4\n",
       "Name: category, Length: 19025, dtype: category\n",
       "Categories (5, int64): [0, 1, 2, 3, 4]"
      ]
     },
     "metadata": {},
     "execution_count": 17
    }
   ],
   "metadata": {
    "scrolled": false
   }
  },
  {
   "cell_type": "markdown",
   "source": [
    "Begining text preprocessing"
   ],
   "metadata": {}
  },
  {
   "cell_type": "code",
   "execution_count": 18,
   "source": [
    "def to_lowercase(text):\r\n",
    "    text = text.lower()\r\n",
    "    return text"
   ],
   "outputs": [],
   "metadata": {}
  },
  {
   "cell_type": "code",
   "execution_count": 19,
   "source": [
    "test_text = df.loc[0].headline\r\n",
    "test_text"
   ],
   "outputs": [
    {
     "output_type": "execute_result",
     "data": {
      "text/plain": [
       "'Modeling Agencies Enabled Sexual Predators For Years, Former Agent Says'"
      ]
     },
     "metadata": {},
     "execution_count": 19
    }
   ],
   "metadata": {}
  },
  {
   "cell_type": "code",
   "execution_count": 20,
   "source": [
    "to_lowercase(test_text)"
   ],
   "outputs": [
    {
     "output_type": "execute_result",
     "data": {
      "text/plain": [
       "'modeling agencies enabled sexual predators for years, former agent says'"
      ]
     },
     "metadata": {},
     "execution_count": 20
    }
   ],
   "metadata": {}
  },
  {
   "cell_type": "code",
   "execution_count": 21,
   "source": [
    "def fix_contractions(text):\r\n",
    "    for k,v in contractions.contractions_dict.items():\r\n",
    "        text = text.replace(k,v)\r\n",
    "    return text"
   ],
   "outputs": [],
   "metadata": {}
  },
  {
   "cell_type": "code",
   "execution_count": 22,
   "source": [
    "def punct_repetition(text,default_replace=\"\"):\r\n",
    "    text = re.sub(r\"[\\.\\,\\?\\!]+(?=[\\.\\,\\?\\!])\",default_replace,text)\r\n",
    "    return text"
   ],
   "outputs": [],
   "metadata": {}
  },
  {
   "cell_type": "code",
   "execution_count": 23,
   "source": [
    "def word_repetition(text):\r\n",
    "    text = re.sub(r'(.)\\1+',r'\\1\\1',text)\r\n",
    "    return text "
   ],
   "outputs": [],
   "metadata": {}
  },
  {
   "cell_type": "markdown",
   "source": [
    "Applying text preprocessing at an exemple"
   ],
   "metadata": {}
  },
  {
   "cell_type": "code",
   "execution_count": 24,
   "source": [
    "test = \"I'm going to mall!!!!\"\r\n",
    "fix_contractions(test)"
   ],
   "outputs": [
    {
     "output_type": "execute_result",
     "data": {
      "text/plain": [
       "'I am going to mall!!!!'"
      ]
     },
     "metadata": {},
     "execution_count": 24
    }
   ],
   "metadata": {}
  },
  {
   "cell_type": "code",
   "execution_count": 25,
   "source": [
    "punct_repetition(test)"
   ],
   "outputs": [
    {
     "output_type": "execute_result",
     "data": {
      "text/plain": [
       "\"I'm going to mall!\""
      ]
     },
     "metadata": {},
     "execution_count": 25
    }
   ],
   "metadata": {}
  },
  {
   "cell_type": "code",
   "execution_count": 26,
   "source": [
    "teste = \"woooord!\"\r\n",
    "word_repetition(test)"
   ],
   "outputs": [
    {
     "output_type": "execute_result",
     "data": {
      "text/plain": [
       "'woord!'"
      ]
     },
     "metadata": {},
     "execution_count": 26
    }
   ],
   "metadata": {}
  },
  {
   "cell_type": "code",
   "execution_count": 27,
   "source": [
    "#download packages\r\n",
    "nltk.download('punkt')"
   ],
   "outputs": [
    {
     "output_type": "stream",
     "name": "stderr",
     "text": [
      "[nltk_data] Downloading package punkt to\n",
      "[nltk_data]     C:\\Users\\Talissa\\AppData\\Roaming\\nltk_data...\n",
      "[nltk_data]   Package punkt is already up-to-date!\n"
     ]
    },
    {
     "output_type": "execute_result",
     "data": {
      "text/plain": [
       "True"
      ]
     },
     "metadata": {},
     "execution_count": 27
    }
   ],
   "metadata": {
    "scrolled": true
   }
  },
  {
   "cell_type": "code",
   "execution_count": 28,
   "source": [
    "nltk.download('stopwords')"
   ],
   "outputs": [
    {
     "output_type": "stream",
     "name": "stderr",
     "text": [
      "[nltk_data] Downloading package stopwords to\n",
      "[nltk_data]     C:\\Users\\Talissa\\AppData\\Roaming\\nltk_data...\n",
      "[nltk_data]   Package stopwords is already up-to-date!\n"
     ]
    },
    {
     "output_type": "execute_result",
     "data": {
      "text/plain": [
       "True"
      ]
     },
     "metadata": {},
     "execution_count": 28
    }
   ],
   "metadata": {}
  },
  {
   "cell_type": "markdown",
   "source": [
    "Create function `process_text` that apply all the text preprocessing steps, create tokens and remove stop works, punctuations and alphanumeric characters, finally, our tokens are stemming by applying Snowball Stemmer"
   ],
   "metadata": {}
  },
  {
   "cell_type": "code",
   "execution_count": 29,
   "source": [
    "def custom_tokenize(text,keep_punct=False,keep_alnum=False,keep_stop=False):\r\n",
    "    \r\n",
    "    token_list = word_tokenize(text)\r\n",
    "    if not keep_punct:\r\n",
    "        token_list = [ token for token in token_list if token not in string.punctuation]\r\n",
    "    \r\n",
    "    if not keep_alnum:\r\n",
    "        token_list = [ token for token in token_list if token.isalpha()]\r\n",
    "    \r\n",
    "    if not keep_stop:\r\n",
    "        stop_words = set(stopwords.words(\"english\"))\r\n",
    "        #remove no from stop words\r\n",
    "        stop_words.discard(\"not\")\r\n",
    "        stop_words.discard(\"no\")\r\n",
    "        token_list = [token for token in token_list if not token in stop_words]\r\n",
    "    \r\n",
    "    return token_list"
   ],
   "outputs": [],
   "metadata": {}
  },
  {
   "cell_type": "code",
   "execution_count": 30,
   "source": [
    "def stem_tokens(tokens,stemmer):\r\n",
    "    token_list = []\r\n",
    "    for token in tokens:\r\n",
    "        token_list.append(stemmer.stem(token))\r\n",
    "    return token_list"
   ],
   "outputs": [],
   "metadata": {}
  },
  {
   "cell_type": "code",
   "execution_count": 31,
   "source": [
    "def process_text(text):\r\n",
    "    #clean the text\r\n",
    "    text = to_lowercase(text)\r\n",
    "    text = fix_contractions(text)\r\n",
    "    text = punct_repetition(text)\r\n",
    "    text = word_repetition(text)\r\n",
    "    \r\n",
    "    #tokenize the text and returns stems \r\n",
    "    tokens = custom_tokenize(text,keep_stop=True,keep_alnum=True)\r\n",
    "    snowball_stemmer = SnowballStemmer(\"english\")\r\n",
    "    stem = stem_tokens(tokens,snowball_stemmer)\r\n",
    "    return stem"
   ],
   "outputs": [],
   "metadata": {}
  },
  {
   "cell_type": "code",
   "execution_count": 32,
   "source": [
    "df[\"tokens\"] = df[\"headline\"].apply(process_text)\r\n",
    "df[\"tokens\"]"
   ],
   "outputs": [
    {
     "output_type": "execute_result",
     "data": {
      "text/plain": [
       "0        [model, agenc, enabl, sexual, predat, for, yea...\n",
       "1        [actor, jeff, hiller, talk, “, bright, color, ...\n",
       "2        [new, yorker, cover, put, trump, in, the, hole...\n",
       "3        [j., k., rowl, troll, trump, for, cancel, uk, ...\n",
       "4        [man, surpris, girlfriend, by, draw, ththem, i...\n",
       "                               ...                        \n",
       "19020         [thank, you, jame, dolan, and, time, warner]\n",
       "19021    [maria, sharapova, stun, by, victoria, azarenk...\n",
       "19022    [giant, over, patriot, jet, over, colt, among,...\n",
       "19023    [aldon, smith, arrest, 49er, lineback, bust, f...\n",
       "19024    [dwight, howard, rip, teammat, after, magic, l...\n",
       "Name: tokens, Length: 19025, dtype: object"
      ]
     },
     "metadata": {},
     "execution_count": 32
    }
   ],
   "metadata": {
    "scrolled": false
   }
  },
  {
   "cell_type": "markdown",
   "source": [
    "<p id='create_train_test_data'><a href='#create_train_test_data'>#</a></p>\r\n",
    "\r\n",
    "# 3 - Create Training and Test data"
   ],
   "metadata": {}
  },
  {
   "cell_type": "code",
   "execution_count": 33,
   "source": [
    "df.head()"
   ],
   "outputs": [
    {
     "output_type": "execute_result",
     "data": {
      "text/html": [
       "<div>\n",
       "<style scoped>\n",
       "    .dataframe tbody tr th:only-of-type {\n",
       "        vertical-align: middle;\n",
       "    }\n",
       "\n",
       "    .dataframe tbody tr th {\n",
       "        vertical-align: top;\n",
       "    }\n",
       "\n",
       "    .dataframe thead th {\n",
       "        text-align: right;\n",
       "    }\n",
       "</style>\n",
       "<table border=\"1\" class=\"dataframe\">\n",
       "  <thead>\n",
       "    <tr style=\"text-align: right;\">\n",
       "      <th></th>\n",
       "      <th>category</th>\n",
       "      <th>headline</th>\n",
       "      <th>tokens</th>\n",
       "    </tr>\n",
       "  </thead>\n",
       "  <tbody>\n",
       "    <tr>\n",
       "      <th>0</th>\n",
       "      <td>0</td>\n",
       "      <td>Modeling Agencies Enabled Sexual Predators For...</td>\n",
       "      <td>[model, agenc, enabl, sexual, predat, for, yea...</td>\n",
       "    </tr>\n",
       "    <tr>\n",
       "      <th>1</th>\n",
       "      <td>0</td>\n",
       "      <td>Actor Jeff Hiller Talks “Bright Colors And Bol...</td>\n",
       "      <td>[actor, jeff, hiller, talk, “, bright, color, ...</td>\n",
       "    </tr>\n",
       "    <tr>\n",
       "      <th>2</th>\n",
       "      <td>0</td>\n",
       "      <td>New Yorker Cover Puts Trump 'In The Hole' Afte...</td>\n",
       "      <td>[new, yorker, cover, put, trump, in, the, hole...</td>\n",
       "    </tr>\n",
       "    <tr>\n",
       "      <th>3</th>\n",
       "      <td>0</td>\n",
       "      <td>J. K. Rowling Trolls Trump For Canceled UK Vis...</td>\n",
       "      <td>[j., k., rowl, troll, trump, for, cancel, uk, ...</td>\n",
       "    </tr>\n",
       "    <tr>\n",
       "      <th>4</th>\n",
       "      <td>0</td>\n",
       "      <td>Man Surprises Girlfriend By Drawing Them In Di...</td>\n",
       "      <td>[man, surpris, girlfriend, by, draw, ththem, i...</td>\n",
       "    </tr>\n",
       "  </tbody>\n",
       "</table>\n",
       "</div>"
      ],
      "text/plain": [
       "  category                                           headline  \\\n",
       "0        0  Modeling Agencies Enabled Sexual Predators For...   \n",
       "1        0  Actor Jeff Hiller Talks “Bright Colors And Bol...   \n",
       "2        0  New Yorker Cover Puts Trump 'In The Hole' Afte...   \n",
       "3        0  J. K. Rowling Trolls Trump For Canceled UK Vis...   \n",
       "4        0  Man Surprises Girlfriend By Drawing Them In Di...   \n",
       "\n",
       "                                              tokens  \n",
       "0  [model, agenc, enabl, sexual, predat, for, yea...  \n",
       "1  [actor, jeff, hiller, talk, “, bright, color, ...  \n",
       "2  [new, yorker, cover, put, trump, in, the, hole...  \n",
       "3  [j., k., rowl, troll, trump, for, cancel, uk, ...  \n",
       "4  [man, surpris, girlfriend, by, draw, ththem, i...  "
      ]
     },
     "metadata": {},
     "execution_count": 33
    }
   ],
   "metadata": {
    "scrolled": false
   }
  },
  {
   "cell_type": "markdown",
   "source": [
    "Transform our tokens into vectors by applying the `tf-idf Vectorizer`."
   ],
   "metadata": {}
  },
  {
   "cell_type": "code",
   "execution_count": 34,
   "source": [
    "def fit_tfidf(corpus):\r\n",
    "    tf_vect = TfidfVectorizer(tokenizer=lambda x:x,\r\n",
    "                            preprocessor= lambda x:x)\r\n",
    "    tf_vect.fit(corpus)\r\n",
    "    return tf_vect"
   ],
   "outputs": [],
   "metadata": {}
  },
  {
   "cell_type": "code",
   "execution_count": 35,
   "source": [
    "#defining X and Y\r\n",
    "X = df[\"tokens\"]\r\n",
    "y = df[\"category\"]"
   ],
   "outputs": [],
   "metadata": {}
  },
  {
   "cell_type": "code",
   "execution_count": 36,
   "source": [
    "tf_vect = fit_tfidf(X)\r\n",
    "\r\n",
    "#transform for a matrix \r\n",
    "X_tf= tf_vect.transform(X)"
   ],
   "outputs": [
    {
     "output_type": "stream",
     "name": "stderr",
     "text": [
      "C:\\Users\\Talissa\\Documents\\env\\flask_projects\\lib\\site-packages\\sklearn\\feature_extraction\\text.py:516: UserWarning: The parameter 'token_pattern' will not be used since 'tokenizer' is not None'\n",
      "  warnings.warn(\n"
     ]
    }
   ],
   "metadata": {}
  },
  {
   "cell_type": "code",
   "execution_count": 37,
   "source": [
    "len(tf_vect.vocabulary_)"
   ],
   "outputs": [
    {
     "output_type": "execute_result",
     "data": {
      "text/plain": [
       "16496"
      ]
     },
     "metadata": {},
     "execution_count": 37
    }
   ],
   "metadata": {}
  },
  {
   "cell_type": "code",
   "execution_count": 38,
   "source": [
    "X = X_tf.todense()\r\n",
    "X"
   ],
   "outputs": [
    {
     "output_type": "execute_result",
     "data": {
      "text/plain": [
       "matrix([[0.        , 0.        , 0.        , ..., 0.        , 0.        ,\n",
       "         0.        ],\n",
       "        [0.        , 0.        , 0.        , ..., 0.31559294, 0.        ,\n",
       "         0.        ],\n",
       "        [0.        , 0.        , 0.        , ..., 0.        , 0.        ,\n",
       "         0.        ],\n",
       "        ...,\n",
       "        [0.        , 0.        , 0.        , ..., 0.        , 0.        ,\n",
       "         0.        ],\n",
       "        [0.        , 0.        , 0.        , ..., 0.        , 0.        ,\n",
       "         0.        ],\n",
       "        [0.        , 0.        , 0.        , ..., 0.        , 0.        ,\n",
       "         0.        ]])"
      ]
     },
     "metadata": {},
     "execution_count": 38
    }
   ],
   "metadata": {}
  },
  {
   "cell_type": "code",
   "execution_count": 39,
   "source": [
    "tfidf_docs = pd.DataFrame(X)\r\n",
    "tfidf_docs"
   ],
   "outputs": [
    {
     "output_type": "execute_result",
     "data": {
      "text/html": [
       "<div>\n",
       "<style scoped>\n",
       "    .dataframe tbody tr th:only-of-type {\n",
       "        vertical-align: middle;\n",
       "    }\n",
       "\n",
       "    .dataframe tbody tr th {\n",
       "        vertical-align: top;\n",
       "    }\n",
       "\n",
       "    .dataframe thead th {\n",
       "        text-align: right;\n",
       "    }\n",
       "</style>\n",
       "<table border=\"1\" class=\"dataframe\">\n",
       "  <thead>\n",
       "    <tr style=\"text-align: right;\">\n",
       "      <th></th>\n",
       "      <th>0</th>\n",
       "      <th>1</th>\n",
       "      <th>2</th>\n",
       "      <th>3</th>\n",
       "      <th>4</th>\n",
       "      <th>5</th>\n",
       "      <th>6</th>\n",
       "      <th>7</th>\n",
       "      <th>8</th>\n",
       "      <th>9</th>\n",
       "      <th>...</th>\n",
       "      <th>16486</th>\n",
       "      <th>16487</th>\n",
       "      <th>16488</th>\n",
       "      <th>16489</th>\n",
       "      <th>16490</th>\n",
       "      <th>16491</th>\n",
       "      <th>16492</th>\n",
       "      <th>16493</th>\n",
       "      <th>16494</th>\n",
       "      <th>16495</th>\n",
       "    </tr>\n",
       "  </thead>\n",
       "  <tbody>\n",
       "    <tr>\n",
       "      <th>0</th>\n",
       "      <td>0.0</td>\n",
       "      <td>0.0</td>\n",
       "      <td>0.0</td>\n",
       "      <td>0.0</td>\n",
       "      <td>0.0</td>\n",
       "      <td>0.0</td>\n",
       "      <td>0.0</td>\n",
       "      <td>0.0</td>\n",
       "      <td>0.0</td>\n",
       "      <td>0.0</td>\n",
       "      <td>...</td>\n",
       "      <td>0.0</td>\n",
       "      <td>0.0</td>\n",
       "      <td>0.0</td>\n",
       "      <td>0.0</td>\n",
       "      <td>0.0</td>\n",
       "      <td>0.0</td>\n",
       "      <td>0.000000</td>\n",
       "      <td>0.000000</td>\n",
       "      <td>0.0</td>\n",
       "      <td>0.0</td>\n",
       "    </tr>\n",
       "    <tr>\n",
       "      <th>1</th>\n",
       "      <td>0.0</td>\n",
       "      <td>0.0</td>\n",
       "      <td>0.0</td>\n",
       "      <td>0.0</td>\n",
       "      <td>0.0</td>\n",
       "      <td>0.0</td>\n",
       "      <td>0.0</td>\n",
       "      <td>0.0</td>\n",
       "      <td>0.0</td>\n",
       "      <td>0.0</td>\n",
       "      <td>...</td>\n",
       "      <td>0.0</td>\n",
       "      <td>0.0</td>\n",
       "      <td>0.0</td>\n",
       "      <td>0.0</td>\n",
       "      <td>0.0</td>\n",
       "      <td>0.0</td>\n",
       "      <td>0.310224</td>\n",
       "      <td>0.315593</td>\n",
       "      <td>0.0</td>\n",
       "      <td>0.0</td>\n",
       "    </tr>\n",
       "    <tr>\n",
       "      <th>2</th>\n",
       "      <td>0.0</td>\n",
       "      <td>0.0</td>\n",
       "      <td>0.0</td>\n",
       "      <td>0.0</td>\n",
       "      <td>0.0</td>\n",
       "      <td>0.0</td>\n",
       "      <td>0.0</td>\n",
       "      <td>0.0</td>\n",
       "      <td>0.0</td>\n",
       "      <td>0.0</td>\n",
       "      <td>...</td>\n",
       "      <td>0.0</td>\n",
       "      <td>0.0</td>\n",
       "      <td>0.0</td>\n",
       "      <td>0.0</td>\n",
       "      <td>0.0</td>\n",
       "      <td>0.0</td>\n",
       "      <td>0.000000</td>\n",
       "      <td>0.000000</td>\n",
       "      <td>0.0</td>\n",
       "      <td>0.0</td>\n",
       "    </tr>\n",
       "    <tr>\n",
       "      <th>3</th>\n",
       "      <td>0.0</td>\n",
       "      <td>0.0</td>\n",
       "      <td>0.0</td>\n",
       "      <td>0.0</td>\n",
       "      <td>0.0</td>\n",
       "      <td>0.0</td>\n",
       "      <td>0.0</td>\n",
       "      <td>0.0</td>\n",
       "      <td>0.0</td>\n",
       "      <td>0.0</td>\n",
       "      <td>...</td>\n",
       "      <td>0.0</td>\n",
       "      <td>0.0</td>\n",
       "      <td>0.0</td>\n",
       "      <td>0.0</td>\n",
       "      <td>0.0</td>\n",
       "      <td>0.0</td>\n",
       "      <td>0.000000</td>\n",
       "      <td>0.000000</td>\n",
       "      <td>0.0</td>\n",
       "      <td>0.0</td>\n",
       "    </tr>\n",
       "    <tr>\n",
       "      <th>4</th>\n",
       "      <td>0.0</td>\n",
       "      <td>0.0</td>\n",
       "      <td>0.0</td>\n",
       "      <td>0.0</td>\n",
       "      <td>0.0</td>\n",
       "      <td>0.0</td>\n",
       "      <td>0.0</td>\n",
       "      <td>0.0</td>\n",
       "      <td>0.0</td>\n",
       "      <td>0.0</td>\n",
       "      <td>...</td>\n",
       "      <td>0.0</td>\n",
       "      <td>0.0</td>\n",
       "      <td>0.0</td>\n",
       "      <td>0.0</td>\n",
       "      <td>0.0</td>\n",
       "      <td>0.0</td>\n",
       "      <td>0.000000</td>\n",
       "      <td>0.000000</td>\n",
       "      <td>0.0</td>\n",
       "      <td>0.0</td>\n",
       "    </tr>\n",
       "    <tr>\n",
       "      <th>...</th>\n",
       "      <td>...</td>\n",
       "      <td>...</td>\n",
       "      <td>...</td>\n",
       "      <td>...</td>\n",
       "      <td>...</td>\n",
       "      <td>...</td>\n",
       "      <td>...</td>\n",
       "      <td>...</td>\n",
       "      <td>...</td>\n",
       "      <td>...</td>\n",
       "      <td>...</td>\n",
       "      <td>...</td>\n",
       "      <td>...</td>\n",
       "      <td>...</td>\n",
       "      <td>...</td>\n",
       "      <td>...</td>\n",
       "      <td>...</td>\n",
       "      <td>...</td>\n",
       "      <td>...</td>\n",
       "      <td>...</td>\n",
       "      <td>...</td>\n",
       "    </tr>\n",
       "    <tr>\n",
       "      <th>19020</th>\n",
       "      <td>0.0</td>\n",
       "      <td>0.0</td>\n",
       "      <td>0.0</td>\n",
       "      <td>0.0</td>\n",
       "      <td>0.0</td>\n",
       "      <td>0.0</td>\n",
       "      <td>0.0</td>\n",
       "      <td>0.0</td>\n",
       "      <td>0.0</td>\n",
       "      <td>0.0</td>\n",
       "      <td>...</td>\n",
       "      <td>0.0</td>\n",
       "      <td>0.0</td>\n",
       "      <td>0.0</td>\n",
       "      <td>0.0</td>\n",
       "      <td>0.0</td>\n",
       "      <td>0.0</td>\n",
       "      <td>0.000000</td>\n",
       "      <td>0.000000</td>\n",
       "      <td>0.0</td>\n",
       "      <td>0.0</td>\n",
       "    </tr>\n",
       "    <tr>\n",
       "      <th>19021</th>\n",
       "      <td>0.0</td>\n",
       "      <td>0.0</td>\n",
       "      <td>0.0</td>\n",
       "      <td>0.0</td>\n",
       "      <td>0.0</td>\n",
       "      <td>0.0</td>\n",
       "      <td>0.0</td>\n",
       "      <td>0.0</td>\n",
       "      <td>0.0</td>\n",
       "      <td>0.0</td>\n",
       "      <td>...</td>\n",
       "      <td>0.0</td>\n",
       "      <td>0.0</td>\n",
       "      <td>0.0</td>\n",
       "      <td>0.0</td>\n",
       "      <td>0.0</td>\n",
       "      <td>0.0</td>\n",
       "      <td>0.000000</td>\n",
       "      <td>0.000000</td>\n",
       "      <td>0.0</td>\n",
       "      <td>0.0</td>\n",
       "    </tr>\n",
       "    <tr>\n",
       "      <th>19022</th>\n",
       "      <td>0.0</td>\n",
       "      <td>0.0</td>\n",
       "      <td>0.0</td>\n",
       "      <td>0.0</td>\n",
       "      <td>0.0</td>\n",
       "      <td>0.0</td>\n",
       "      <td>0.0</td>\n",
       "      <td>0.0</td>\n",
       "      <td>0.0</td>\n",
       "      <td>0.0</td>\n",
       "      <td>...</td>\n",
       "      <td>0.0</td>\n",
       "      <td>0.0</td>\n",
       "      <td>0.0</td>\n",
       "      <td>0.0</td>\n",
       "      <td>0.0</td>\n",
       "      <td>0.0</td>\n",
       "      <td>0.000000</td>\n",
       "      <td>0.000000</td>\n",
       "      <td>0.0</td>\n",
       "      <td>0.0</td>\n",
       "    </tr>\n",
       "    <tr>\n",
       "      <th>19023</th>\n",
       "      <td>0.0</td>\n",
       "      <td>0.0</td>\n",
       "      <td>0.0</td>\n",
       "      <td>0.0</td>\n",
       "      <td>0.0</td>\n",
       "      <td>0.0</td>\n",
       "      <td>0.0</td>\n",
       "      <td>0.0</td>\n",
       "      <td>0.0</td>\n",
       "      <td>0.0</td>\n",
       "      <td>...</td>\n",
       "      <td>0.0</td>\n",
       "      <td>0.0</td>\n",
       "      <td>0.0</td>\n",
       "      <td>0.0</td>\n",
       "      <td>0.0</td>\n",
       "      <td>0.0</td>\n",
       "      <td>0.000000</td>\n",
       "      <td>0.000000</td>\n",
       "      <td>0.0</td>\n",
       "      <td>0.0</td>\n",
       "    </tr>\n",
       "    <tr>\n",
       "      <th>19024</th>\n",
       "      <td>0.0</td>\n",
       "      <td>0.0</td>\n",
       "      <td>0.0</td>\n",
       "      <td>0.0</td>\n",
       "      <td>0.0</td>\n",
       "      <td>0.0</td>\n",
       "      <td>0.0</td>\n",
       "      <td>0.0</td>\n",
       "      <td>0.0</td>\n",
       "      <td>0.0</td>\n",
       "      <td>...</td>\n",
       "      <td>0.0</td>\n",
       "      <td>0.0</td>\n",
       "      <td>0.0</td>\n",
       "      <td>0.0</td>\n",
       "      <td>0.0</td>\n",
       "      <td>0.0</td>\n",
       "      <td>0.000000</td>\n",
       "      <td>0.000000</td>\n",
       "      <td>0.0</td>\n",
       "      <td>0.0</td>\n",
       "    </tr>\n",
       "  </tbody>\n",
       "</table>\n",
       "<p>19025 rows × 16496 columns</p>\n",
       "</div>"
      ],
      "text/plain": [
       "       0      1      2      3      4      5      6      7      8      9      \\\n",
       "0        0.0    0.0    0.0    0.0    0.0    0.0    0.0    0.0    0.0    0.0   \n",
       "1        0.0    0.0    0.0    0.0    0.0    0.0    0.0    0.0    0.0    0.0   \n",
       "2        0.0    0.0    0.0    0.0    0.0    0.0    0.0    0.0    0.0    0.0   \n",
       "3        0.0    0.0    0.0    0.0    0.0    0.0    0.0    0.0    0.0    0.0   \n",
       "4        0.0    0.0    0.0    0.0    0.0    0.0    0.0    0.0    0.0    0.0   \n",
       "...      ...    ...    ...    ...    ...    ...    ...    ...    ...    ...   \n",
       "19020    0.0    0.0    0.0    0.0    0.0    0.0    0.0    0.0    0.0    0.0   \n",
       "19021    0.0    0.0    0.0    0.0    0.0    0.0    0.0    0.0    0.0    0.0   \n",
       "19022    0.0    0.0    0.0    0.0    0.0    0.0    0.0    0.0    0.0    0.0   \n",
       "19023    0.0    0.0    0.0    0.0    0.0    0.0    0.0    0.0    0.0    0.0   \n",
       "19024    0.0    0.0    0.0    0.0    0.0    0.0    0.0    0.0    0.0    0.0   \n",
       "\n",
       "       ...  16486  16487  16488  16489  16490  16491     16492     16493  \\\n",
       "0      ...    0.0    0.0    0.0    0.0    0.0    0.0  0.000000  0.000000   \n",
       "1      ...    0.0    0.0    0.0    0.0    0.0    0.0  0.310224  0.315593   \n",
       "2      ...    0.0    0.0    0.0    0.0    0.0    0.0  0.000000  0.000000   \n",
       "3      ...    0.0    0.0    0.0    0.0    0.0    0.0  0.000000  0.000000   \n",
       "4      ...    0.0    0.0    0.0    0.0    0.0    0.0  0.000000  0.000000   \n",
       "...    ...    ...    ...    ...    ...    ...    ...       ...       ...   \n",
       "19020  ...    0.0    0.0    0.0    0.0    0.0    0.0  0.000000  0.000000   \n",
       "19021  ...    0.0    0.0    0.0    0.0    0.0    0.0  0.000000  0.000000   \n",
       "19022  ...    0.0    0.0    0.0    0.0    0.0    0.0  0.000000  0.000000   \n",
       "19023  ...    0.0    0.0    0.0    0.0    0.0    0.0  0.000000  0.000000   \n",
       "19024  ...    0.0    0.0    0.0    0.0    0.0    0.0  0.000000  0.000000   \n",
       "\n",
       "       16494  16495  \n",
       "0        0.0    0.0  \n",
       "1        0.0    0.0  \n",
       "2        0.0    0.0  \n",
       "3        0.0    0.0  \n",
       "4        0.0    0.0  \n",
       "...      ...    ...  \n",
       "19020    0.0    0.0  \n",
       "19021    0.0    0.0  \n",
       "19022    0.0    0.0  \n",
       "19023    0.0    0.0  \n",
       "19024    0.0    0.0  \n",
       "\n",
       "[19025 rows x 16496 columns]"
      ]
     },
     "metadata": {},
     "execution_count": 39
    }
   ],
   "metadata": {
    "scrolled": true
   }
  },
  {
   "cell_type": "code",
   "execution_count": 40,
   "source": [
    "#Centering the values around the mean\r\n",
    "tfidf_docs = tfidf_docs - tfidf_docs.mean()\r\n",
    "tfidf_docs"
   ],
   "outputs": [
    {
     "output_type": "execute_result",
     "data": {
      "text/html": [
       "<div>\n",
       "<style scoped>\n",
       "    .dataframe tbody tr th:only-of-type {\n",
       "        vertical-align: middle;\n",
       "    }\n",
       "\n",
       "    .dataframe tbody tr th {\n",
       "        vertical-align: top;\n",
       "    }\n",
       "\n",
       "    .dataframe thead th {\n",
       "        text-align: right;\n",
       "    }\n",
       "</style>\n",
       "<table border=\"1\" class=\"dataframe\">\n",
       "  <thead>\n",
       "    <tr style=\"text-align: right;\">\n",
       "      <th></th>\n",
       "      <th>0</th>\n",
       "      <th>1</th>\n",
       "      <th>2</th>\n",
       "      <th>3</th>\n",
       "      <th>4</th>\n",
       "      <th>5</th>\n",
       "      <th>6</th>\n",
       "      <th>7</th>\n",
       "      <th>8</th>\n",
       "      <th>9</th>\n",
       "      <th>...</th>\n",
       "      <th>16486</th>\n",
       "      <th>16487</th>\n",
       "      <th>16488</th>\n",
       "      <th>16489</th>\n",
       "      <th>16490</th>\n",
       "      <th>16491</th>\n",
       "      <th>16492</th>\n",
       "      <th>16493</th>\n",
       "      <th>16494</th>\n",
       "      <th>16495</th>\n",
       "    </tr>\n",
       "  </thead>\n",
       "  <tbody>\n",
       "    <tr>\n",
       "      <th>0</th>\n",
       "      <td>-0.002198</td>\n",
       "      <td>-0.000084</td>\n",
       "      <td>-0.000439</td>\n",
       "      <td>-0.000023</td>\n",
       "      <td>-0.017905</td>\n",
       "      <td>-0.002931</td>\n",
       "      <td>-0.000027</td>\n",
       "      <td>-0.0001</td>\n",
       "      <td>-0.000024</td>\n",
       "      <td>-0.000024</td>\n",
       "      <td>...</td>\n",
       "      <td>-0.000026</td>\n",
       "      <td>-0.000097</td>\n",
       "      <td>-0.000026</td>\n",
       "      <td>-0.000206</td>\n",
       "      <td>-0.001193</td>\n",
       "      <td>-0.003573</td>\n",
       "      <td>-0.000096</td>\n",
       "      <td>-0.000079</td>\n",
       "      <td>-0.000041</td>\n",
       "      <td>-0.000031</td>\n",
       "    </tr>\n",
       "    <tr>\n",
       "      <th>1</th>\n",
       "      <td>-0.002198</td>\n",
       "      <td>-0.000084</td>\n",
       "      <td>-0.000439</td>\n",
       "      <td>-0.000023</td>\n",
       "      <td>-0.017905</td>\n",
       "      <td>-0.002931</td>\n",
       "      <td>-0.000027</td>\n",
       "      <td>-0.0001</td>\n",
       "      <td>-0.000024</td>\n",
       "      <td>-0.000024</td>\n",
       "      <td>...</td>\n",
       "      <td>-0.000026</td>\n",
       "      <td>-0.000097</td>\n",
       "      <td>-0.000026</td>\n",
       "      <td>-0.000206</td>\n",
       "      <td>-0.001193</td>\n",
       "      <td>-0.003573</td>\n",
       "      <td>0.310128</td>\n",
       "      <td>0.315514</td>\n",
       "      <td>-0.000041</td>\n",
       "      <td>-0.000031</td>\n",
       "    </tr>\n",
       "    <tr>\n",
       "      <th>2</th>\n",
       "      <td>-0.002198</td>\n",
       "      <td>-0.000084</td>\n",
       "      <td>-0.000439</td>\n",
       "      <td>-0.000023</td>\n",
       "      <td>-0.017905</td>\n",
       "      <td>-0.002931</td>\n",
       "      <td>-0.000027</td>\n",
       "      <td>-0.0001</td>\n",
       "      <td>-0.000024</td>\n",
       "      <td>-0.000024</td>\n",
       "      <td>...</td>\n",
       "      <td>-0.000026</td>\n",
       "      <td>-0.000097</td>\n",
       "      <td>-0.000026</td>\n",
       "      <td>-0.000206</td>\n",
       "      <td>-0.001193</td>\n",
       "      <td>-0.003573</td>\n",
       "      <td>-0.000096</td>\n",
       "      <td>-0.000079</td>\n",
       "      <td>-0.000041</td>\n",
       "      <td>-0.000031</td>\n",
       "    </tr>\n",
       "    <tr>\n",
       "      <th>3</th>\n",
       "      <td>-0.002198</td>\n",
       "      <td>-0.000084</td>\n",
       "      <td>-0.000439</td>\n",
       "      <td>-0.000023</td>\n",
       "      <td>-0.017905</td>\n",
       "      <td>-0.002931</td>\n",
       "      <td>-0.000027</td>\n",
       "      <td>-0.0001</td>\n",
       "      <td>-0.000024</td>\n",
       "      <td>-0.000024</td>\n",
       "      <td>...</td>\n",
       "      <td>-0.000026</td>\n",
       "      <td>-0.000097</td>\n",
       "      <td>-0.000026</td>\n",
       "      <td>-0.000206</td>\n",
       "      <td>-0.001193</td>\n",
       "      <td>-0.003573</td>\n",
       "      <td>-0.000096</td>\n",
       "      <td>-0.000079</td>\n",
       "      <td>-0.000041</td>\n",
       "      <td>-0.000031</td>\n",
       "    </tr>\n",
       "    <tr>\n",
       "      <th>4</th>\n",
       "      <td>-0.002198</td>\n",
       "      <td>-0.000084</td>\n",
       "      <td>-0.000439</td>\n",
       "      <td>-0.000023</td>\n",
       "      <td>-0.017905</td>\n",
       "      <td>-0.002931</td>\n",
       "      <td>-0.000027</td>\n",
       "      <td>-0.0001</td>\n",
       "      <td>-0.000024</td>\n",
       "      <td>-0.000024</td>\n",
       "      <td>...</td>\n",
       "      <td>-0.000026</td>\n",
       "      <td>-0.000097</td>\n",
       "      <td>-0.000026</td>\n",
       "      <td>-0.000206</td>\n",
       "      <td>-0.001193</td>\n",
       "      <td>-0.003573</td>\n",
       "      <td>-0.000096</td>\n",
       "      <td>-0.000079</td>\n",
       "      <td>-0.000041</td>\n",
       "      <td>-0.000031</td>\n",
       "    </tr>\n",
       "    <tr>\n",
       "      <th>...</th>\n",
       "      <td>...</td>\n",
       "      <td>...</td>\n",
       "      <td>...</td>\n",
       "      <td>...</td>\n",
       "      <td>...</td>\n",
       "      <td>...</td>\n",
       "      <td>...</td>\n",
       "      <td>...</td>\n",
       "      <td>...</td>\n",
       "      <td>...</td>\n",
       "      <td>...</td>\n",
       "      <td>...</td>\n",
       "      <td>...</td>\n",
       "      <td>...</td>\n",
       "      <td>...</td>\n",
       "      <td>...</td>\n",
       "      <td>...</td>\n",
       "      <td>...</td>\n",
       "      <td>...</td>\n",
       "      <td>...</td>\n",
       "      <td>...</td>\n",
       "    </tr>\n",
       "    <tr>\n",
       "      <th>19020</th>\n",
       "      <td>-0.002198</td>\n",
       "      <td>-0.000084</td>\n",
       "      <td>-0.000439</td>\n",
       "      <td>-0.000023</td>\n",
       "      <td>-0.017905</td>\n",
       "      <td>-0.002931</td>\n",
       "      <td>-0.000027</td>\n",
       "      <td>-0.0001</td>\n",
       "      <td>-0.000024</td>\n",
       "      <td>-0.000024</td>\n",
       "      <td>...</td>\n",
       "      <td>-0.000026</td>\n",
       "      <td>-0.000097</td>\n",
       "      <td>-0.000026</td>\n",
       "      <td>-0.000206</td>\n",
       "      <td>-0.001193</td>\n",
       "      <td>-0.003573</td>\n",
       "      <td>-0.000096</td>\n",
       "      <td>-0.000079</td>\n",
       "      <td>-0.000041</td>\n",
       "      <td>-0.000031</td>\n",
       "    </tr>\n",
       "    <tr>\n",
       "      <th>19021</th>\n",
       "      <td>-0.002198</td>\n",
       "      <td>-0.000084</td>\n",
       "      <td>-0.000439</td>\n",
       "      <td>-0.000023</td>\n",
       "      <td>-0.017905</td>\n",
       "      <td>-0.002931</td>\n",
       "      <td>-0.000027</td>\n",
       "      <td>-0.0001</td>\n",
       "      <td>-0.000024</td>\n",
       "      <td>-0.000024</td>\n",
       "      <td>...</td>\n",
       "      <td>-0.000026</td>\n",
       "      <td>-0.000097</td>\n",
       "      <td>-0.000026</td>\n",
       "      <td>-0.000206</td>\n",
       "      <td>-0.001193</td>\n",
       "      <td>-0.003573</td>\n",
       "      <td>-0.000096</td>\n",
       "      <td>-0.000079</td>\n",
       "      <td>-0.000041</td>\n",
       "      <td>-0.000031</td>\n",
       "    </tr>\n",
       "    <tr>\n",
       "      <th>19022</th>\n",
       "      <td>-0.002198</td>\n",
       "      <td>-0.000084</td>\n",
       "      <td>-0.000439</td>\n",
       "      <td>-0.000023</td>\n",
       "      <td>-0.017905</td>\n",
       "      <td>-0.002931</td>\n",
       "      <td>-0.000027</td>\n",
       "      <td>-0.0001</td>\n",
       "      <td>-0.000024</td>\n",
       "      <td>-0.000024</td>\n",
       "      <td>...</td>\n",
       "      <td>-0.000026</td>\n",
       "      <td>-0.000097</td>\n",
       "      <td>-0.000026</td>\n",
       "      <td>-0.000206</td>\n",
       "      <td>-0.001193</td>\n",
       "      <td>-0.003573</td>\n",
       "      <td>-0.000096</td>\n",
       "      <td>-0.000079</td>\n",
       "      <td>-0.000041</td>\n",
       "      <td>-0.000031</td>\n",
       "    </tr>\n",
       "    <tr>\n",
       "      <th>19023</th>\n",
       "      <td>-0.002198</td>\n",
       "      <td>-0.000084</td>\n",
       "      <td>-0.000439</td>\n",
       "      <td>-0.000023</td>\n",
       "      <td>-0.017905</td>\n",
       "      <td>-0.002931</td>\n",
       "      <td>-0.000027</td>\n",
       "      <td>-0.0001</td>\n",
       "      <td>-0.000024</td>\n",
       "      <td>-0.000024</td>\n",
       "      <td>...</td>\n",
       "      <td>-0.000026</td>\n",
       "      <td>-0.000097</td>\n",
       "      <td>-0.000026</td>\n",
       "      <td>-0.000206</td>\n",
       "      <td>-0.001193</td>\n",
       "      <td>-0.003573</td>\n",
       "      <td>-0.000096</td>\n",
       "      <td>-0.000079</td>\n",
       "      <td>-0.000041</td>\n",
       "      <td>-0.000031</td>\n",
       "    </tr>\n",
       "    <tr>\n",
       "      <th>19024</th>\n",
       "      <td>-0.002198</td>\n",
       "      <td>-0.000084</td>\n",
       "      <td>-0.000439</td>\n",
       "      <td>-0.000023</td>\n",
       "      <td>-0.017905</td>\n",
       "      <td>-0.002931</td>\n",
       "      <td>-0.000027</td>\n",
       "      <td>-0.0001</td>\n",
       "      <td>-0.000024</td>\n",
       "      <td>-0.000024</td>\n",
       "      <td>...</td>\n",
       "      <td>-0.000026</td>\n",
       "      <td>-0.000097</td>\n",
       "      <td>-0.000026</td>\n",
       "      <td>-0.000206</td>\n",
       "      <td>-0.001193</td>\n",
       "      <td>-0.003573</td>\n",
       "      <td>-0.000096</td>\n",
       "      <td>-0.000079</td>\n",
       "      <td>-0.000041</td>\n",
       "      <td>-0.000031</td>\n",
       "    </tr>\n",
       "  </tbody>\n",
       "</table>\n",
       "<p>19025 rows × 16496 columns</p>\n",
       "</div>"
      ],
      "text/plain": [
       "          0         1         2         3         4         5         6      \\\n",
       "0     -0.002198 -0.000084 -0.000439 -0.000023 -0.017905 -0.002931 -0.000027   \n",
       "1     -0.002198 -0.000084 -0.000439 -0.000023 -0.017905 -0.002931 -0.000027   \n",
       "2     -0.002198 -0.000084 -0.000439 -0.000023 -0.017905 -0.002931 -0.000027   \n",
       "3     -0.002198 -0.000084 -0.000439 -0.000023 -0.017905 -0.002931 -0.000027   \n",
       "4     -0.002198 -0.000084 -0.000439 -0.000023 -0.017905 -0.002931 -0.000027   \n",
       "...         ...       ...       ...       ...       ...       ...       ...   \n",
       "19020 -0.002198 -0.000084 -0.000439 -0.000023 -0.017905 -0.002931 -0.000027   \n",
       "19021 -0.002198 -0.000084 -0.000439 -0.000023 -0.017905 -0.002931 -0.000027   \n",
       "19022 -0.002198 -0.000084 -0.000439 -0.000023 -0.017905 -0.002931 -0.000027   \n",
       "19023 -0.002198 -0.000084 -0.000439 -0.000023 -0.017905 -0.002931 -0.000027   \n",
       "19024 -0.002198 -0.000084 -0.000439 -0.000023 -0.017905 -0.002931 -0.000027   \n",
       "\n",
       "        7         8         9      ...     16486     16487     16488  \\\n",
       "0     -0.0001 -0.000024 -0.000024  ... -0.000026 -0.000097 -0.000026   \n",
       "1     -0.0001 -0.000024 -0.000024  ... -0.000026 -0.000097 -0.000026   \n",
       "2     -0.0001 -0.000024 -0.000024  ... -0.000026 -0.000097 -0.000026   \n",
       "3     -0.0001 -0.000024 -0.000024  ... -0.000026 -0.000097 -0.000026   \n",
       "4     -0.0001 -0.000024 -0.000024  ... -0.000026 -0.000097 -0.000026   \n",
       "...       ...       ...       ...  ...       ...       ...       ...   \n",
       "19020 -0.0001 -0.000024 -0.000024  ... -0.000026 -0.000097 -0.000026   \n",
       "19021 -0.0001 -0.000024 -0.000024  ... -0.000026 -0.000097 -0.000026   \n",
       "19022 -0.0001 -0.000024 -0.000024  ... -0.000026 -0.000097 -0.000026   \n",
       "19023 -0.0001 -0.000024 -0.000024  ... -0.000026 -0.000097 -0.000026   \n",
       "19024 -0.0001 -0.000024 -0.000024  ... -0.000026 -0.000097 -0.000026   \n",
       "\n",
       "          16489     16490     16491     16492     16493     16494     16495  \n",
       "0     -0.000206 -0.001193 -0.003573 -0.000096 -0.000079 -0.000041 -0.000031  \n",
       "1     -0.000206 -0.001193 -0.003573  0.310128  0.315514 -0.000041 -0.000031  \n",
       "2     -0.000206 -0.001193 -0.003573 -0.000096 -0.000079 -0.000041 -0.000031  \n",
       "3     -0.000206 -0.001193 -0.003573 -0.000096 -0.000079 -0.000041 -0.000031  \n",
       "4     -0.000206 -0.001193 -0.003573 -0.000096 -0.000079 -0.000041 -0.000031  \n",
       "...         ...       ...       ...       ...       ...       ...       ...  \n",
       "19020 -0.000206 -0.001193 -0.003573 -0.000096 -0.000079 -0.000041 -0.000031  \n",
       "19021 -0.000206 -0.001193 -0.003573 -0.000096 -0.000079 -0.000041 -0.000031  \n",
       "19022 -0.000206 -0.001193 -0.003573 -0.000096 -0.000079 -0.000041 -0.000031  \n",
       "19023 -0.000206 -0.001193 -0.003573 -0.000096 -0.000079 -0.000041 -0.000031  \n",
       "19024 -0.000206 -0.001193 -0.003573 -0.000096 -0.000079 -0.000041 -0.000031  \n",
       "\n",
       "[19025 rows x 16496 columns]"
      ]
     },
     "metadata": {},
     "execution_count": 40
    }
   ],
   "metadata": {
    "scrolled": true
   }
  },
  {
   "cell_type": "code",
   "execution_count": 41,
   "source": [
    "tfidf_docs[:10]"
   ],
   "outputs": [
    {
     "output_type": "execute_result",
     "data": {
      "text/html": [
       "<div>\n",
       "<style scoped>\n",
       "    .dataframe tbody tr th:only-of-type {\n",
       "        vertical-align: middle;\n",
       "    }\n",
       "\n",
       "    .dataframe tbody tr th {\n",
       "        vertical-align: top;\n",
       "    }\n",
       "\n",
       "    .dataframe thead th {\n",
       "        text-align: right;\n",
       "    }\n",
       "</style>\n",
       "<table border=\"1\" class=\"dataframe\">\n",
       "  <thead>\n",
       "    <tr style=\"text-align: right;\">\n",
       "      <th></th>\n",
       "      <th>0</th>\n",
       "      <th>1</th>\n",
       "      <th>2</th>\n",
       "      <th>3</th>\n",
       "      <th>4</th>\n",
       "      <th>5</th>\n",
       "      <th>6</th>\n",
       "      <th>7</th>\n",
       "      <th>8</th>\n",
       "      <th>9</th>\n",
       "      <th>...</th>\n",
       "      <th>16486</th>\n",
       "      <th>16487</th>\n",
       "      <th>16488</th>\n",
       "      <th>16489</th>\n",
       "      <th>16490</th>\n",
       "      <th>16491</th>\n",
       "      <th>16492</th>\n",
       "      <th>16493</th>\n",
       "      <th>16494</th>\n",
       "      <th>16495</th>\n",
       "    </tr>\n",
       "  </thead>\n",
       "  <tbody>\n",
       "    <tr>\n",
       "      <th>0</th>\n",
       "      <td>-0.002198</td>\n",
       "      <td>-0.000084</td>\n",
       "      <td>-0.000439</td>\n",
       "      <td>-0.000023</td>\n",
       "      <td>-0.017905</td>\n",
       "      <td>-0.002931</td>\n",
       "      <td>-0.000027</td>\n",
       "      <td>-0.0001</td>\n",
       "      <td>-0.000024</td>\n",
       "      <td>-0.000024</td>\n",
       "      <td>...</td>\n",
       "      <td>-0.000026</td>\n",
       "      <td>-0.000097</td>\n",
       "      <td>-0.000026</td>\n",
       "      <td>-0.000206</td>\n",
       "      <td>-0.001193</td>\n",
       "      <td>-0.003573</td>\n",
       "      <td>-0.000096</td>\n",
       "      <td>-0.000079</td>\n",
       "      <td>-0.000041</td>\n",
       "      <td>-0.000031</td>\n",
       "    </tr>\n",
       "    <tr>\n",
       "      <th>1</th>\n",
       "      <td>-0.002198</td>\n",
       "      <td>-0.000084</td>\n",
       "      <td>-0.000439</td>\n",
       "      <td>-0.000023</td>\n",
       "      <td>-0.017905</td>\n",
       "      <td>-0.002931</td>\n",
       "      <td>-0.000027</td>\n",
       "      <td>-0.0001</td>\n",
       "      <td>-0.000024</td>\n",
       "      <td>-0.000024</td>\n",
       "      <td>...</td>\n",
       "      <td>-0.000026</td>\n",
       "      <td>-0.000097</td>\n",
       "      <td>-0.000026</td>\n",
       "      <td>-0.000206</td>\n",
       "      <td>-0.001193</td>\n",
       "      <td>-0.003573</td>\n",
       "      <td>0.310128</td>\n",
       "      <td>0.315514</td>\n",
       "      <td>-0.000041</td>\n",
       "      <td>-0.000031</td>\n",
       "    </tr>\n",
       "    <tr>\n",
       "      <th>2</th>\n",
       "      <td>-0.002198</td>\n",
       "      <td>-0.000084</td>\n",
       "      <td>-0.000439</td>\n",
       "      <td>-0.000023</td>\n",
       "      <td>-0.017905</td>\n",
       "      <td>-0.002931</td>\n",
       "      <td>-0.000027</td>\n",
       "      <td>-0.0001</td>\n",
       "      <td>-0.000024</td>\n",
       "      <td>-0.000024</td>\n",
       "      <td>...</td>\n",
       "      <td>-0.000026</td>\n",
       "      <td>-0.000097</td>\n",
       "      <td>-0.000026</td>\n",
       "      <td>-0.000206</td>\n",
       "      <td>-0.001193</td>\n",
       "      <td>-0.003573</td>\n",
       "      <td>-0.000096</td>\n",
       "      <td>-0.000079</td>\n",
       "      <td>-0.000041</td>\n",
       "      <td>-0.000031</td>\n",
       "    </tr>\n",
       "    <tr>\n",
       "      <th>3</th>\n",
       "      <td>-0.002198</td>\n",
       "      <td>-0.000084</td>\n",
       "      <td>-0.000439</td>\n",
       "      <td>-0.000023</td>\n",
       "      <td>-0.017905</td>\n",
       "      <td>-0.002931</td>\n",
       "      <td>-0.000027</td>\n",
       "      <td>-0.0001</td>\n",
       "      <td>-0.000024</td>\n",
       "      <td>-0.000024</td>\n",
       "      <td>...</td>\n",
       "      <td>-0.000026</td>\n",
       "      <td>-0.000097</td>\n",
       "      <td>-0.000026</td>\n",
       "      <td>-0.000206</td>\n",
       "      <td>-0.001193</td>\n",
       "      <td>-0.003573</td>\n",
       "      <td>-0.000096</td>\n",
       "      <td>-0.000079</td>\n",
       "      <td>-0.000041</td>\n",
       "      <td>-0.000031</td>\n",
       "    </tr>\n",
       "    <tr>\n",
       "      <th>4</th>\n",
       "      <td>-0.002198</td>\n",
       "      <td>-0.000084</td>\n",
       "      <td>-0.000439</td>\n",
       "      <td>-0.000023</td>\n",
       "      <td>-0.017905</td>\n",
       "      <td>-0.002931</td>\n",
       "      <td>-0.000027</td>\n",
       "      <td>-0.0001</td>\n",
       "      <td>-0.000024</td>\n",
       "      <td>-0.000024</td>\n",
       "      <td>...</td>\n",
       "      <td>-0.000026</td>\n",
       "      <td>-0.000097</td>\n",
       "      <td>-0.000026</td>\n",
       "      <td>-0.000206</td>\n",
       "      <td>-0.001193</td>\n",
       "      <td>-0.003573</td>\n",
       "      <td>-0.000096</td>\n",
       "      <td>-0.000079</td>\n",
       "      <td>-0.000041</td>\n",
       "      <td>-0.000031</td>\n",
       "    </tr>\n",
       "    <tr>\n",
       "      <th>5</th>\n",
       "      <td>-0.002198</td>\n",
       "      <td>-0.000084</td>\n",
       "      <td>-0.000439</td>\n",
       "      <td>-0.000023</td>\n",
       "      <td>-0.017905</td>\n",
       "      <td>-0.002931</td>\n",
       "      <td>-0.000027</td>\n",
       "      <td>-0.0001</td>\n",
       "      <td>-0.000024</td>\n",
       "      <td>-0.000024</td>\n",
       "      <td>...</td>\n",
       "      <td>-0.000026</td>\n",
       "      <td>-0.000097</td>\n",
       "      <td>-0.000026</td>\n",
       "      <td>-0.000206</td>\n",
       "      <td>-0.001193</td>\n",
       "      <td>-0.003573</td>\n",
       "      <td>-0.000096</td>\n",
       "      <td>-0.000079</td>\n",
       "      <td>-0.000041</td>\n",
       "      <td>-0.000031</td>\n",
       "    </tr>\n",
       "    <tr>\n",
       "      <th>6</th>\n",
       "      <td>-0.002198</td>\n",
       "      <td>-0.000084</td>\n",
       "      <td>-0.000439</td>\n",
       "      <td>-0.000023</td>\n",
       "      <td>-0.017905</td>\n",
       "      <td>-0.002931</td>\n",
       "      <td>-0.000027</td>\n",
       "      <td>-0.0001</td>\n",
       "      <td>-0.000024</td>\n",
       "      <td>-0.000024</td>\n",
       "      <td>...</td>\n",
       "      <td>-0.000026</td>\n",
       "      <td>-0.000097</td>\n",
       "      <td>-0.000026</td>\n",
       "      <td>-0.000206</td>\n",
       "      <td>-0.001193</td>\n",
       "      <td>-0.003573</td>\n",
       "      <td>-0.000096</td>\n",
       "      <td>-0.000079</td>\n",
       "      <td>-0.000041</td>\n",
       "      <td>-0.000031</td>\n",
       "    </tr>\n",
       "    <tr>\n",
       "      <th>7</th>\n",
       "      <td>-0.002198</td>\n",
       "      <td>-0.000084</td>\n",
       "      <td>-0.000439</td>\n",
       "      <td>-0.000023</td>\n",
       "      <td>-0.017905</td>\n",
       "      <td>-0.002931</td>\n",
       "      <td>-0.000027</td>\n",
       "      <td>-0.0001</td>\n",
       "      <td>-0.000024</td>\n",
       "      <td>-0.000024</td>\n",
       "      <td>...</td>\n",
       "      <td>-0.000026</td>\n",
       "      <td>-0.000097</td>\n",
       "      <td>-0.000026</td>\n",
       "      <td>-0.000206</td>\n",
       "      <td>-0.001193</td>\n",
       "      <td>-0.003573</td>\n",
       "      <td>-0.000096</td>\n",
       "      <td>-0.000079</td>\n",
       "      <td>-0.000041</td>\n",
       "      <td>-0.000031</td>\n",
       "    </tr>\n",
       "    <tr>\n",
       "      <th>8</th>\n",
       "      <td>-0.002198</td>\n",
       "      <td>-0.000084</td>\n",
       "      <td>-0.000439</td>\n",
       "      <td>-0.000023</td>\n",
       "      <td>-0.017905</td>\n",
       "      <td>-0.002931</td>\n",
       "      <td>-0.000027</td>\n",
       "      <td>-0.0001</td>\n",
       "      <td>-0.000024</td>\n",
       "      <td>-0.000024</td>\n",
       "      <td>...</td>\n",
       "      <td>-0.000026</td>\n",
       "      <td>-0.000097</td>\n",
       "      <td>-0.000026</td>\n",
       "      <td>-0.000206</td>\n",
       "      <td>-0.001193</td>\n",
       "      <td>-0.003573</td>\n",
       "      <td>-0.000096</td>\n",
       "      <td>-0.000079</td>\n",
       "      <td>-0.000041</td>\n",
       "      <td>-0.000031</td>\n",
       "    </tr>\n",
       "    <tr>\n",
       "      <th>9</th>\n",
       "      <td>-0.002198</td>\n",
       "      <td>-0.000084</td>\n",
       "      <td>-0.000439</td>\n",
       "      <td>-0.000023</td>\n",
       "      <td>-0.017905</td>\n",
       "      <td>-0.002931</td>\n",
       "      <td>-0.000027</td>\n",
       "      <td>-0.0001</td>\n",
       "      <td>-0.000024</td>\n",
       "      <td>-0.000024</td>\n",
       "      <td>...</td>\n",
       "      <td>-0.000026</td>\n",
       "      <td>-0.000097</td>\n",
       "      <td>-0.000026</td>\n",
       "      <td>-0.000206</td>\n",
       "      <td>-0.001193</td>\n",
       "      <td>-0.003573</td>\n",
       "      <td>-0.000096</td>\n",
       "      <td>-0.000079</td>\n",
       "      <td>-0.000041</td>\n",
       "      <td>-0.000031</td>\n",
       "    </tr>\n",
       "  </tbody>\n",
       "</table>\n",
       "<p>10 rows × 16496 columns</p>\n",
       "</div>"
      ],
      "text/plain": [
       "      0         1         2         3         4         5         6      \\\n",
       "0 -0.002198 -0.000084 -0.000439 -0.000023 -0.017905 -0.002931 -0.000027   \n",
       "1 -0.002198 -0.000084 -0.000439 -0.000023 -0.017905 -0.002931 -0.000027   \n",
       "2 -0.002198 -0.000084 -0.000439 -0.000023 -0.017905 -0.002931 -0.000027   \n",
       "3 -0.002198 -0.000084 -0.000439 -0.000023 -0.017905 -0.002931 -0.000027   \n",
       "4 -0.002198 -0.000084 -0.000439 -0.000023 -0.017905 -0.002931 -0.000027   \n",
       "5 -0.002198 -0.000084 -0.000439 -0.000023 -0.017905 -0.002931 -0.000027   \n",
       "6 -0.002198 -0.000084 -0.000439 -0.000023 -0.017905 -0.002931 -0.000027   \n",
       "7 -0.002198 -0.000084 -0.000439 -0.000023 -0.017905 -0.002931 -0.000027   \n",
       "8 -0.002198 -0.000084 -0.000439 -0.000023 -0.017905 -0.002931 -0.000027   \n",
       "9 -0.002198 -0.000084 -0.000439 -0.000023 -0.017905 -0.002931 -0.000027   \n",
       "\n",
       "    7         8         9      ...     16486     16487     16488     16489  \\\n",
       "0 -0.0001 -0.000024 -0.000024  ... -0.000026 -0.000097 -0.000026 -0.000206   \n",
       "1 -0.0001 -0.000024 -0.000024  ... -0.000026 -0.000097 -0.000026 -0.000206   \n",
       "2 -0.0001 -0.000024 -0.000024  ... -0.000026 -0.000097 -0.000026 -0.000206   \n",
       "3 -0.0001 -0.000024 -0.000024  ... -0.000026 -0.000097 -0.000026 -0.000206   \n",
       "4 -0.0001 -0.000024 -0.000024  ... -0.000026 -0.000097 -0.000026 -0.000206   \n",
       "5 -0.0001 -0.000024 -0.000024  ... -0.000026 -0.000097 -0.000026 -0.000206   \n",
       "6 -0.0001 -0.000024 -0.000024  ... -0.000026 -0.000097 -0.000026 -0.000206   \n",
       "7 -0.0001 -0.000024 -0.000024  ... -0.000026 -0.000097 -0.000026 -0.000206   \n",
       "8 -0.0001 -0.000024 -0.000024  ... -0.000026 -0.000097 -0.000026 -0.000206   \n",
       "9 -0.0001 -0.000024 -0.000024  ... -0.000026 -0.000097 -0.000026 -0.000206   \n",
       "\n",
       "      16490     16491     16492     16493     16494     16495  \n",
       "0 -0.001193 -0.003573 -0.000096 -0.000079 -0.000041 -0.000031  \n",
       "1 -0.001193 -0.003573  0.310128  0.315514 -0.000041 -0.000031  \n",
       "2 -0.001193 -0.003573 -0.000096 -0.000079 -0.000041 -0.000031  \n",
       "3 -0.001193 -0.003573 -0.000096 -0.000079 -0.000041 -0.000031  \n",
       "4 -0.001193 -0.003573 -0.000096 -0.000079 -0.000041 -0.000031  \n",
       "5 -0.001193 -0.003573 -0.000096 -0.000079 -0.000041 -0.000031  \n",
       "6 -0.001193 -0.003573 -0.000096 -0.000079 -0.000041 -0.000031  \n",
       "7 -0.001193 -0.003573 -0.000096 -0.000079 -0.000041 -0.000031  \n",
       "8 -0.001193 -0.003573 -0.000096 -0.000079 -0.000041 -0.000031  \n",
       "9 -0.001193 -0.003573 -0.000096 -0.000079 -0.000041 -0.000031  \n",
       "\n",
       "[10 rows x 16496 columns]"
      ]
     },
     "metadata": {},
     "execution_count": 41
    }
   ],
   "metadata": {}
  },
  {
   "cell_type": "markdown",
   "source": [
    "Reduce the dimensionality by applying PCA"
   ],
   "metadata": {}
  },
  {
   "cell_type": "code",
   "execution_count": 42,
   "source": [
    "pca = PCA()"
   ],
   "outputs": [],
   "metadata": {}
  },
  {
   "cell_type": "code",
   "execution_count": 43,
   "source": [
    "pca = PCA(n_components=1000)\r\n",
    "X_new = pca.fit_transform(tfidf_docs)"
   ],
   "outputs": [],
   "metadata": {}
  },
  {
   "cell_type": "code",
   "execution_count": 44,
   "source": [
    "#Checking for similarity\r\n",
    "pd.DataFrame(X_new[:10].dot(X_new[:10].T)).round(1)"
   ],
   "outputs": [
    {
     "output_type": "execute_result",
     "data": {
      "text/html": [
       "<div>\n",
       "<style scoped>\n",
       "    .dataframe tbody tr th:only-of-type {\n",
       "        vertical-align: middle;\n",
       "    }\n",
       "\n",
       "    .dataframe tbody tr th {\n",
       "        vertical-align: top;\n",
       "    }\n",
       "\n",
       "    .dataframe thead th {\n",
       "        text-align: right;\n",
       "    }\n",
       "</style>\n",
       "<table border=\"1\" class=\"dataframe\">\n",
       "  <thead>\n",
       "    <tr style=\"text-align: right;\">\n",
       "      <th></th>\n",
       "      <th>0</th>\n",
       "      <th>1</th>\n",
       "      <th>2</th>\n",
       "      <th>3</th>\n",
       "      <th>4</th>\n",
       "      <th>5</th>\n",
       "      <th>6</th>\n",
       "      <th>7</th>\n",
       "      <th>8</th>\n",
       "      <th>9</th>\n",
       "    </tr>\n",
       "  </thead>\n",
       "  <tbody>\n",
       "    <tr>\n",
       "      <th>0</th>\n",
       "      <td>0.4</td>\n",
       "      <td>-0.0</td>\n",
       "      <td>-0.0</td>\n",
       "      <td>0.0</td>\n",
       "      <td>-0.0</td>\n",
       "      <td>-0.0</td>\n",
       "      <td>-0.0</td>\n",
       "      <td>0.1</td>\n",
       "      <td>-0.0</td>\n",
       "      <td>-0.0</td>\n",
       "    </tr>\n",
       "    <tr>\n",
       "      <th>1</th>\n",
       "      <td>-0.0</td>\n",
       "      <td>0.3</td>\n",
       "      <td>-0.0</td>\n",
       "      <td>-0.0</td>\n",
       "      <td>-0.0</td>\n",
       "      <td>-0.0</td>\n",
       "      <td>-0.0</td>\n",
       "      <td>0.0</td>\n",
       "      <td>0.0</td>\n",
       "      <td>-0.0</td>\n",
       "    </tr>\n",
       "    <tr>\n",
       "      <th>2</th>\n",
       "      <td>-0.0</td>\n",
       "      <td>-0.0</td>\n",
       "      <td>0.7</td>\n",
       "      <td>0.0</td>\n",
       "      <td>0.0</td>\n",
       "      <td>-0.0</td>\n",
       "      <td>0.0</td>\n",
       "      <td>0.0</td>\n",
       "      <td>-0.0</td>\n",
       "      <td>-0.0</td>\n",
       "    </tr>\n",
       "    <tr>\n",
       "      <th>3</th>\n",
       "      <td>0.0</td>\n",
       "      <td>-0.0</td>\n",
       "      <td>0.0</td>\n",
       "      <td>0.3</td>\n",
       "      <td>0.0</td>\n",
       "      <td>0.0</td>\n",
       "      <td>-0.0</td>\n",
       "      <td>-0.0</td>\n",
       "      <td>-0.0</td>\n",
       "      <td>-0.0</td>\n",
       "    </tr>\n",
       "    <tr>\n",
       "      <th>4</th>\n",
       "      <td>-0.0</td>\n",
       "      <td>-0.0</td>\n",
       "      <td>0.0</td>\n",
       "      <td>0.0</td>\n",
       "      <td>0.7</td>\n",
       "      <td>-0.0</td>\n",
       "      <td>-0.0</td>\n",
       "      <td>0.0</td>\n",
       "      <td>-0.0</td>\n",
       "      <td>-0.0</td>\n",
       "    </tr>\n",
       "    <tr>\n",
       "      <th>5</th>\n",
       "      <td>-0.0</td>\n",
       "      <td>-0.0</td>\n",
       "      <td>-0.0</td>\n",
       "      <td>0.0</td>\n",
       "      <td>-0.0</td>\n",
       "      <td>0.4</td>\n",
       "      <td>0.0</td>\n",
       "      <td>0.0</td>\n",
       "      <td>0.1</td>\n",
       "      <td>-0.0</td>\n",
       "    </tr>\n",
       "    <tr>\n",
       "      <th>6</th>\n",
       "      <td>-0.0</td>\n",
       "      <td>-0.0</td>\n",
       "      <td>0.0</td>\n",
       "      <td>-0.0</td>\n",
       "      <td>-0.0</td>\n",
       "      <td>0.0</td>\n",
       "      <td>0.2</td>\n",
       "      <td>0.0</td>\n",
       "      <td>0.0</td>\n",
       "      <td>-0.0</td>\n",
       "    </tr>\n",
       "    <tr>\n",
       "      <th>7</th>\n",
       "      <td>0.1</td>\n",
       "      <td>0.0</td>\n",
       "      <td>0.0</td>\n",
       "      <td>-0.0</td>\n",
       "      <td>0.0</td>\n",
       "      <td>0.0</td>\n",
       "      <td>0.0</td>\n",
       "      <td>0.5</td>\n",
       "      <td>0.0</td>\n",
       "      <td>-0.0</td>\n",
       "    </tr>\n",
       "    <tr>\n",
       "      <th>8</th>\n",
       "      <td>-0.0</td>\n",
       "      <td>0.0</td>\n",
       "      <td>-0.0</td>\n",
       "      <td>-0.0</td>\n",
       "      <td>-0.0</td>\n",
       "      <td>0.1</td>\n",
       "      <td>0.0</td>\n",
       "      <td>0.0</td>\n",
       "      <td>0.6</td>\n",
       "      <td>-0.0</td>\n",
       "    </tr>\n",
       "    <tr>\n",
       "      <th>9</th>\n",
       "      <td>-0.0</td>\n",
       "      <td>-0.0</td>\n",
       "      <td>-0.0</td>\n",
       "      <td>-0.0</td>\n",
       "      <td>-0.0</td>\n",
       "      <td>-0.0</td>\n",
       "      <td>-0.0</td>\n",
       "      <td>-0.0</td>\n",
       "      <td>-0.0</td>\n",
       "      <td>0.5</td>\n",
       "    </tr>\n",
       "  </tbody>\n",
       "</table>\n",
       "</div>"
      ],
      "text/plain": [
       "     0    1    2    3    4    5    6    7    8    9\n",
       "0  0.4 -0.0 -0.0  0.0 -0.0 -0.0 -0.0  0.1 -0.0 -0.0\n",
       "1 -0.0  0.3 -0.0 -0.0 -0.0 -0.0 -0.0  0.0  0.0 -0.0\n",
       "2 -0.0 -0.0  0.7  0.0  0.0 -0.0  0.0  0.0 -0.0 -0.0\n",
       "3  0.0 -0.0  0.0  0.3  0.0  0.0 -0.0 -0.0 -0.0 -0.0\n",
       "4 -0.0 -0.0  0.0  0.0  0.7 -0.0 -0.0  0.0 -0.0 -0.0\n",
       "5 -0.0 -0.0 -0.0  0.0 -0.0  0.4  0.0  0.0  0.1 -0.0\n",
       "6 -0.0 -0.0  0.0 -0.0 -0.0  0.0  0.2  0.0  0.0 -0.0\n",
       "7  0.1  0.0  0.0 -0.0  0.0  0.0  0.0  0.5  0.0 -0.0\n",
       "8 -0.0  0.0 -0.0 -0.0 -0.0  0.1  0.0  0.0  0.6 -0.0\n",
       "9 -0.0 -0.0 -0.0 -0.0 -0.0 -0.0 -0.0 -0.0 -0.0  0.5"
      ]
     },
     "metadata": {},
     "execution_count": 44
    }
   ],
   "metadata": {
    "scrolled": true
   }
  },
  {
   "cell_type": "code",
   "execution_count": 45,
   "source": [
    "new_df = pd.DataFrame(X_new)\r\n",
    "new_df[\"category\"] = y\r\n",
    "new_df.head()"
   ],
   "outputs": [
    {
     "output_type": "execute_result",
     "data": {
      "text/html": [
       "<div>\n",
       "<style scoped>\n",
       "    .dataframe tbody tr th:only-of-type {\n",
       "        vertical-align: middle;\n",
       "    }\n",
       "\n",
       "    .dataframe tbody tr th {\n",
       "        vertical-align: top;\n",
       "    }\n",
       "\n",
       "    .dataframe thead th {\n",
       "        text-align: right;\n",
       "    }\n",
       "</style>\n",
       "<table border=\"1\" class=\"dataframe\">\n",
       "  <thead>\n",
       "    <tr style=\"text-align: right;\">\n",
       "      <th></th>\n",
       "      <th>0</th>\n",
       "      <th>1</th>\n",
       "      <th>2</th>\n",
       "      <th>3</th>\n",
       "      <th>4</th>\n",
       "      <th>5</th>\n",
       "      <th>6</th>\n",
       "      <th>7</th>\n",
       "      <th>8</th>\n",
       "      <th>9</th>\n",
       "      <th>...</th>\n",
       "      <th>991</th>\n",
       "      <th>992</th>\n",
       "      <th>993</th>\n",
       "      <th>994</th>\n",
       "      <th>995</th>\n",
       "      <th>996</th>\n",
       "      <th>997</th>\n",
       "      <th>998</th>\n",
       "      <th>999</th>\n",
       "      <th>category</th>\n",
       "    </tr>\n",
       "  </thead>\n",
       "  <tbody>\n",
       "    <tr>\n",
       "      <th>0</th>\n",
       "      <td>-0.048235</td>\n",
       "      <td>-0.053161</td>\n",
       "      <td>0.016758</td>\n",
       "      <td>-0.046550</td>\n",
       "      <td>-0.018398</td>\n",
       "      <td>0.003234</td>\n",
       "      <td>0.122535</td>\n",
       "      <td>0.027764</td>\n",
       "      <td>-0.052936</td>\n",
       "      <td>-0.026089</td>\n",
       "      <td>...</td>\n",
       "      <td>-0.012579</td>\n",
       "      <td>0.001445</td>\n",
       "      <td>-0.002215</td>\n",
       "      <td>-0.003683</td>\n",
       "      <td>-0.005629</td>\n",
       "      <td>-0.023917</td>\n",
       "      <td>-0.008892</td>\n",
       "      <td>0.006718</td>\n",
       "      <td>0.004505</td>\n",
       "      <td>0</td>\n",
       "    </tr>\n",
       "    <tr>\n",
       "      <th>1</th>\n",
       "      <td>-0.019644</td>\n",
       "      <td>-0.045558</td>\n",
       "      <td>0.007477</td>\n",
       "      <td>-0.015181</td>\n",
       "      <td>-0.038157</td>\n",
       "      <td>0.047930</td>\n",
       "      <td>0.009867</td>\n",
       "      <td>-0.048251</td>\n",
       "      <td>0.078919</td>\n",
       "      <td>0.181145</td>\n",
       "      <td>...</td>\n",
       "      <td>0.002263</td>\n",
       "      <td>0.029282</td>\n",
       "      <td>0.030720</td>\n",
       "      <td>0.014208</td>\n",
       "      <td>0.020531</td>\n",
       "      <td>-0.000456</td>\n",
       "      <td>0.029026</td>\n",
       "      <td>0.007716</td>\n",
       "      <td>-0.006406</td>\n",
       "      <td>0</td>\n",
       "    </tr>\n",
       "    <tr>\n",
       "      <th>2</th>\n",
       "      <td>0.059524</td>\n",
       "      <td>-0.050630</td>\n",
       "      <td>0.014088</td>\n",
       "      <td>0.017499</td>\n",
       "      <td>0.034848</td>\n",
       "      <td>-0.002484</td>\n",
       "      <td>-0.010142</td>\n",
       "      <td>-0.091695</td>\n",
       "      <td>-0.015024</td>\n",
       "      <td>-0.065567</td>\n",
       "      <td>...</td>\n",
       "      <td>-0.017096</td>\n",
       "      <td>0.007416</td>\n",
       "      <td>-0.027577</td>\n",
       "      <td>-0.012833</td>\n",
       "      <td>-0.003222</td>\n",
       "      <td>-0.008765</td>\n",
       "      <td>-0.003832</td>\n",
       "      <td>-0.033195</td>\n",
       "      <td>-0.019726</td>\n",
       "      <td>0</td>\n",
       "    </tr>\n",
       "    <tr>\n",
       "      <th>3</th>\n",
       "      <td>-0.038662</td>\n",
       "      <td>-0.052088</td>\n",
       "      <td>0.010021</td>\n",
       "      <td>-0.038116</td>\n",
       "      <td>0.001186</td>\n",
       "      <td>0.001947</td>\n",
       "      <td>0.089429</td>\n",
       "      <td>0.032982</td>\n",
       "      <td>-0.010793</td>\n",
       "      <td>0.000645</td>\n",
       "      <td>...</td>\n",
       "      <td>0.025383</td>\n",
       "      <td>0.028813</td>\n",
       "      <td>0.028529</td>\n",
       "      <td>-0.016804</td>\n",
       "      <td>-0.001207</td>\n",
       "      <td>-0.015744</td>\n",
       "      <td>-0.026400</td>\n",
       "      <td>0.017910</td>\n",
       "      <td>0.026685</td>\n",
       "      <td>0</td>\n",
       "    </tr>\n",
       "    <tr>\n",
       "      <th>4</th>\n",
       "      <td>-0.019468</td>\n",
       "      <td>-0.072099</td>\n",
       "      <td>0.020274</td>\n",
       "      <td>0.015738</td>\n",
       "      <td>0.031711</td>\n",
       "      <td>0.031034</td>\n",
       "      <td>-0.030594</td>\n",
       "      <td>-0.085184</td>\n",
       "      <td>-0.026411</td>\n",
       "      <td>-0.033109</td>\n",
       "      <td>...</td>\n",
       "      <td>0.013856</td>\n",
       "      <td>0.005316</td>\n",
       "      <td>0.011261</td>\n",
       "      <td>0.004180</td>\n",
       "      <td>0.036561</td>\n",
       "      <td>0.003750</td>\n",
       "      <td>-0.010880</td>\n",
       "      <td>0.006684</td>\n",
       "      <td>0.006572</td>\n",
       "      <td>0</td>\n",
       "    </tr>\n",
       "  </tbody>\n",
       "</table>\n",
       "<p>5 rows × 1001 columns</p>\n",
       "</div>"
      ],
      "text/plain": [
       "          0         1         2         3         4         5         6  \\\n",
       "0 -0.048235 -0.053161  0.016758 -0.046550 -0.018398  0.003234  0.122535   \n",
       "1 -0.019644 -0.045558  0.007477 -0.015181 -0.038157  0.047930  0.009867   \n",
       "2  0.059524 -0.050630  0.014088  0.017499  0.034848 -0.002484 -0.010142   \n",
       "3 -0.038662 -0.052088  0.010021 -0.038116  0.001186  0.001947  0.089429   \n",
       "4 -0.019468 -0.072099  0.020274  0.015738  0.031711  0.031034 -0.030594   \n",
       "\n",
       "          7         8         9  ...       991       992       993       994  \\\n",
       "0  0.027764 -0.052936 -0.026089  ... -0.012579  0.001445 -0.002215 -0.003683   \n",
       "1 -0.048251  0.078919  0.181145  ...  0.002263  0.029282  0.030720  0.014208   \n",
       "2 -0.091695 -0.015024 -0.065567  ... -0.017096  0.007416 -0.027577 -0.012833   \n",
       "3  0.032982 -0.010793  0.000645  ...  0.025383  0.028813  0.028529 -0.016804   \n",
       "4 -0.085184 -0.026411 -0.033109  ...  0.013856  0.005316  0.011261  0.004180   \n",
       "\n",
       "        995       996       997       998       999  category  \n",
       "0 -0.005629 -0.023917 -0.008892  0.006718  0.004505         0  \n",
       "1  0.020531 -0.000456  0.029026  0.007716 -0.006406         0  \n",
       "2 -0.003222 -0.008765 -0.003832 -0.033195 -0.019726         0  \n",
       "3 -0.001207 -0.015744 -0.026400  0.017910  0.026685         0  \n",
       "4  0.036561  0.003750 -0.010880  0.006684  0.006572         0  \n",
       "\n",
       "[5 rows x 1001 columns]"
      ]
     },
     "metadata": {},
     "execution_count": 45
    }
   ],
   "metadata": {}
  },
  {
   "cell_type": "code",
   "execution_count": 46,
   "source": [
    "#Defining X and Y again\r\n",
    "X = new_df.iloc[:,0:1000]\r\n",
    "y = new_df.category"
   ],
   "outputs": [],
   "metadata": {}
  },
  {
   "cell_type": "code",
   "execution_count": 47,
   "source": [
    "X_train,X_test,y_train,y_test = train_test_split(X,y,test_size=0.2,random_state=42)"
   ],
   "outputs": [],
   "metadata": {}
  },
  {
   "cell_type": "code",
   "execution_count": 48,
   "source": [
    "X_train.shape"
   ],
   "outputs": [
    {
     "output_type": "execute_result",
     "data": {
      "text/plain": [
       "(15220, 1000)"
      ]
     },
     "metadata": {},
     "execution_count": 48
    }
   ],
   "metadata": {}
  },
  {
   "cell_type": "markdown",
   "source": [
    "<p id='defining_model'><a href='#defining_model'>#</a></p>\r\n",
    "\r\n",
    "# 4 - Defining the model"
   ],
   "metadata": {}
  },
  {
   "cell_type": "code",
   "execution_count": 49,
   "source": [
    "model_lr = LogisticRegression(solver=\"saga\",multi_class=\"multinomial\",random_state=84)\r\n",
    "model_lr.fit(X_train,y_train)"
   ],
   "outputs": [
    {
     "output_type": "execute_result",
     "data": {
      "text/plain": [
       "LogisticRegression(multi_class='multinomial', random_state=84, solver='saga')"
      ]
     },
     "metadata": {},
     "execution_count": 49
    }
   ],
   "metadata": {}
  },
  {
   "cell_type": "code",
   "execution_count": 50,
   "source": [
    "yproba = model_lr.predict_proba(X_test)\r\n",
    "ypred_test = model_lr.predict(X_test)\r\n",
    "ypred_train = model_lr.predict(X_train)\r\n",
    "\r\n",
    "\r\n",
    "auc = roc_auc_score(y_test,yproba,multi_class=\"ovr\")\r\n",
    "\r\n",
    "print(\"------------------------------------------\")\r\n",
    "\r\n",
    "print(f\"o modelo {model_lr.__class__.__name__} teve AUC de {auc*100:.2f}\")\r\n",
    "print(f\"o modelo {model_lr.__class__.__name__} teve acuracia nos dados de teste de {accuracy_score(y_test,ypred_test)*100:.2f}\")\r\n",
    "print(f\"o modelo {model_lr.__class__.__name__} teve acuracia nos dados de treino de {accuracy_score(y_train,ypred_train)*100:.2f}\")\r\n",
    "\r\n",
    "print(\"-------------------------------------------------\")"
   ],
   "outputs": [
    {
     "output_type": "stream",
     "name": "stdout",
     "text": [
      "------------------------------------------\n",
      "o modelo LogisticRegression teve AUC de 95.06\n",
      "o modelo LogisticRegression teve acuracia nos dados de teste de 79.11\n",
      "o modelo LogisticRegression teve acuracia nos dados de treino de 82.69\n",
      "-------------------------------------------------\n"
     ]
    }
   ],
   "metadata": {
    "scrolled": false
   }
  },
  {
   "cell_type": "code",
   "execution_count": 51,
   "source": [
    "y_pred_test = model_lr.predict(X_test)\r\n",
    "print(classification_report(y_test,y_pred_test))"
   ],
   "outputs": [
    {
     "output_type": "stream",
     "name": "stdout",
     "text": [
      "              precision    recall  f1-score   support\n",
      "\n",
      "           0       0.75      0.75      0.75       751\n",
      "           1       0.75      0.87      0.81      1201\n",
      "           2       0.83      0.63      0.72       447\n",
      "           3       0.88      0.63      0.73       456\n",
      "           4       0.84      0.88      0.86       950\n",
      "\n",
      "    accuracy                           0.79      3805\n",
      "   macro avg       0.81      0.75      0.77      3805\n",
      "weighted avg       0.80      0.79      0.79      3805\n",
      "\n"
     ]
    }
   ],
   "metadata": {
    "scrolled": true
   }
  },
  {
   "cell_type": "markdown",
   "source": [
    "<p id='model_hyperparameters'><a href='#model_hyperparameters'>#</a></p>\r\n",
    "\r\n",
    "# 5 - Model Hyperparameters tuning"
   ],
   "metadata": {}
  },
  {
   "cell_type": "code",
   "execution_count": 52,
   "source": [
    "params = {\"C\": np.linspace(1,10,10),\"penalty\":[\"l2\",\"elasticnet\"],\"l1_ratio\":[0.2,0.3,0.7]}\r\n",
    "clf = RandomizedSearchCV(model_lr,params,cv=5,n_jobs=-1,n_iter=10)\r\n",
    "clf.fit(X_train,y_train)"
   ],
   "outputs": [
    {
     "output_type": "stream",
     "name": "stderr",
     "text": [
      "C:\\Users\\Talissa\\Documents\\env\\flask_projects\\lib\\site-packages\\sklearn\\linear_model\\_logistic.py:1476: UserWarning: l1_ratio parameter is only used when penalty is 'elasticnet'. Got (penalty=l2)\n",
      "  warnings.warn(\n"
     ]
    },
    {
     "output_type": "execute_result",
     "data": {
      "text/plain": [
       "RandomizedSearchCV(cv=5,\n",
       "                   estimator=LogisticRegression(multi_class='multinomial',\n",
       "                                                random_state=84,\n",
       "                                                solver='saga'),\n",
       "                   n_jobs=-1,\n",
       "                   param_distributions={'C': array([ 1.,  2.,  3.,  4.,  5.,  6.,  7.,  8.,  9., 10.]),\n",
       "                                        'l1_ratio': [0.2, 0.3, 0.7],\n",
       "                                        'penalty': ['l2', 'elasticnet']})"
      ]
     },
     "metadata": {},
     "execution_count": 52
    }
   ],
   "metadata": {}
  },
  {
   "cell_type": "code",
   "execution_count": 53,
   "source": [
    "clf.best_estimator_"
   ],
   "outputs": [
    {
     "output_type": "execute_result",
     "data": {
      "text/plain": [
       "LogisticRegression(C=4.0, l1_ratio=0.3, multi_class='multinomial',\n",
       "                   random_state=84, solver='saga')"
      ]
     },
     "metadata": {},
     "execution_count": 53
    }
   ],
   "metadata": {}
  },
  {
   "cell_type": "code",
   "execution_count": 54,
   "source": [
    "best_model = clf.best_estimator_"
   ],
   "outputs": [],
   "metadata": {}
  },
  {
   "cell_type": "code",
   "execution_count": 55,
   "source": [
    "#seeing the params\r\n",
    "best_model.get_params()"
   ],
   "outputs": [
    {
     "output_type": "execute_result",
     "data": {
      "text/plain": [
       "{'C': 4.0,\n",
       " 'class_weight': None,\n",
       " 'dual': False,\n",
       " 'fit_intercept': True,\n",
       " 'intercept_scaling': 1,\n",
       " 'l1_ratio': 0.3,\n",
       " 'max_iter': 100,\n",
       " 'multi_class': 'multinomial',\n",
       " 'n_jobs': None,\n",
       " 'penalty': 'l2',\n",
       " 'random_state': 84,\n",
       " 'solver': 'saga',\n",
       " 'tol': 0.0001,\n",
       " 'verbose': 0,\n",
       " 'warm_start': False}"
      ]
     },
     "metadata": {},
     "execution_count": 55
    }
   ],
   "metadata": {}
  },
  {
   "cell_type": "markdown",
   "source": [
    "<p id='results'><a href='#results'>#</a></p>\r\n",
    "\r\n",
    "# 6 - Results"
   ],
   "metadata": {}
  },
  {
   "cell_type": "code",
   "execution_count": 56,
   "source": [
    "y_pred_train_bm = best_model.predict(X_train)\r\n",
    "print(classification_report(y_train,y_pred_train_bm))"
   ],
   "outputs": [
    {
     "output_type": "stream",
     "name": "stdout",
     "text": [
      "              precision    recall  f1-score   support\n",
      "\n",
      "           0       0.83      0.84      0.83      3127\n",
      "           1       0.82      0.90      0.86      4736\n",
      "           2       0.88      0.71      0.79      1701\n",
      "           3       0.88      0.76      0.82      1722\n",
      "           4       0.89      0.91      0.90      3934\n",
      "\n",
      "    accuracy                           0.85     15220\n",
      "   macro avg       0.86      0.82      0.84     15220\n",
      "weighted avg       0.86      0.85      0.85     15220\n",
      "\n"
     ]
    }
   ],
   "metadata": {}
  },
  {
   "cell_type": "code",
   "execution_count": 57,
   "source": [
    "y_pred_test_bm = best_model.predict(X_test)\r\n",
    "print(classification_report(y_test,y_pred_test_bm))"
   ],
   "outputs": [
    {
     "output_type": "stream",
     "name": "stdout",
     "text": [
      "              precision    recall  f1-score   support\n",
      "\n",
      "           0       0.75      0.76      0.75       751\n",
      "           1       0.78      0.86      0.82      1201\n",
      "           2       0.81      0.68      0.74       447\n",
      "           3       0.84      0.68      0.75       456\n",
      "           4       0.85      0.87      0.86       950\n",
      "\n",
      "    accuracy                           0.80      3805\n",
      "   macro avg       0.80      0.77      0.78      3805\n",
      "weighted avg       0.80      0.80      0.80      3805\n",
      "\n"
     ]
    }
   ],
   "metadata": {}
  },
  {
   "cell_type": "markdown",
   "source": [
    "<p id='test'><a href='#test'>#</a></p>\r\n",
    "\r\n",
    "# 7 - Testing \r\n",
    "Performing a test with a news article seen on HuffPost itself."
   ],
   "metadata": {}
  },
  {
   "cell_type": "code",
   "execution_count": 60,
   "source": [
    "response = requests.get(\"https://www.huffpost.com/entry/apple-epic-games-ruling_n_613b856fe4b09519c5044f8d\")"
   ],
   "outputs": [],
   "metadata": {}
  },
  {
   "cell_type": "code",
   "execution_count": 61,
   "source": [
    "raw_data = BeautifulSoup(response.text,\"html.parser\")\r\n",
    "title_tag = str(raw_data.title)\r\n",
    "title_tag "
   ],
   "outputs": [
    {
     "output_type": "execute_result",
     "data": {
      "text/plain": [
       "\"<title>Federal Judge Loosens Apple's Grip On App Store In Epic Games Ruling | HuffPost Latest News</title>\""
      ]
     },
     "metadata": {},
     "execution_count": 61
    }
   ],
   "metadata": {}
  },
  {
   "cell_type": "code",
   "execution_count": 62,
   "source": [
    "strg= [txt for txt in  re.split(r\"<title>|</title>\",title_tag) if txt !='']\r\n",
    "strg"
   ],
   "outputs": [
    {
     "output_type": "execute_result",
     "data": {
      "text/plain": [
       "[\"Federal Judge Loosens Apple's Grip On App Store In Epic Games Ruling | HuffPost Latest News\"]"
      ]
     },
     "metadata": {},
     "execution_count": 62
    }
   ],
   "metadata": {}
  },
  {
   "cell_type": "code",
   "execution_count": 63,
   "source": [
    "text_news = [txt for txt in re.split(r\"\\s\\|\\s\\w+\" ,strg[0]) if txt !=''][0]\r\n",
    "text_news"
   ],
   "outputs": [
    {
     "output_type": "execute_result",
     "data": {
      "text/plain": [
       "\"Federal Judge Loosens Apple's Grip On App Store In Epic Games Ruling\""
      ]
     },
     "metadata": {},
     "execution_count": 63
    }
   ],
   "metadata": {}
  },
  {
   "cell_type": "code",
   "execution_count": 64,
   "source": [
    "def text_pipeline(text):\r\n",
    "    processed_text = process_text(text)\r\n",
    "    tfidf_text = tf_vect.transform([processed_text])\r\n",
    "    tfidf_text = np.array(tfidf_text.todense())\r\n",
    "    new_vec = pca.transform(tfidf_text)\r\n",
    "    return new_vec"
   ],
   "outputs": [],
   "metadata": {}
  },
  {
   "cell_type": "code",
   "execution_count": 65,
   "source": [
    "new_vec = text_pipeline(text_news)\r\n",
    "new_vec"
   ],
   "outputs": [
    {
     "output_type": "execute_result",
     "data": {
      "text/plain": [
       "array([[ 1.56274528e-02, -4.55689468e-02,  1.73520746e-02,\n",
       "         7.13842325e-05,  5.24754819e-02, -2.03750362e-02,\n",
       "        -3.14255428e-02, -5.63772775e-02,  3.01206385e-02,\n",
       "        -6.72532551e-02,  1.05787098e-01,  4.85780674e-02,\n",
       "         1.27405923e-01, -1.64231538e-02,  6.41296674e-04,\n",
       "        -1.72112676e-03,  9.54464423e-03,  1.83846464e-02,\n",
       "         1.43156495e-02,  1.35659789e-02,  2.61644393e-02,\n",
       "        -8.88551397e-03, -4.88552808e-04, -2.11745521e-02,\n",
       "         1.16673980e-02, -4.45292615e-03, -2.39280116e-02,\n",
       "        -3.71297178e-02,  1.13518946e-02,  3.01289167e-02,\n",
       "         4.56676795e-02,  3.90809892e-02, -5.74575279e-03,\n",
       "        -2.96437793e-03, -2.21860584e-02,  3.52616579e-03,\n",
       "        -1.63369176e-02, -1.52356839e-02,  8.26469272e-03,\n",
       "        -2.18573179e-02, -7.50575894e-03, -2.17629652e-02,\n",
       "         4.67132906e-03,  2.25068266e-02,  8.48329582e-03,\n",
       "         2.18284532e-02,  2.97758994e-02,  1.43310892e-02,\n",
       "        -2.24731967e-02, -1.38525809e-02, -1.76515571e-03,\n",
       "         4.51550101e-03, -1.15878049e-02, -3.01815944e-03,\n",
       "        -1.21529435e-02,  6.91763689e-03, -1.23306822e-02,\n",
       "         1.16074056e-02,  3.42073963e-03, -3.43470555e-02,\n",
       "         1.45407117e-02,  2.81415510e-02,  1.86939658e-02,\n",
       "         8.00369317e-03, -2.83833301e-02,  1.80179135e-02,\n",
       "        -6.21472541e-03, -2.08357379e-02, -4.05541401e-02,\n",
       "         1.28160559e-02, -1.76985255e-02, -1.75451689e-02,\n",
       "         8.63011998e-02, -2.71400542e-02,  2.59666884e-02,\n",
       "        -5.11551335e-02, -1.74607401e-02, -2.32322788e-02,\n",
       "         7.34405542e-03,  1.14938877e-02,  4.58463702e-02,\n",
       "        -6.93940852e-04,  2.71446173e-03, -1.14740183e-02,\n",
       "         5.87611229e-03,  3.27892078e-02, -1.60828497e-02,\n",
       "         1.01314783e-02, -7.90204263e-03,  4.44839016e-02,\n",
       "         3.27055491e-02, -2.88540580e-02, -5.52223105e-02,\n",
       "        -1.25671752e-02, -2.29290127e-02,  4.78452455e-04,\n",
       "        -5.39571053e-03, -3.66444533e-02,  1.00881195e-02,\n",
       "        -3.57034840e-02,  9.96144798e-03, -2.96709632e-02,\n",
       "         1.62811511e-02, -1.88719358e-02, -3.36779938e-02,\n",
       "        -2.11738216e-02,  1.86596499e-03, -2.00593778e-02,\n",
       "        -1.91655516e-02,  2.21282116e-02, -1.28157289e-02,\n",
       "         2.20200930e-02,  1.49714337e-03,  4.49857645e-03,\n",
       "        -1.13234100e-02, -2.12076889e-02, -2.76856121e-02,\n",
       "        -7.91601953e-03, -4.01295245e-02,  2.00556407e-02,\n",
       "         2.02981661e-02, -2.55059635e-03,  1.01178494e-02,\n",
       "         5.93846644e-03,  1.64647878e-02, -7.16939467e-03,\n",
       "         1.79930803e-02,  1.73465230e-02,  7.88546814e-03,\n",
       "        -6.92909695e-03,  2.88736891e-02,  1.02677157e-02,\n",
       "        -8.10844530e-03, -5.16513972e-03,  5.82427989e-03,\n",
       "        -1.06761615e-02, -7.16097713e-03, -1.83205476e-02,\n",
       "        -5.18187819e-03, -1.38054032e-02, -7.67326066e-03,\n",
       "        -9.02425269e-03,  6.70939502e-05,  1.93385065e-02,\n",
       "        -3.92823869e-03,  1.88139972e-02, -2.64382586e-02,\n",
       "        -2.19006904e-02, -1.27027719e-02,  2.04720011e-02,\n",
       "        -2.09131643e-02,  1.16487974e-03,  1.49045991e-02,\n",
       "        -1.79148172e-02, -2.59119938e-02, -1.17262623e-02,\n",
       "         1.45132209e-02, -8.89100844e-03, -7.22605741e-04,\n",
       "         1.40126711e-03, -5.29088566e-03, -1.32080588e-02,\n",
       "         3.74274214e-03, -2.50855166e-03, -8.91086826e-04,\n",
       "        -8.87861309e-03,  6.03035855e-03,  2.06574742e-02,\n",
       "         5.37099586e-03,  2.43056619e-02,  8.09851624e-03,\n",
       "         1.79731144e-02, -6.18982433e-03, -4.16030759e-03,\n",
       "        -8.38439545e-03, -1.78120960e-03,  7.00963411e-03,\n",
       "        -5.13403683e-03,  2.09525431e-03, -1.96510897e-03,\n",
       "        -3.43797446e-03,  2.71862500e-03,  6.41957371e-03,\n",
       "         4.73727692e-03,  1.34245875e-02, -1.09953654e-02,\n",
       "         1.11957183e-03, -3.61301264e-03,  2.64642077e-02,\n",
       "        -6.67712137e-03,  1.95577837e-03,  1.65105966e-02,\n",
       "        -5.19562127e-04,  1.38363309e-02, -2.42668456e-02,\n",
       "         8.01531651e-03, -1.07364656e-02, -1.72119052e-02,\n",
       "        -1.69587539e-02,  1.49208661e-02, -6.09732745e-03,\n",
       "        -1.90104945e-02, -4.03292849e-03, -1.01922844e-02,\n",
       "         1.65460790e-02,  1.41030391e-02, -6.45324604e-03,\n",
       "        -1.28390019e-02,  7.04550773e-03,  8.30422705e-03,\n",
       "        -2.16131043e-02,  1.90429552e-02, -2.10210849e-02,\n",
       "         2.68764331e-03,  4.02087817e-03,  2.80993623e-03,\n",
       "         1.13414278e-02,  1.50454095e-02,  3.89655155e-02,\n",
       "         3.68304531e-03, -2.91753463e-02,  3.61277075e-03,\n",
       "         1.10752023e-02, -4.28870420e-03,  3.40872088e-03,\n",
       "         1.13435129e-02, -6.50547975e-03, -7.79517661e-03,\n",
       "         3.99680207e-02, -1.19264020e-02,  6.27260027e-03,\n",
       "         7.84062685e-03,  1.28310429e-02,  2.63575095e-02,\n",
       "         1.68120924e-02, -1.83847326e-02,  2.27073045e-02,\n",
       "         4.16984277e-02,  1.41795217e-02, -1.05211763e-02,\n",
       "         4.28152296e-03, -3.43375149e-02, -1.31788290e-02,\n",
       "        -1.68638532e-03,  7.85237845e-03,  2.42296650e-02,\n",
       "         2.98191017e-02,  5.46279801e-02, -1.01899635e-02,\n",
       "        -3.64843229e-02, -3.25788016e-02, -2.00336584e-02,\n",
       "        -2.67210393e-04, -3.72978871e-02,  1.84673139e-02,\n",
       "         4.52854799e-02, -7.65266258e-04,  1.05087433e-02,\n",
       "        -1.55745405e-02,  2.52948142e-02, -3.43192433e-02,\n",
       "        -8.10904771e-03, -2.35226429e-03, -1.11197027e-02,\n",
       "        -1.71467489e-02, -1.65953543e-02, -1.24390694e-03,\n",
       "         3.53246173e-02, -4.76779153e-03, -1.65441215e-02,\n",
       "         3.98595248e-03, -1.53928076e-02, -1.99262231e-03,\n",
       "         9.77652807e-03,  3.40078012e-02,  4.26752983e-03,\n",
       "        -3.55323832e-04,  1.65536837e-02,  3.75985130e-02,\n",
       "        -2.87947977e-02,  2.01870473e-02, -1.80313771e-02,\n",
       "         6.20551414e-03, -4.59173887e-02, -2.30747143e-02,\n",
       "        -1.80962817e-02, -6.05810643e-04, -1.05637471e-02,\n",
       "         3.36369811e-02,  1.14016230e-02,  2.05027698e-02,\n",
       "        -2.02965930e-02, -1.74462658e-02, -3.41784306e-02,\n",
       "        -8.05759145e-03, -1.33556662e-02, -1.78082732e-03,\n",
       "        -3.75649108e-02,  4.81857151e-02, -4.49292563e-02,\n",
       "        -3.86679584e-02,  4.15668387e-03,  1.34754892e-02,\n",
       "        -1.91515333e-02, -2.04734664e-02, -2.66961589e-02,\n",
       "         1.06660538e-02,  1.38919563e-02, -1.55461739e-02,\n",
       "         2.85667799e-02, -3.37518793e-02, -2.41237770e-02,\n",
       "         9.01050382e-03, -2.03248616e-02, -7.07095253e-04,\n",
       "         4.39318722e-02,  3.14560598e-02,  2.05929479e-02,\n",
       "        -2.62494221e-02,  1.84505704e-02,  3.10760948e-02,\n",
       "         2.07589887e-02, -3.99738052e-03, -7.99405605e-03,\n",
       "        -4.36179117e-02,  3.70009755e-02, -2.47268469e-02,\n",
       "        -4.47004860e-02,  1.36131349e-02, -1.25965928e-02,\n",
       "         1.60979504e-02,  6.05030309e-03, -3.96403593e-02,\n",
       "         8.79723669e-03,  3.33276662e-02,  4.08455266e-02,\n",
       "         2.31967879e-02, -7.53597181e-03, -9.35929123e-04,\n",
       "        -1.73927738e-02, -3.54283333e-02, -2.00097283e-02,\n",
       "         2.78329110e-03,  2.38129397e-02, -4.51344069e-02,\n",
       "         8.58179632e-03,  4.17470948e-02,  1.45375863e-02,\n",
       "        -1.88687224e-02,  1.67708544e-02, -1.54390855e-02,\n",
       "        -3.43833205e-02, -2.84356387e-02,  2.50920245e-02,\n",
       "        -2.08729956e-02,  5.69747051e-02, -1.28230627e-02,\n",
       "         2.01761457e-02, -1.29485322e-03,  6.62851264e-03,\n",
       "        -2.50862798e-02, -1.81532416e-02,  2.62716511e-02,\n",
       "         4.22099660e-02,  2.13802950e-02,  4.02856383e-03,\n",
       "         2.44082942e-02,  2.80822069e-02, -2.28990970e-02,\n",
       "         3.73419930e-02,  4.63852839e-03,  1.64978168e-02,\n",
       "        -1.46629910e-02,  1.12909435e-02,  1.64845376e-02,\n",
       "        -2.56339861e-02, -1.96608537e-02, -2.48932597e-02,\n",
       "         2.39420105e-02, -8.66185208e-03, -6.60015667e-03,\n",
       "         4.07798031e-02, -1.60010249e-02, -2.38612787e-02,\n",
       "        -5.62678389e-03,  3.17851789e-02, -5.25310735e-03,\n",
       "         7.45246046e-03, -3.27266991e-02,  3.72360895e-02,\n",
       "        -9.54874754e-03,  3.19201307e-02,  2.20342056e-02,\n",
       "        -4.44953462e-05,  3.32111922e-03,  4.23018966e-03,\n",
       "        -3.15497681e-02,  2.38277511e-02, -1.05597041e-02,\n",
       "         5.87418702e-03, -4.12839432e-03,  1.00207757e-02,\n",
       "        -1.23606891e-04,  3.16386825e-03, -1.28652901e-02,\n",
       "         1.88757688e-02,  4.46989364e-03, -5.96934283e-03,\n",
       "        -4.80313316e-03, -5.63591832e-03, -2.72160568e-02,\n",
       "        -9.78009041e-04, -1.45820074e-02, -1.19614925e-02,\n",
       "        -8.75911820e-03, -1.73052861e-03, -2.82341616e-02,\n",
       "         2.77731799e-02, -1.05958653e-02,  5.39102493e-03,\n",
       "         1.67794920e-02, -2.92665669e-02,  2.90258010e-02,\n",
       "         2.77097349e-03, -1.19870448e-04, -2.25499086e-02,\n",
       "         1.56985285e-02,  1.87729365e-02,  1.14186041e-02,\n",
       "        -1.10893036e-02,  3.94911106e-02, -1.19568680e-02,\n",
       "         3.24323097e-02,  1.71366852e-02, -3.19081288e-02,\n",
       "         2.16605152e-02, -3.84471910e-02, -1.25742447e-02,\n",
       "         2.61761506e-02, -9.66814070e-03, -3.19147747e-02,\n",
       "         5.71724167e-03,  3.28511178e-02, -8.22968565e-03,\n",
       "         2.62549883e-02, -3.07014105e-02, -6.18364042e-03,\n",
       "        -4.73747210e-03,  1.61776768e-03,  1.24062754e-02,\n",
       "         2.88227474e-02, -1.50423291e-02, -1.35118104e-02,\n",
       "         4.58392454e-03,  2.69286716e-02, -1.30712825e-02,\n",
       "        -2.12774700e-03, -5.25802605e-03, -3.82305473e-02,\n",
       "         4.61400027e-02, -2.13467041e-02,  1.45696491e-02,\n",
       "         3.04131472e-02,  2.09945604e-02,  5.59254219e-03,\n",
       "         2.32636358e-03,  2.94897172e-02,  8.40339350e-03,\n",
       "        -3.04093586e-03,  8.81694607e-03,  1.05154056e-02,\n",
       "        -8.65988638e-03, -6.96196942e-03, -2.25105420e-02,\n",
       "         3.78309027e-02,  8.74061087e-03,  1.85686118e-02,\n",
       "         8.54720407e-03, -7.62379463e-03, -2.05123514e-02,\n",
       "         1.73699242e-02, -3.65209431e-03,  2.12757511e-02,\n",
       "        -2.36142937e-02,  2.01665679e-02,  1.55365111e-02,\n",
       "        -3.32307387e-02,  2.17073286e-02,  6.65762333e-03,\n",
       "        -2.80274703e-03, -1.16167346e-02, -2.45095654e-02,\n",
       "         1.93569440e-02,  1.19256942e-02,  5.05299664e-04,\n",
       "         5.61507592e-03,  1.84369471e-02, -4.80017633e-02,\n",
       "        -1.18203551e-02, -1.29345218e-02, -1.05168145e-02,\n",
       "        -8.09489857e-03, -1.10304094e-02,  4.66683428e-03,\n",
       "        -2.48375337e-02, -5.88146172e-03,  1.51260407e-02,\n",
       "        -1.56262259e-02,  8.23351762e-03, -8.79864981e-03,\n",
       "         2.32440666e-04, -2.40110448e-02, -5.51637080e-03,\n",
       "        -3.13065995e-04, -1.12507252e-02,  3.12674084e-02,\n",
       "        -1.14659163e-02,  2.62542512e-02, -2.60876424e-02,\n",
       "        -2.14046794e-02,  2.17834024e-02, -4.61042401e-02,\n",
       "         1.30873269e-02,  2.75295134e-02, -6.33020938e-03,\n",
       "         2.09246461e-02, -2.05180509e-02, -2.84383716e-03,\n",
       "        -7.28490882e-03, -9.58423366e-03, -3.61552907e-02,\n",
       "         2.95259845e-02, -3.43130841e-03,  4.48051144e-02,\n",
       "        -9.85418746e-03,  1.80755835e-02,  1.22903100e-03,\n",
       "         8.67971100e-03,  4.79626606e-03,  1.82611098e-02,\n",
       "         1.00997635e-02, -7.66069303e-03,  6.81248048e-03,\n",
       "        -3.10602339e-02, -6.18471829e-03,  5.76098443e-03,\n",
       "        -7.13871190e-03, -1.37412255e-03, -1.38395049e-02,\n",
       "         6.13722593e-02,  1.54883993e-02, -1.79497487e-02,\n",
       "         2.91986543e-03, -3.89845481e-02, -9.93375759e-03,\n",
       "         5.19419868e-03, -2.53580097e-02, -5.56193257e-02,\n",
       "         4.58997090e-02,  8.38057216e-03, -7.64073661e-03,\n",
       "        -1.30452974e-02, -3.60267647e-02,  2.74792148e-02,\n",
       "        -1.93976742e-02, -5.22351487e-03,  3.94125417e-02,\n",
       "         2.28220157e-03, -1.11007329e-02, -7.51175060e-03,\n",
       "        -1.03516090e-02,  3.31609770e-02, -7.50911348e-03,\n",
       "        -1.86690808e-02,  2.03096875e-03,  4.65777353e-03,\n",
       "         9.05288702e-03,  2.08865762e-03,  1.11915394e-02,\n",
       "         1.16986497e-02,  2.82185388e-02,  1.81159805e-02,\n",
       "        -2.72512606e-02,  1.60321226e-03, -2.24015782e-02,\n",
       "         5.04903430e-03,  1.70761947e-02,  2.56966358e-03,\n",
       "         2.37738913e-02, -8.74959310e-03,  1.63502688e-02,\n",
       "         1.09940476e-02,  3.32559141e-02,  3.58199704e-02,\n",
       "         5.37292067e-02,  1.32214451e-02, -1.95508143e-02,\n",
       "        -7.60409051e-03,  7.39297974e-03,  2.20665511e-02,\n",
       "         4.65492895e-02, -2.61729093e-02,  1.62602153e-02,\n",
       "        -8.66211911e-03, -2.57519194e-02,  2.33300213e-02,\n",
       "        -3.59477769e-02, -2.68783459e-02,  9.51735442e-03,\n",
       "         1.05567161e-02,  2.85670230e-02,  5.14830705e-03,\n",
       "         3.66291646e-02, -1.36926143e-02,  2.65627354e-02,\n",
       "        -1.88829473e-02,  4.10070853e-02, -6.27362892e-05,\n",
       "        -1.01115522e-03, -7.16897097e-03,  1.10417998e-02,\n",
       "        -1.28329000e-02, -3.20584857e-02,  2.34706475e-02,\n",
       "        -3.66939643e-02, -9.04724329e-03,  1.94715436e-02,\n",
       "        -6.66969975e-03, -2.19874691e-02, -2.49188579e-02,\n",
       "         4.22363169e-02, -2.09717444e-02,  4.52981566e-02,\n",
       "        -3.37365399e-02, -3.42291569e-05, -1.13365222e-02,\n",
       "        -5.50340007e-03,  3.45399036e-02, -1.98637864e-03,\n",
       "        -2.69059485e-02, -2.08808762e-03,  2.26081488e-02,\n",
       "        -2.18730802e-02,  4.72681186e-02, -1.58609406e-02,\n",
       "         4.86449301e-03,  2.49422303e-02, -7.04066882e-03,\n",
       "        -9.72300324e-03,  3.97559957e-02, -6.46817715e-03,\n",
       "         1.39493202e-03,  7.60056200e-03,  7.19436602e-04,\n",
       "         1.25757238e-02, -3.45293271e-03,  2.79978231e-02,\n",
       "         4.13785352e-03, -2.42226050e-03,  6.78337233e-03,\n",
       "         6.54508956e-03, -4.00239863e-03,  4.27970919e-02,\n",
       "        -2.66736798e-02, -1.04293285e-03, -2.64970445e-03,\n",
       "         1.17510929e-02,  2.55331936e-04,  2.17808993e-03,\n",
       "        -1.30643346e-02, -1.54986750e-02, -4.42053461e-03,\n",
       "         1.09903780e-02,  2.79058829e-03, -8.78131785e-03,\n",
       "         3.22007624e-02, -8.74723142e-03, -1.63621026e-03,\n",
       "        -3.63658625e-02,  1.11133700e-02,  1.49019596e-03,\n",
       "        -1.08263415e-02,  1.37638986e-02,  2.80469671e-02,\n",
       "        -5.13757565e-04,  6.90817835e-03, -3.58160884e-04,\n",
       "        -2.37148121e-02,  3.68388692e-03,  1.27111621e-02,\n",
       "         3.77067434e-02, -1.52103506e-02, -1.13047184e-02,\n",
       "         2.84951597e-02,  1.19927662e-02, -2.02520399e-03,\n",
       "         8.85788459e-03,  1.29490050e-02, -6.21561315e-03,\n",
       "        -2.10131482e-02,  2.19854776e-02, -8.46683499e-04,\n",
       "         1.96522091e-03, -2.09805719e-02, -1.41555338e-03,\n",
       "         3.05033600e-02,  2.73106442e-02, -7.29399155e-05,\n",
       "        -9.85743061e-03, -3.64239847e-02, -4.73702766e-02,\n",
       "        -3.07638010e-02,  1.48964994e-02, -1.43332055e-02,\n",
       "         2.90943202e-04,  1.14690623e-02,  6.00150972e-03,\n",
       "         2.14276623e-02, -9.45778582e-03,  2.58235000e-02,\n",
       "         2.31747287e-02,  6.40728678e-03, -1.10760072e-02,\n",
       "        -2.41086384e-02,  9.09718927e-03,  2.62678546e-02,\n",
       "         5.03798596e-03,  5.97210452e-02, -1.24144094e-02,\n",
       "        -3.16803095e-02,  7.17253295e-03, -2.98867440e-03,\n",
       "         1.94079408e-02, -4.55205207e-03, -3.73742027e-05,\n",
       "         3.56813104e-02,  2.58573959e-02,  4.34569078e-02,\n",
       "         1.46343751e-02, -8.80855234e-03,  1.76381539e-02,\n",
       "         3.76960168e-02, -1.01405354e-02,  1.61186739e-02,\n",
       "        -9.00626403e-03,  2.50988452e-02, -8.45612934e-03,\n",
       "         4.75317156e-03,  2.20243675e-02, -2.52179478e-02,\n",
       "         3.81924727e-02, -2.16377453e-02, -1.24266543e-02,\n",
       "        -5.36071182e-03,  4.19720905e-03,  1.01309535e-02,\n",
       "        -5.14458328e-02,  6.37077170e-03,  4.63850545e-03,\n",
       "         3.21071809e-02,  1.53256593e-02,  8.92636855e-03,\n",
       "         1.16104014e-04,  7.15870947e-02, -3.71552000e-03,\n",
       "        -1.98535880e-02,  2.63743173e-02, -1.22774320e-02,\n",
       "         2.36815633e-04,  1.51959645e-03, -2.05155373e-02,\n",
       "         2.17941255e-02, -3.51920041e-02,  1.27283346e-02,\n",
       "        -8.13152333e-03,  2.25255794e-02,  1.33854562e-03,\n",
       "         3.03314080e-02, -3.40928194e-03,  2.93457951e-02,\n",
       "         9.35344821e-03, -1.73413051e-02, -2.66212791e-02,\n",
       "         3.33723222e-03,  1.19642398e-02,  1.01130902e-02,\n",
       "         2.35464229e-02, -2.86809161e-02,  5.53143605e-02,\n",
       "        -3.56531701e-02, -2.76230306e-02, -7.37080556e-03,\n",
       "         4.72939084e-02, -4.44305620e-02,  3.95241139e-02,\n",
       "         1.22886048e-02,  3.47535470e-03,  1.60444639e-02,\n",
       "         1.97860084e-03, -7.73069905e-03, -1.30775958e-02,\n",
       "        -1.38064803e-02,  5.81083365e-03,  2.91810408e-03,\n",
       "         1.08626740e-02, -4.71865741e-03,  1.63139828e-02,\n",
       "        -3.21417913e-02,  1.08334721e-02,  4.48206592e-03,\n",
       "         9.77036529e-03,  2.04089842e-02,  1.82011603e-02,\n",
       "         4.02181589e-02, -2.24892116e-02, -1.87940495e-02,\n",
       "         1.90566506e-02,  1.10170476e-02,  2.11723717e-02,\n",
       "         4.39117819e-03, -9.30023617e-03,  1.96031439e-02,\n",
       "         2.87657556e-02, -2.94893616e-02, -1.02097749e-03,\n",
       "         4.87045907e-02,  3.59674723e-02, -8.66337863e-03,\n",
       "        -2.62075530e-03, -2.97800093e-03, -3.36334928e-03,\n",
       "         2.51579951e-02,  2.52664863e-02, -1.12314842e-02,\n",
       "         2.95365297e-03, -4.73290504e-03, -2.37163209e-02,\n",
       "         2.38013304e-02,  1.27566834e-03, -1.69316968e-02,\n",
       "        -2.20915246e-02,  3.82143664e-02,  6.88745187e-03,\n",
       "        -1.75721492e-02,  1.84324682e-02,  5.42425801e-02,\n",
       "        -1.72501426e-02, -3.64235174e-03, -9.93395063e-03,\n",
       "        -1.15714629e-02, -3.21927123e-02,  6.43676661e-03,\n",
       "         4.48514768e-03,  1.37974869e-02, -9.52172179e-03,\n",
       "        -5.79604856e-02,  5.09111903e-03, -1.97293117e-02,\n",
       "         1.87583693e-02, -2.72956219e-02, -9.09141610e-03,\n",
       "         1.07956853e-02, -3.56388878e-03, -2.64702976e-02,\n",
       "        -1.82491181e-02,  2.07638981e-02, -3.24569129e-02,\n",
       "         2.06175872e-02, -9.94916695e-03,  8.75588127e-03,\n",
       "        -2.04572406e-02,  1.74184878e-02, -2.01186952e-02,\n",
       "        -1.20069558e-02, -5.04309507e-03, -5.17806498e-04,\n",
       "         1.75674104e-02,  1.56314898e-02, -1.04719241e-04,\n",
       "        -1.00230331e-02,  2.71747205e-02, -4.41697789e-02,\n",
       "         1.03019737e-02, -2.39597338e-02,  2.69722386e-03,\n",
       "        -1.06813659e-02, -2.16354472e-02, -1.42753997e-02,\n",
       "        -3.43838238e-02,  7.97439516e-03, -1.14974470e-02,\n",
       "         6.07302463e-03, -1.79677587e-02, -5.13810455e-03,\n",
       "         2.58358535e-02, -2.59894091e-02,  1.94105441e-04,\n",
       "         5.38595000e-03,  8.89089392e-03,  1.57450636e-02,\n",
       "        -7.29560944e-03, -8.34602582e-04,  7.70369820e-03,\n",
       "         4.97465415e-02, -1.23822594e-02, -6.64172733e-03,\n",
       "         1.37803189e-02,  4.30713233e-03,  5.88078635e-03,\n",
       "        -1.12302092e-02,  3.27821886e-02, -4.84788953e-02,\n",
       "         1.27769994e-02, -1.86298994e-02, -9.50206553e-03,\n",
       "        -1.73834840e-03,  1.27588571e-02,  2.83872030e-02,\n",
       "        -2.77517391e-02, -8.69059916e-03, -4.03650782e-02,\n",
       "         5.81783742e-02, -1.02769900e-02, -9.40542265e-03,\n",
       "         3.54200085e-04, -4.45767982e-03, -1.16324706e-02,\n",
       "        -5.89256693e-03,  4.30845731e-03, -5.15614375e-04,\n",
       "        -1.14297693e-02,  2.07941391e-03,  1.39201399e-02,\n",
       "         7.38543955e-04, -1.78650901e-02, -3.14208071e-02,\n",
       "        -1.15065127e-02, -5.61085488e-03,  1.68616148e-03,\n",
       "        -4.29469259e-02,  1.78221467e-02, -1.24272135e-02,\n",
       "        -2.00425596e-02, -1.94236745e-02, -1.29872704e-02,\n",
       "         3.03022507e-02,  5.95451561e-03,  9.21986745e-03,\n",
       "         4.09456513e-02,  7.95289197e-04, -2.50022853e-02,\n",
       "        -2.23102770e-02, -8.12845939e-03,  1.43689638e-02,\n",
       "         2.48787182e-02,  9.90789151e-03,  1.41751338e-02,\n",
       "        -1.50397180e-02, -1.60263209e-02, -3.39226217e-02,\n",
       "        -5.56718805e-03, -6.64638787e-03,  4.20097556e-03,\n",
       "         2.76391695e-02,  4.13276979e-03,  3.02690258e-02,\n",
       "        -2.07555813e-02,  3.80137422e-03, -6.61135431e-04,\n",
       "         4.49555457e-03,  1.67287682e-03,  2.25328824e-02,\n",
       "        -1.29911223e-02,  1.09210226e-02,  3.79156415e-03,\n",
       "        -1.59455842e-02, -8.25960388e-03,  1.89510189e-02,\n",
       "        -6.58322605e-03,  1.75324998e-02, -1.48794319e-02,\n",
       "         3.59999352e-03,  1.80943446e-02,  3.40063933e-03,\n",
       "        -5.74984817e-03,  6.86611566e-03,  1.91660622e-03,\n",
       "        -1.51110178e-02, -4.03794483e-02, -1.14394564e-02,\n",
       "         7.57658364e-03,  2.90192669e-02,  1.26240253e-02,\n",
       "        -2.54937463e-02, -2.09854041e-02,  4.12370417e-03,\n",
       "         6.68110385e-03,  1.57784983e-02,  3.02009981e-02,\n",
       "        -4.50520047e-03]])"
      ]
     },
     "metadata": {},
     "execution_count": 65
    }
   ],
   "metadata": {}
  },
  {
   "cell_type": "code",
   "execution_count": 66,
   "source": [
    "best_model.predict(new_vec)"
   ],
   "outputs": [
    {
     "output_type": "execute_result",
     "data": {
      "text/plain": [
       "array([1], dtype=int64)"
      ]
     },
     "metadata": {},
     "execution_count": 66
    }
   ],
   "metadata": {}
  },
  {
   "cell_type": "markdown",
   "source": [
    "The news is about the Apple company and the model we created categorized it as \"Business\" which is correct! Yay!"
   ],
   "metadata": {}
  },
  {
   "cell_type": "markdown",
   "source": [
    "Saving the model and text preprocessing functions (tf_vect e pca)"
   ],
   "metadata": {}
  },
  {
   "cell_type": "code",
   "execution_count": 67,
   "source": [
    "filename_model = \"./save/my_model.sav\"\r\n",
    "pickle.dump(best_model,open(filename_model,\"wb\"))"
   ],
   "outputs": [],
   "metadata": {}
  },
  {
   "cell_type": "code",
   "execution_count": 68,
   "source": [
    "import cloudpickle\r\n",
    "\r\n",
    "filename_tf_vec = \"./save/tf_vec.sav\"\r\n",
    "cloudpickle.dump(tf_vect,open(filename_tf_vec,\"wb\"))"
   ],
   "outputs": [],
   "metadata": {}
  },
  {
   "cell_type": "code",
   "execution_count": 69,
   "source": [
    "filename_pca = \"./save/pca.sav\"\r\n",
    "pickle.dump(pca,open(filename_pca,\"wb\"))"
   ],
   "outputs": [],
   "metadata": {}
  }
 ],
 "metadata": {
  "interpreter": {
   "hash": "c753eab2c4894cfcfa2b48b32f0b85dfef57490aaab87781944845264929f7d2"
  },
  "kernelspec": {
   "name": "python3",
   "display_name": "Python 3.10.2 64-bit ('flask_projects': venv)"
  },
  "language_info": {
   "codemirror_mode": {
    "name": "ipython",
    "version": 3
   },
   "file_extension": ".py",
   "mimetype": "text/x-python",
   "name": "python",
   "nbconvert_exporter": "python",
   "pygments_lexer": "ipython3",
   "version": "3.10.2"
  }
 },
 "nbformat": 4,
 "nbformat_minor": 5
}