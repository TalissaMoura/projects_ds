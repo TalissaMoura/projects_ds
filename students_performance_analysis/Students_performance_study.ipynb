{
 "cells": [
  {
   "cell_type": "markdown",
   "metadata": {},
   "source": [
    "<h1> Seleção de atributos baseado em métricas</h1>"
   ]
  },
  {
   "cell_type": "markdown",
   "metadata": {},
   "source": [
    "<p> O objetivo geral desse caderno é realizar uma análise de dados no Student Performance Dataset, queremos descobrir as variaveis categóricas que mais influênciam ao dizer se um aluno foi reprovado ou não. Dito isso, considera-se que um aluno foi aprovado se ele obteve uma média de math score, reading score e writing score acima de 70 </p>\n",
    "<p> Será feita uma medição da força de influência das variáveis utilizando estatística e modelos de classificação (logistic regression, support vector classifier, decision trees e random forest). A partir disso podemos encontrar um padrão nos dados para melhor classificá-los   </p>"
   ]
  },
  {
   "cell_type": "code",
   "execution_count": 1,
   "metadata": {},
   "outputs": [],
   "source": [
    "#importando as bibliotecas\n",
    "import pandas as pd\n",
    "import numpy as np \n",
    "import matplotlib.pyplot as plt\n",
    "import seaborn as sns"
   ]
  },
  {
   "cell_type": "code",
   "execution_count": 2,
   "metadata": {},
   "outputs": [],
   "source": [
    "#lendo o dataset\n",
    "path = r\"C:\\Users\\talis\\Google Drive\\Estudos pessoais\\datascience\\datasets\\StudentsPerformance.csv\"\n",
    "df = pd.read_csv(path)"
   ]
  },
  {
   "cell_type": "code",
   "execution_count": 3,
   "metadata": {
    "scrolled": true
   },
   "outputs": [
    {
     "data": {
      "text/html": [
       "<div>\n",
       "<style scoped>\n",
       "    .dataframe tbody tr th:only-of-type {\n",
       "        vertical-align: middle;\n",
       "    }\n",
       "\n",
       "    .dataframe tbody tr th {\n",
       "        vertical-align: top;\n",
       "    }\n",
       "\n",
       "    .dataframe thead th {\n",
       "        text-align: right;\n",
       "    }\n",
       "</style>\n",
       "<table border=\"1\" class=\"dataframe\">\n",
       "  <thead>\n",
       "    <tr style=\"text-align: right;\">\n",
       "      <th></th>\n",
       "      <th>gender</th>\n",
       "      <th>race/ethnicity</th>\n",
       "      <th>parental level of education</th>\n",
       "      <th>lunch</th>\n",
       "      <th>test preparation course</th>\n",
       "      <th>math score</th>\n",
       "      <th>reading score</th>\n",
       "      <th>writing score</th>\n",
       "    </tr>\n",
       "  </thead>\n",
       "  <tbody>\n",
       "    <tr>\n",
       "      <th>0</th>\n",
       "      <td>female</td>\n",
       "      <td>group B</td>\n",
       "      <td>bachelor's degree</td>\n",
       "      <td>standard</td>\n",
       "      <td>none</td>\n",
       "      <td>72</td>\n",
       "      <td>72</td>\n",
       "      <td>74</td>\n",
       "    </tr>\n",
       "    <tr>\n",
       "      <th>1</th>\n",
       "      <td>female</td>\n",
       "      <td>group C</td>\n",
       "      <td>some college</td>\n",
       "      <td>standard</td>\n",
       "      <td>completed</td>\n",
       "      <td>69</td>\n",
       "      <td>90</td>\n",
       "      <td>88</td>\n",
       "    </tr>\n",
       "    <tr>\n",
       "      <th>2</th>\n",
       "      <td>female</td>\n",
       "      <td>group B</td>\n",
       "      <td>master's degree</td>\n",
       "      <td>standard</td>\n",
       "      <td>none</td>\n",
       "      <td>90</td>\n",
       "      <td>95</td>\n",
       "      <td>93</td>\n",
       "    </tr>\n",
       "    <tr>\n",
       "      <th>3</th>\n",
       "      <td>male</td>\n",
       "      <td>group A</td>\n",
       "      <td>associate's degree</td>\n",
       "      <td>free/reduced</td>\n",
       "      <td>none</td>\n",
       "      <td>47</td>\n",
       "      <td>57</td>\n",
       "      <td>44</td>\n",
       "    </tr>\n",
       "    <tr>\n",
       "      <th>4</th>\n",
       "      <td>male</td>\n",
       "      <td>group C</td>\n",
       "      <td>some college</td>\n",
       "      <td>standard</td>\n",
       "      <td>none</td>\n",
       "      <td>76</td>\n",
       "      <td>78</td>\n",
       "      <td>75</td>\n",
       "    </tr>\n",
       "    <tr>\n",
       "      <th>5</th>\n",
       "      <td>female</td>\n",
       "      <td>group B</td>\n",
       "      <td>associate's degree</td>\n",
       "      <td>standard</td>\n",
       "      <td>none</td>\n",
       "      <td>71</td>\n",
       "      <td>83</td>\n",
       "      <td>78</td>\n",
       "    </tr>\n",
       "    <tr>\n",
       "      <th>6</th>\n",
       "      <td>female</td>\n",
       "      <td>group B</td>\n",
       "      <td>some college</td>\n",
       "      <td>standard</td>\n",
       "      <td>completed</td>\n",
       "      <td>88</td>\n",
       "      <td>95</td>\n",
       "      <td>92</td>\n",
       "    </tr>\n",
       "    <tr>\n",
       "      <th>7</th>\n",
       "      <td>male</td>\n",
       "      <td>group B</td>\n",
       "      <td>some college</td>\n",
       "      <td>free/reduced</td>\n",
       "      <td>none</td>\n",
       "      <td>40</td>\n",
       "      <td>43</td>\n",
       "      <td>39</td>\n",
       "    </tr>\n",
       "    <tr>\n",
       "      <th>8</th>\n",
       "      <td>male</td>\n",
       "      <td>group D</td>\n",
       "      <td>high school</td>\n",
       "      <td>free/reduced</td>\n",
       "      <td>completed</td>\n",
       "      <td>64</td>\n",
       "      <td>64</td>\n",
       "      <td>67</td>\n",
       "    </tr>\n",
       "    <tr>\n",
       "      <th>9</th>\n",
       "      <td>female</td>\n",
       "      <td>group B</td>\n",
       "      <td>high school</td>\n",
       "      <td>free/reduced</td>\n",
       "      <td>none</td>\n",
       "      <td>38</td>\n",
       "      <td>60</td>\n",
       "      <td>50</td>\n",
       "    </tr>\n",
       "  </tbody>\n",
       "</table>\n",
       "</div>"
      ],
      "text/plain": [
       "   gender race/ethnicity parental level of education         lunch  \\\n",
       "0  female        group B           bachelor's degree      standard   \n",
       "1  female        group C                some college      standard   \n",
       "2  female        group B             master's degree      standard   \n",
       "3    male        group A          associate's degree  free/reduced   \n",
       "4    male        group C                some college      standard   \n",
       "5  female        group B          associate's degree      standard   \n",
       "6  female        group B                some college      standard   \n",
       "7    male        group B                some college  free/reduced   \n",
       "8    male        group D                 high school  free/reduced   \n",
       "9  female        group B                 high school  free/reduced   \n",
       "\n",
       "  test preparation course  math score  reading score  writing score  \n",
       "0                    none          72             72             74  \n",
       "1               completed          69             90             88  \n",
       "2                    none          90             95             93  \n",
       "3                    none          47             57             44  \n",
       "4                    none          76             78             75  \n",
       "5                    none          71             83             78  \n",
       "6               completed          88             95             92  \n",
       "7                    none          40             43             39  \n",
       "8               completed          64             64             67  \n",
       "9                    none          38             60             50  "
      ]
     },
     "execution_count": 3,
     "metadata": {},
     "output_type": "execute_result"
    }
   ],
   "source": [
    "df.head(10)"
   ]
  },
  {
   "cell_type": "code",
   "execution_count": 4,
   "metadata": {},
   "outputs": [
    {
     "data": {
      "text/plain": [
       "(1000, 8)"
      ]
     },
     "execution_count": 4,
     "metadata": {},
     "output_type": "execute_result"
    }
   ],
   "source": [
    "df.shape"
   ]
  },
  {
   "cell_type": "code",
   "execution_count": 6,
   "metadata": {
    "scrolled": false
   },
   "outputs": [
    {
     "data": {
      "text/plain": [
       "gender                         0.0\n",
       "race/ethnicity                 0.0\n",
       "parental level of education    0.0\n",
       "lunch                          0.0\n",
       "test preparation course        0.0\n",
       "math score                     0.0\n",
       "reading score                  0.0\n",
       "writing score                  0.0\n",
       "dtype: float64"
      ]
     },
     "execution_count": 6,
     "metadata": {},
     "output_type": "execute_result"
    }
   ],
   "source": [
    "#verificando dados nulos\n",
    "(df.isnull().sum()/df.shape[0])*100"
   ]
  },
  {
   "cell_type": "code",
   "execution_count": 5,
   "metadata": {
    "scrolled": false
   },
   "outputs": [
    {
     "data": {
      "text/html": [
       "<div>\n",
       "<style scoped>\n",
       "    .dataframe tbody tr th:only-of-type {\n",
       "        vertical-align: middle;\n",
       "    }\n",
       "\n",
       "    .dataframe tbody tr th {\n",
       "        vertical-align: top;\n",
       "    }\n",
       "\n",
       "    .dataframe thead th {\n",
       "        text-align: right;\n",
       "    }\n",
       "</style>\n",
       "<table border=\"1\" class=\"dataframe\">\n",
       "  <thead>\n",
       "    <tr style=\"text-align: right;\">\n",
       "      <th></th>\n",
       "      <th>gender</th>\n",
       "      <th>race/ethnicity</th>\n",
       "      <th>parental_level_of_education</th>\n",
       "      <th>lunch</th>\n",
       "      <th>test_preparation_course</th>\n",
       "      <th>math_score</th>\n",
       "      <th>reading_score</th>\n",
       "      <th>writing_score</th>\n",
       "    </tr>\n",
       "  </thead>\n",
       "  <tbody>\n",
       "    <tr>\n",
       "      <th>0</th>\n",
       "      <td>female</td>\n",
       "      <td>group B</td>\n",
       "      <td>bachelor's degree</td>\n",
       "      <td>standard</td>\n",
       "      <td>none</td>\n",
       "      <td>72</td>\n",
       "      <td>72</td>\n",
       "      <td>74</td>\n",
       "    </tr>\n",
       "    <tr>\n",
       "      <th>1</th>\n",
       "      <td>female</td>\n",
       "      <td>group C</td>\n",
       "      <td>some college</td>\n",
       "      <td>standard</td>\n",
       "      <td>completed</td>\n",
       "      <td>69</td>\n",
       "      <td>90</td>\n",
       "      <td>88</td>\n",
       "    </tr>\n",
       "    <tr>\n",
       "      <th>2</th>\n",
       "      <td>female</td>\n",
       "      <td>group B</td>\n",
       "      <td>master's degree</td>\n",
       "      <td>standard</td>\n",
       "      <td>none</td>\n",
       "      <td>90</td>\n",
       "      <td>95</td>\n",
       "      <td>93</td>\n",
       "    </tr>\n",
       "    <tr>\n",
       "      <th>3</th>\n",
       "      <td>male</td>\n",
       "      <td>group A</td>\n",
       "      <td>associate's degree</td>\n",
       "      <td>free/reduced</td>\n",
       "      <td>none</td>\n",
       "      <td>47</td>\n",
       "      <td>57</td>\n",
       "      <td>44</td>\n",
       "    </tr>\n",
       "    <tr>\n",
       "      <th>4</th>\n",
       "      <td>male</td>\n",
       "      <td>group C</td>\n",
       "      <td>some college</td>\n",
       "      <td>standard</td>\n",
       "      <td>none</td>\n",
       "      <td>76</td>\n",
       "      <td>78</td>\n",
       "      <td>75</td>\n",
       "    </tr>\n",
       "  </tbody>\n",
       "</table>\n",
       "</div>"
      ],
      "text/plain": [
       "   gender race/ethnicity parental_level_of_education         lunch  \\\n",
       "0  female        group B           bachelor's degree      standard   \n",
       "1  female        group C                some college      standard   \n",
       "2  female        group B             master's degree      standard   \n",
       "3    male        group A          associate's degree  free/reduced   \n",
       "4    male        group C                some college      standard   \n",
       "\n",
       "  test_preparation_course  math_score  reading_score  writing_score  \n",
       "0                    none          72             72             74  \n",
       "1               completed          69             90             88  \n",
       "2                    none          90             95             93  \n",
       "3                    none          47             57             44  \n",
       "4                    none          76             78             75  "
      ]
     },
     "execution_count": 5,
     "metadata": {},
     "output_type": "execute_result"
    }
   ],
   "source": [
    "#para facilitar a escrita vamos modificar o nome de algumas colunas\n",
    "df.rename(columns={\"parental level of education\":\"parental_level_of_education\",\"test preparation course\":'test_preparation_course',\n",
    "               \"math score\":\"math_score\",\"reading score\":\"reading_score\",\"writing score\":\"writing_score\"},inplace=True)\n",
    "df.head(5)"
   ]
  },
  {
   "cell_type": "code",
   "execution_count": 6,
   "metadata": {
    "scrolled": true
   },
   "outputs": [
    {
     "data": {
      "text/html": [
       "<div>\n",
       "<style scoped>\n",
       "    .dataframe tbody tr th:only-of-type {\n",
       "        vertical-align: middle;\n",
       "    }\n",
       "\n",
       "    .dataframe tbody tr th {\n",
       "        vertical-align: top;\n",
       "    }\n",
       "\n",
       "    .dataframe thead th {\n",
       "        text-align: right;\n",
       "    }\n",
       "</style>\n",
       "<table border=\"1\" class=\"dataframe\">\n",
       "  <thead>\n",
       "    <tr style=\"text-align: right;\">\n",
       "      <th></th>\n",
       "      <th>gender</th>\n",
       "      <th>race/ethnicity</th>\n",
       "      <th>parental_level_of_education</th>\n",
       "      <th>lunch</th>\n",
       "      <th>test_preparation_course</th>\n",
       "      <th>math_score</th>\n",
       "      <th>reading_score</th>\n",
       "      <th>writing_score</th>\n",
       "      <th>status</th>\n",
       "    </tr>\n",
       "  </thead>\n",
       "  <tbody>\n",
       "    <tr>\n",
       "      <th>0</th>\n",
       "      <td>female</td>\n",
       "      <td>group B</td>\n",
       "      <td>bachelor's degree</td>\n",
       "      <td>standard</td>\n",
       "      <td>none</td>\n",
       "      <td>72</td>\n",
       "      <td>72</td>\n",
       "      <td>74</td>\n",
       "      <td>1</td>\n",
       "    </tr>\n",
       "    <tr>\n",
       "      <th>1</th>\n",
       "      <td>female</td>\n",
       "      <td>group C</td>\n",
       "      <td>some college</td>\n",
       "      <td>standard</td>\n",
       "      <td>completed</td>\n",
       "      <td>69</td>\n",
       "      <td>90</td>\n",
       "      <td>88</td>\n",
       "      <td>1</td>\n",
       "    </tr>\n",
       "    <tr>\n",
       "      <th>2</th>\n",
       "      <td>female</td>\n",
       "      <td>group B</td>\n",
       "      <td>master's degree</td>\n",
       "      <td>standard</td>\n",
       "      <td>none</td>\n",
       "      <td>90</td>\n",
       "      <td>95</td>\n",
       "      <td>93</td>\n",
       "      <td>1</td>\n",
       "    </tr>\n",
       "    <tr>\n",
       "      <th>3</th>\n",
       "      <td>male</td>\n",
       "      <td>group A</td>\n",
       "      <td>associate's degree</td>\n",
       "      <td>free/reduced</td>\n",
       "      <td>none</td>\n",
       "      <td>47</td>\n",
       "      <td>57</td>\n",
       "      <td>44</td>\n",
       "      <td>0</td>\n",
       "    </tr>\n",
       "    <tr>\n",
       "      <th>4</th>\n",
       "      <td>male</td>\n",
       "      <td>group C</td>\n",
       "      <td>some college</td>\n",
       "      <td>standard</td>\n",
       "      <td>none</td>\n",
       "      <td>76</td>\n",
       "      <td>78</td>\n",
       "      <td>75</td>\n",
       "      <td>1</td>\n",
       "    </tr>\n",
       "  </tbody>\n",
       "</table>\n",
       "</div>"
      ],
      "text/plain": [
       "   gender race/ethnicity parental_level_of_education         lunch  \\\n",
       "0  female        group B           bachelor's degree      standard   \n",
       "1  female        group C                some college      standard   \n",
       "2  female        group B             master's degree      standard   \n",
       "3    male        group A          associate's degree  free/reduced   \n",
       "4    male        group C                some college      standard   \n",
       "\n",
       "  test_preparation_course  math_score  reading_score  writing_score  status  \n",
       "0                    none          72             72             74       1  \n",
       "1               completed          69             90             88       1  \n",
       "2                    none          90             95             93       1  \n",
       "3                    none          47             57             44       0  \n",
       "4                    none          76             78             75       1  "
      ]
     },
     "execution_count": 6,
     "metadata": {},
     "output_type": "execute_result"
    }
   ],
   "source": [
    "#vamos considerar que um estudante aprovado é aquele que tem a media de math_score,reading_score e writing_score \n",
    "#acima de 70\n",
    "# 1 significa que o aluno foi aprovado e 0 que o aluno foi reprovado\n",
    "df[\"status\"] = (df[\"math_score\"]+df[\"reading_score\"]+df[\"writing_score\"])/3\n",
    "df[\"status\"] = df[\"status\"].apply(lambda x: 1 if (x>=70) else 0)\n",
    "df.head(5)"
   ]
  },
  {
   "cell_type": "code",
   "execution_count": 9,
   "metadata": {},
   "outputs": [
    {
     "data": {
      "text/plain": [
       "status\n",
       "0    54.1\n",
       "1    45.9\n",
       "dtype: float64"
      ]
     },
     "execution_count": 9,
     "metadata": {},
     "output_type": "execute_result"
    }
   ],
   "source": [
    "#vamos fazer algumas analises, primeiro vamos verificar a % de aprovados\n",
    "(df.groupby([\"status\"]).size()/df.shape[0])*100"
   ]
  },
  {
   "cell_type": "code",
   "execution_count": 10,
   "metadata": {
    "scrolled": true
   },
   "outputs": [
    {
     "name": "stderr",
     "output_type": "stream",
     "text": [
      "C:\\Users\\talis\\Anaconda3\\lib\\site-packages\\seaborn\\_decorators.py:43: FutureWarning: Pass the following variable as a keyword arg: x. From version 0.12, the only valid positional argument will be `data`, and passing other arguments without an explicit keyword will result in an error or misinterpretation.\n",
      "  FutureWarning\n"
     ]
    },
    {
     "data": {
      "text/plain": [
       "<matplotlib.axes._subplots.AxesSubplot at 0x191fad5b0f0>"
      ]
     },
     "execution_count": 10,
     "metadata": {},
     "output_type": "execute_result"
    },
    {
     "data": {
      "image/png": "[encoded data removed]",
      "text/plain": [
       "<Figure size 432x288 with 1 Axes>"
      ]
     },
     "metadata": {
      "needs_background": "light"
     },
     "output_type": "display_data"
    }
   ],
   "source": [
    "sns.countplot(\"status\",data=df)"
   ]
  },
  {
   "cell_type": "markdown",
   "metadata": {},
   "source": [
    "<p> Como podemos observar temos um diferença entre a quantidade de classes, com uma quantidade menor de aprovados em relação aos reprovados. Isso deverá ser levado em conta quando se fazer um modelo preditivo. Antes disso, vamos vamos fazer uma analise descritiva dos dados </p>"
   ]
  },
  {
   "cell_type": "code",
   "execution_count": 11,
   "metadata": {
    "scrolled": false
   },
   "outputs": [
    {
     "data": {
      "text/plain": [
       "race/ethnicity\n",
       "group A    28.089888\n",
       "group B    38.421053\n",
       "group C    44.514107\n",
       "group D    50.381679\n",
       "group E    62.142857\n",
       "dtype: float64"
      ]
     },
     "execution_count": 11,
     "metadata": {},
     "output_type": "execute_result"
    }
   ],
   "source": [
    "#vamos verificar a % de aprovados por grupo\n",
    "((df[df[\"status\"]==1].groupby(df[\"race/ethnicity\"]).size())/(df.groupby([\"race/ethnicity\"]).size()))*100"
   ]
  },
  {
   "cell_type": "code",
   "execution_count": 12,
   "metadata": {},
   "outputs": [
    {
     "data": {
      "text/plain": [
       "race/ethnicity\n",
       "group A    71.910112\n",
       "group B    61.578947\n",
       "group C    55.485893\n",
       "group D    49.618321\n",
       "group E    37.857143\n",
       "dtype: float64"
      ]
     },
     "execution_count": 12,
     "metadata": {},
     "output_type": "execute_result"
    }
   ],
   "source": [
    "#vamos verificar a % de reprovados por race/ethnicity\n",
    "((df[df[\"status\"]==0].groupby(df[\"race/ethnicity\"]).size())/(df.groupby([\"race/ethnicity\"]).size()))*100"
   ]
  },
  {
   "cell_type": "code",
   "execution_count": 13,
   "metadata": {},
   "outputs": [
    {
     "data": {
      "text/plain": [
       "<matplotlib.axes._subplots.AxesSubplot at 0x191fce3f240>"
      ]
     },
     "execution_count": 13,
     "metadata": {},
     "output_type": "execute_result"
    },
    {
     "data": {
      "image/png": "[encoded data removed]",
      "text/plain": [
       "<Figure size 432x288 with 1 Axes>"
      ]
     },
     "metadata": {
      "needs_background": "light"
     },
     "output_type": "display_data"
    }
   ],
   "source": [
    "#visualizando os dados de race/ethnicity em grafico\n",
    "sns.countplot(x=\"status\",hue = \"race/ethnicity\",data=df.sort_values([\"race/ethnicity\"],ascending=True),palette=\"tab10\")"
   ]
  },
  {
   "cell_type": "code",
   "execution_count": 14,
   "metadata": {},
   "outputs": [
    {
     "data": {
      "text/plain": [
       "gender  status\n",
       "female  0         250\n",
       "        1         268\n",
       "male    0         291\n",
       "        1         191\n",
       "dtype: int64"
      ]
     },
     "execution_count": 14,
     "metadata": {},
     "output_type": "execute_result"
    }
   ],
   "source": [
    "#quantidade de aprovados e reprovados por genero\n",
    "df.groupby([\"gender\",\"status\"]).size()"
   ]
  },
  {
   "cell_type": "code",
   "execution_count": 15,
   "metadata": {
    "scrolled": true
   },
   "outputs": [
    {
     "data": {
      "text/plain": [
       "<matplotlib.axes._subplots.AxesSubplot at 0x191fcede748>"
      ]
     },
     "execution_count": 15,
     "metadata": {},
     "output_type": "execute_result"
    },
    {
     "data": {
      "image/png": "[encoded data removed]",
      "text/plain": [
       "<Figure size 432x288 with 1 Axes>"
      ]
     },
     "metadata": {
      "needs_background": "light"
     },
     "output_type": "display_data"
    }
   ],
   "source": [
    "#aqui podemos perceber um fator interessante, dentro do numero de aprovados temos uma maior quantidade de mulheres e nos de \n",
    "#reprovados temos uma quantidade maior de homens \n",
    "sns.countplot(x=\"status\",hue = \"gender\",data=df,palette=\"RdBu\")"
   ]
  },
  {
   "cell_type": "code",
   "execution_count": 15,
   "metadata": {},
   "outputs": [
    {
     "data": {
      "text/plain": [
       "<matplotlib.legend.Legend at 0x228227c7860>"
      ]
     },
     "execution_count": 15,
     "metadata": {},
     "output_type": "execute_result"
    },
    {
     "data": {
      "image/png": "[encoded data removed]",
      "text/plain": [
       "<Figure size 432x288 with 1 Axes>"
      ]
     },
     "metadata": {
      "needs_background": "light"
     },
     "output_type": "display_data"
    }
   ],
   "source": [
    "#vamos verificar a relação entre status e parental_level_of_education\n",
    "sns.countplot(y=\"status\",hue = \"parental_level_of_education\",data=df,orient=\"h\")\n",
    "plt.legend(bbox_to_anchor=(.85,.5))"
   ]
  },
  {
   "cell_type": "code",
   "execution_count": 16,
   "metadata": {
    "scrolled": true
   },
   "outputs": [
    {
     "data": {
      "text/plain": [
       "<matplotlib.legend.Legend at 0x191fcef48d0>"
      ]
     },
     "execution_count": 16,
     "metadata": {},
     "output_type": "execute_result"
    },
    {
     "data": {
      "image/png": "[encoded data removed]",
      "text/plain": [
       "<Figure size 432x288 with 1 Axes>"
      ]
     },
     "metadata": {
      "needs_background": "light"
     },
     "output_type": "display_data"
    }
   ],
   "source": [
    "#vamos verificar a relação entre aprovados e slunch\n",
    "sns.countplot(y=\"status\",hue = \"lunch\",data=df,orient=\"h\")\n",
    "plt.legend(bbox_to_anchor=(.85,.5))"
   ]
  },
  {
   "cell_type": "code",
   "execution_count": 17,
   "metadata": {
    "scrolled": true
   },
   "outputs": [
    {
     "data": {
      "text/plain": [
       "<matplotlib.legend.Legend at 0x191fcef4048>"
      ]
     },
     "execution_count": 17,
     "metadata": {},
     "output_type": "execute_result"
    },
    {
     "data": {
      "image/png": "[encoded data removed]",
      "text/plain": [
       "<Figure size 432x288 with 1 Axes>"
      ]
     },
     "metadata": {
      "needs_background": "light"
     },
     "output_type": "display_data"
    }
   ],
   "source": [
    "sns.countplot(y=\"status\",hue = \"test_preparation_course\",data=df,orient=\"h\")\n",
    "plt.legend(bbox_to_anchor=(.85,.5))"
   ]
  },
  {
   "cell_type": "markdown",
   "metadata": {},
   "source": [
    "<p> Com base nos dados podemos afirmar que muitos dos alunos aprovados tem pais com escolaridade maior do que o ensino medio apesar de ter uma parcela significativa de pais somente com ensino medio, além disso muitos apresentaram boas condições de alimentação e percebe-se que muitos não tiveram curso prepatorio mas uma parcela significativa tambem realizou curso. </p>\n",
    "\n",
    "<p> Em relação aos reprovados é visto que uma parcela grande dos pais tem apenas ensino medio, muitos não realizaram curso preparatorio e uma parcela significativa teve comida reduzida,ou seja, é possivel que muitos dos alunos com notas baixas estejam em situação economica desfavorável. </p>\n",
    "\n",
    "<p> É importante analisar também, muito dos grupos reprovados são parte do grupo A,B,C e muitos aprovados são do grupo D e E. Em relação ao genero é visto uma quantidade maior de mulheres aprovadas e uma quantidade maior de homens reprovados.  </p>"
   ]
  },
  {
   "cell_type": "code",
   "execution_count": 18,
   "metadata": {
    "scrolled": true
   },
   "outputs": [
    {
     "data": {
      "text/plain": [
       "<matplotlib.axes._subplots.AxesSubplot at 0x191fcf59f60>"
      ]
     },
     "execution_count": 18,
     "metadata": {},
     "output_type": "execute_result"
    },
    {
     "data": {
      "image/png": "[encoded data removed]",
      "text/plain": [
       "<Figure size 432x288 with 1 Axes>"
      ]
     },
     "metadata": {
      "needs_background": "light"
     },
     "output_type": "display_data"
    }
   ],
   "source": [
    "#verificando a relação entre reading score e math score\n",
    "sns.scatterplot(x=\"math_score\",y=\"reading_score\",hue=\"status\",data=df)"
   ]
  },
  {
   "cell_type": "code",
   "execution_count": 19,
   "metadata": {},
   "outputs": [
    {
     "data": {
      "text/plain": [
       "<matplotlib.axes._subplots.AxesSubplot at 0x191fd0cd048>"
      ]
     },
     "execution_count": 19,
     "metadata": {},
     "output_type": "execute_result"
    },
    {
     "data": {
      "image/png": "[encoded data removed]",
      "text/plain": [
       "<Figure size 432x288 with 1 Axes>"
      ]
     },
     "metadata": {
      "needs_background": "light"
     },
     "output_type": "display_data"
    }
   ],
   "source": [
    "#verificando a relação entre writing score e math score\n",
    "sns.scatterplot(x=\"math_score\",y=\"writing_score\",hue=\"status\",data=df)"
   ]
  },
  {
   "cell_type": "code",
   "execution_count": 20,
   "metadata": {},
   "outputs": [
    {
     "data": {
      "text/plain": [
       "<matplotlib.axes._subplots.AxesSubplot at 0x191fd12eba8>"
      ]
     },
     "execution_count": 20,
     "metadata": {},
     "output_type": "execute_result"
    },
    {
     "data": {
      "image/png": "[encoded data removed]",
      "text/plain": [
       "<Figure size 432x288 with 1 Axes>"
      ]
     },
     "metadata": {
      "needs_background": "light"
     },
     "output_type": "display_data"
    }
   ],
   "source": [
    "#verificando a relação entre reading_score e writing_score\n",
    "sns.scatterplot(x=\"reading_score\",y=\"writing_score\",hue=\"status\",data=df)"
   ]
  },
  {
   "cell_type": "code",
   "execution_count": 21,
   "metadata": {},
   "outputs": [
    {
     "name": "stderr",
     "output_type": "stream",
     "text": [
      "C:\\Users\\talis\\Anaconda3\\lib\\site-packages\\seaborn\\distributions.py:2557: FutureWarning: `distplot` is a deprecated function and will be removed in a future version. Please adapt your code to use either `displot` (a figure-level function with similar flexibility) or `histplot` (an axes-level function for histograms).\n",
      "  warnings.warn(msg, FutureWarning)\n"
     ]
    },
    {
     "data": {
      "text/plain": [
       "<matplotlib.axes._subplots.AxesSubplot at 0x191fd197908>"
      ]
     },
     "execution_count": 21,
     "metadata": {},
     "output_type": "execute_result"
    },
    {
     "data": {
      "image/png": "[encoded data removed]",
      "text/plain": [
       "<Figure size 432x288 with 1 Axes>"
      ]
     },
     "metadata": {
      "needs_background": "light"
     },
     "output_type": "display_data"
    }
   ],
   "source": [
    "#Vendo a distribuição de math score\n",
    "sns.distplot(df[\"math_score\"])"
   ]
  },
  {
   "cell_type": "code",
   "execution_count": 22,
   "metadata": {},
   "outputs": [
    {
     "name": "stderr",
     "output_type": "stream",
     "text": [
      "C:\\Users\\talis\\Anaconda3\\lib\\site-packages\\seaborn\\distributions.py:2557: FutureWarning: `distplot` is a deprecated function and will be removed in a future version. Please adapt your code to use either `displot` (a figure-level function with similar flexibility) or `histplot` (an axes-level function for histograms).\n",
      "  warnings.warn(msg, FutureWarning)\n"
     ]
    },
    {
     "data": {
      "text/plain": [
       "<matplotlib.axes._subplots.AxesSubplot at 0x191ff2849e8>"
      ]
     },
     "execution_count": 22,
     "metadata": {},
     "output_type": "execute_result"
    },
    {
     "data": {
      "image/png": "[encoded data removed]",
      "text/plain": [
       "<Figure size 432x288 with 1 Axes>"
      ]
     },
     "metadata": {
      "needs_background": "light"
     },
     "output_type": "display_data"
    }
   ],
   "source": [
    "#Vendo a distribuição de reading score\n",
    "sns.distplot(df[\"reading_score\"])"
   ]
  },
  {
   "cell_type": "code",
   "execution_count": 23,
   "metadata": {
    "scrolled": true
   },
   "outputs": [
    {
     "name": "stderr",
     "output_type": "stream",
     "text": [
      "C:\\Users\\talis\\Anaconda3\\lib\\site-packages\\seaborn\\distributions.py:2557: FutureWarning: `distplot` is a deprecated function and will be removed in a future version. Please adapt your code to use either `displot` (a figure-level function with similar flexibility) or `histplot` (an axes-level function for histograms).\n",
      "  warnings.warn(msg, FutureWarning)\n"
     ]
    },
    {
     "data": {
      "text/plain": [
       "<matplotlib.axes._subplots.AxesSubplot at 0x191ff31d160>"
      ]
     },
     "execution_count": 23,
     "metadata": {},
     "output_type": "execute_result"
    },
    {
     "data": {
      "image/png": "[encoded data removed]",
      "text/plain": [
       "<Figure size 432x288 with 1 Axes>"
      ]
     },
     "metadata": {
      "needs_background": "light"
     },
     "output_type": "display_data"
    }
   ],
   "source": [
    "#dist de writing score\n",
    "sns.distplot(df[\"writing_score\"])"
   ]
  },
  {
   "cell_type": "code",
   "execution_count": 24,
   "metadata": {},
   "outputs": [
    {
     "data": {
      "text/html": [
       "<div>\n",
       "<style scoped>\n",
       "    .dataframe tbody tr th:only-of-type {\n",
       "        vertical-align: middle;\n",
       "    }\n",
       "\n",
       "    .dataframe tbody tr th {\n",
       "        vertical-align: top;\n",
       "    }\n",
       "\n",
       "    .dataframe thead th {\n",
       "        text-align: right;\n",
       "    }\n",
       "</style>\n",
       "<table border=\"1\" class=\"dataframe\">\n",
       "  <thead>\n",
       "    <tr style=\"text-align: right;\">\n",
       "      <th></th>\n",
       "      <th>math_score</th>\n",
       "      <th>writing_score</th>\n",
       "      <th>reading_score</th>\n",
       "    </tr>\n",
       "  </thead>\n",
       "  <tbody>\n",
       "    <tr>\n",
       "      <th>count</th>\n",
       "      <td>1000.00000</td>\n",
       "      <td>1000.000000</td>\n",
       "      <td>1000.000000</td>\n",
       "    </tr>\n",
       "    <tr>\n",
       "      <th>mean</th>\n",
       "      <td>66.08900</td>\n",
       "      <td>68.054000</td>\n",
       "      <td>69.169000</td>\n",
       "    </tr>\n",
       "    <tr>\n",
       "      <th>std</th>\n",
       "      <td>15.16308</td>\n",
       "      <td>15.195657</td>\n",
       "      <td>14.600192</td>\n",
       "    </tr>\n",
       "    <tr>\n",
       "      <th>min</th>\n",
       "      <td>0.00000</td>\n",
       "      <td>10.000000</td>\n",
       "      <td>17.000000</td>\n",
       "    </tr>\n",
       "    <tr>\n",
       "      <th>25%</th>\n",
       "      <td>57.00000</td>\n",
       "      <td>57.750000</td>\n",
       "      <td>59.000000</td>\n",
       "    </tr>\n",
       "    <tr>\n",
       "      <th>50%</th>\n",
       "      <td>66.00000</td>\n",
       "      <td>69.000000</td>\n",
       "      <td>70.000000</td>\n",
       "    </tr>\n",
       "    <tr>\n",
       "      <th>75%</th>\n",
       "      <td>77.00000</td>\n",
       "      <td>79.000000</td>\n",
       "      <td>79.000000</td>\n",
       "    </tr>\n",
       "    <tr>\n",
       "      <th>max</th>\n",
       "      <td>100.00000</td>\n",
       "      <td>100.000000</td>\n",
       "      <td>100.000000</td>\n",
       "    </tr>\n",
       "  </tbody>\n",
       "</table>\n",
       "</div>"
      ],
      "text/plain": [
       "       math_score  writing_score  reading_score\n",
       "count  1000.00000    1000.000000    1000.000000\n",
       "mean     66.08900      68.054000      69.169000\n",
       "std      15.16308      15.195657      14.600192\n",
       "min       0.00000      10.000000      17.000000\n",
       "25%      57.00000      57.750000      59.000000\n",
       "50%      66.00000      69.000000      70.000000\n",
       "75%      77.00000      79.000000      79.000000\n",
       "max     100.00000     100.000000     100.000000"
      ]
     },
     "execution_count": 24,
     "metadata": {},
     "output_type": "execute_result"
    }
   ],
   "source": [
    "#verificando a descrição de dados \n",
    "df[[\"math_score\",\"writing_score\",\"reading_score\"]].describe()"
   ]
  },
  {
   "cell_type": "code",
   "execution_count": 25,
   "metadata": {
    "scrolled": true
   },
   "outputs": [
    {
     "data": {
      "text/plain": [
       "<matplotlib.axes._subplots.AxesSubplot at 0x191fce3ca90>"
      ]
     },
     "execution_count": 25,
     "metadata": {},
     "output_type": "execute_result"
    },
    {
     "data": {
      "image/png": "[encoded data removed]",
      "text/plain": [
       "<Figure size 432x288 with 1 Axes>"
      ]
     },
     "metadata": {
      "needs_background": "light"
     },
     "output_type": "display_data"
    }
   ],
   "source": [
    "#verificando a relação das materias com a aprovação \n",
    "sns.boxplot(x=\"status\",y=\"math_score\",data=df)"
   ]
  },
  {
   "cell_type": "code",
   "execution_count": 26,
   "metadata": {},
   "outputs": [
    {
     "data": {
      "text/plain": [
       "<matplotlib.axes._subplots.AxesSubplot at 0x22824cf6ac8>"
      ]
     },
     "execution_count": 26,
     "metadata": {},
     "output_type": "execute_result"
    },
    {
     "data": {
      "image/png": "[encoded data removed]",
      "text/plain": [
       "<Figure size 432x288 with 1 Axes>"
      ]
     },
     "metadata": {
      "needs_background": "light"
     },
     "output_type": "display_data"
    }
   ],
   "source": [
    "#verificando a relação das materias com a aprovação \n",
    "sns.boxplot(x=\"status\",y=\"reading_score\",data=df)"
   ]
  },
  {
   "cell_type": "code",
   "execution_count": 26,
   "metadata": {},
   "outputs": [
    {
     "data": {
      "text/plain": [
       "<matplotlib.axes._subplots.AxesSubplot at 0x191ff3ff438>"
      ]
     },
     "execution_count": 26,
     "metadata": {},
     "output_type": "execute_result"
    },
    {
     "data": {
      "image/png": "[encoded data removed]",
      "text/plain": [
       "<Figure size 432x288 with 1 Axes>"
      ]
     },
     "metadata": {
      "needs_background": "light"
     },
     "output_type": "display_data"
    }
   ],
   "source": [
    "#verificando a relação das materias com a aprovação \n",
    "sns.boxplot(x=\"status\",y=\"writing_score\",data=df)"
   ]
  },
  {
   "cell_type": "markdown",
   "metadata": {},
   "source": [
    "<p>Podemos afirmar visualizando os boxplots e o gráfico de distribuição que as notas dos aprovados e dos reprovados apresentam uma certa diferença na media conforme o esperado. Dito isso, é interessante analisar\n",
    "como os dados são distribuidos através das avaliações. </p>\n",
    "<p> Em math score podemos visualizar que em relação aos alunos aprovados as notas muito altas acontecem com menor frequência já que temos uma assimetria positiva, ou seja, os alunos obteram notas boas dentro do valor esperado para serem aprovados. Dito isso, a distribuição dos alunos reprovados nessa disciplina mostra uma assimetria negativa, ou seja, temos uma concentração de valores altos para esse grupo mas ainda sim as notas são abaixo da necessária para a aprovação. </p>\n",
    "<p>Em reading score e writing score podemos ver que os alunos aprovados tem desempenho similar com uma relativa diferença no primeiro onde existe uma maior quantidade de alunos com notas mais acima da média para esse grupo. Em relação aos alunos reprovados, para essas disciplinas, temos rendimento similar novamente, contudo, vimos que esses tiveram menos dificuldade em wirting já que existe uma maior quantidade de alunos com notas acima da media para esse grupo.</p>"
   ]
  },
  {
   "cell_type": "markdown",
   "metadata": {},
   "source": [
    "<h3>Analisando a relação entre variáveis</h3>"
   ]
  },
  {
   "cell_type": "markdown",
   "metadata": {},
   "source": [
    "<p> O teste chi quadrado é realizado para analisar a relação entre duas variaveis categoricas, a partir de uma tabela de contigencia que contém os valores observados é feita uma medição que analisa a proporção dos valores (dado uma quantidade de variaveis n temos X<sup>2</sup> = (QtdeObservada<sub>1</sub> -QtdeEsperada<sub>1</sub>)<sup>2</sup>/QtdeEsperada<sub>1</sub>) + ... (QtdeObservada<sub>N</sub> -QtdeEsperada<sub>N</sub>)<sup>2</sup>/QtdeEsperada<sub>N</sub>)) quanto maior for o valor de X<sup>2</sup>  verifica-se uma relação significativa entre as variaveis. </p>"
   ]
  },
  {
   "cell_type": "markdown",
   "metadata": {},
   "source": [
    "<p>No python existe uma função chi_contingency na qual é calculado tanto o valor X<sup>2</sup> e o p-value. Esse último \n",
    "é utilizado como um outro parâmetro de referência para o teste de chi quadrado, se p < 0.05 significa que \n",
    "as variáveis estão relacionads entre si</p>"
   ]
  },
  {
   "cell_type": "code",
   "execution_count": 27,
   "metadata": {
    "scrolled": true
   },
   "outputs": [
    {
     "data": {
      "text/html": [
       "<div>\n",
       "<style scoped>\n",
       "    .dataframe tbody tr th:only-of-type {\n",
       "        vertical-align: middle;\n",
       "    }\n",
       "\n",
       "    .dataframe tbody tr th {\n",
       "        vertical-align: top;\n",
       "    }\n",
       "\n",
       "    .dataframe thead th {\n",
       "        text-align: right;\n",
       "    }\n",
       "</style>\n",
       "<table border=\"1\" class=\"dataframe\">\n",
       "  <thead>\n",
       "    <tr style=\"text-align: right;\">\n",
       "      <th>status</th>\n",
       "      <th>0</th>\n",
       "      <th>1</th>\n",
       "    </tr>\n",
       "    <tr>\n",
       "      <th>race/ethnicity</th>\n",
       "      <th></th>\n",
       "      <th></th>\n",
       "    </tr>\n",
       "  </thead>\n",
       "  <tbody>\n",
       "    <tr>\n",
       "      <th>group A</th>\n",
       "      <td>64</td>\n",
       "      <td>25</td>\n",
       "    </tr>\n",
       "    <tr>\n",
       "      <th>group B</th>\n",
       "      <td>117</td>\n",
       "      <td>73</td>\n",
       "    </tr>\n",
       "    <tr>\n",
       "      <th>group C</th>\n",
       "      <td>177</td>\n",
       "      <td>142</td>\n",
       "    </tr>\n",
       "    <tr>\n",
       "      <th>group D</th>\n",
       "      <td>130</td>\n",
       "      <td>132</td>\n",
       "    </tr>\n",
       "    <tr>\n",
       "      <th>group E</th>\n",
       "      <td>53</td>\n",
       "      <td>87</td>\n",
       "    </tr>\n",
       "  </tbody>\n",
       "</table>\n",
       "</div>"
      ],
      "text/plain": [
       "status            0    1\n",
       "race/ethnicity          \n",
       "group A          64   25\n",
       "group B         117   73\n",
       "group C         177  142\n",
       "group D         130  132\n",
       "group E          53   87"
      ]
     },
     "execution_count": 27,
     "metadata": {},
     "output_type": "execute_result"
    }
   ],
   "source": [
    "#teste de relação entre \"race/ethnicity\" e status\n",
    "#aqui vemos a tabela de contigência entre race/ethnicity e status\n",
    "df.groupby([\"race/ethnicity\",\"status\"]).size().unstack()"
   ]
  },
  {
   "cell_type": "code",
   "execution_count": 29,
   "metadata": {},
   "outputs": [],
   "source": [
    "from scipy.stats import chi2_contingency"
   ]
  },
  {
   "cell_type": "code",
   "execution_count": 30,
   "metadata": {
    "scrolled": true
   },
   "outputs": [
    {
     "data": {
      "text/html": [
       "<div>\n",
       "<style scoped>\n",
       "    .dataframe tbody tr th:only-of-type {\n",
       "        vertical-align: middle;\n",
       "    }\n",
       "\n",
       "    .dataframe tbody tr th {\n",
       "        vertical-align: top;\n",
       "    }\n",
       "\n",
       "    .dataframe thead th {\n",
       "        text-align: right;\n",
       "    }\n",
       "</style>\n",
       "<table border=\"1\" class=\"dataframe\">\n",
       "  <thead>\n",
       "    <tr style=\"text-align: right;\">\n",
       "      <th>status</th>\n",
       "      <th>0</th>\n",
       "      <th>1</th>\n",
       "    </tr>\n",
       "    <tr>\n",
       "      <th>test_preparation_course</th>\n",
       "      <th></th>\n",
       "      <th></th>\n",
       "    </tr>\n",
       "  </thead>\n",
       "  <tbody>\n",
       "    <tr>\n",
       "      <th>completed</th>\n",
       "      <td>140</td>\n",
       "      <td>218</td>\n",
       "    </tr>\n",
       "    <tr>\n",
       "      <th>none</th>\n",
       "      <td>401</td>\n",
       "      <td>241</td>\n",
       "    </tr>\n",
       "  </tbody>\n",
       "</table>\n",
       "</div>"
      ],
      "text/plain": [
       "status                     0    1\n",
       "test_preparation_course          \n",
       "completed                140  218\n",
       "none                     401  241"
      ]
     },
     "execution_count": 30,
     "metadata": {},
     "output_type": "execute_result"
    }
   ],
   "source": [
    "#analisando relação entre course preparation e status\n",
    "df.groupby([\"test_preparation_course\",\"status\"]).size().unstack()"
   ]
  },
  {
   "cell_type": "markdown",
   "metadata": {},
   "source": [
    "<p> A função teste_chi2 calcula o valor de influência de cada váriavel categórica(X<sup>2</sup>) e retorna uma lista em ordem\n",
    "crescente das variáveis mais relacionadas com a variável alvo. Caso se queira selecionar apenas algumas variáveis\n",
    "basta utilizar o kwargs com chave igual a \"n_order\" para selecionar apenas K variáveis principais para a análise.</p>"
   ]
  },
  {
   "cell_type": "code",
   "execution_count": 31,
   "metadata": {},
   "outputs": [],
   "source": [
    "from collections import namedtuple\n",
    "def sort_method(data):\n",
    "    return data.chi2\n",
    "def teste_chi2(X,Y,**kwargs):\n",
    "    lista_chi2 = []\n",
    "    for column in X.columns:\n",
    "        result = chi2_contingency(df.groupby([column,Y.name]).size().unstack())\n",
    "        data = namedtuple(\"data\",[\"column\",\"chi2\",\"pvalue\"])\n",
    "        d = data(column=column,chi2=result[0],pvalue=result[1])\n",
    "        lista_chi2.append(d)\n",
    "    \n",
    "    lista_chi2.sort(key=sort_method)\n",
    "    for k,v in kwargs.items():\n",
    "        if (k == \"n_order\" and v>=1):\n",
    "            n_order = v\n",
    "            return lista_chi2[-n_order:]\n",
    "    return lista_chi2"
   ]
  },
  {
   "cell_type": "code",
   "execution_count": 32,
   "metadata": {
    "scrolled": false
   },
   "outputs": [
    {
     "name": "stdout",
     "output_type": "stream",
     "text": [
      "[data(column='race/ethnicity', chi2=32.889042672152414, pvalue=1.2586187099584232e-06), data(column='lunch', chi2=48.37379515074998, pvalue=3.522439283980204e-12), data(column='test_preparation_course', chi2=49.549125506771205, pvalue=1.9346607961165553e-12)]\n"
     ]
    }
   ],
   "source": [
    "#selecionando as três variáveis principais \n",
    "threeBest = teste_chi2(df.iloc[:,0:5],df.iloc[:,8],**{\"n_order\":3})\n",
    "print(threeBest)"
   ]
  },
  {
   "cell_type": "code",
   "execution_count": 33,
   "metadata": {},
   "outputs": [
    {
     "data": {
      "text/plain": [
       "[data(column='gender', chi2=14.263850082132878, pvalue=0.00015888726667783086),\n",
       " data(column='parental_level_of_education', chi2=26.03015123959003, pvalue=8.804245452543673e-05),\n",
       " data(column='race/ethnicity', chi2=32.889042672152414, pvalue=1.2586187099584232e-06),\n",
       " data(column='lunch', chi2=48.37379515074998, pvalue=3.522439283980204e-12),\n",
       " data(column='test_preparation_course', chi2=49.549125506771205, pvalue=1.9346607961165553e-12)]"
      ]
     },
     "execution_count": 33,
     "metadata": {},
     "output_type": "execute_result"
    }
   ],
   "source": [
    "chi2_variaveis = teste_chi2(df.iloc[:,0:5],df.iloc[:,8])\n",
    "chi2_variaveis"
   ]
  },
  {
   "cell_type": "markdown",
   "metadata": {},
   "source": [
    "<p> Vamos agora utilizar outros modelos estatísticos que analisam quais dessas variáveis mais ajudam a prever se um aluno foi aprovado ou não. Para os modelos lineares existe a regressão lasso na qual muito dos coeficientes são zerados, ou, ficam entre -1 e 1 , e então, pode-se verificar quais variáveis são mais influentes para o modelo. Logo, ajustando o valor de C medimos quão forte é essa regularização e analisamos seus resultados. Por fim, os modelos baseados em árvores também medem a força de influência das variáveis através do feature importance, no qual, atráves da medição do ganho de informação verifca-se quais delas melhor segmentam os grupos para a classificação.  </p>\n",
    "<p>Nos próximos passos a seguir vamos analisar os hyperparamêtros para obter os melhores modelos que se ajustam os dados e verificar quais foram as conclusões obtidas por eles </p>"
   ]
  },
  {
   "cell_type": "code",
   "execution_count": 7,
   "metadata": {},
   "outputs": [],
   "source": [
    "#importando bibliotecas necessárias\n",
    "from sklearn.metrics import roc_curve\n",
    "from sklearn.model_selection import KFold\n",
    "from sklearn.linear_model import LogisticRegression\n",
    "from sklearn.model_selection import train_test_split"
   ]
  },
  {
   "cell_type": "code",
   "execution_count": 8,
   "metadata": {},
   "outputs": [],
   "source": [
    "from sklearn.metrics import roc_auc_score\n",
    "from sklearn.metrics import roc_curve\n",
    "from sklearn.model_selection import GridSearchCV"
   ]
  },
  {
   "cell_type": "code",
   "execution_count": 9,
   "metadata": {},
   "outputs": [],
   "source": [
    "from sklearn.model_selection import cross_val_score"
   ]
  },
  {
   "cell_type": "code",
   "execution_count": 10,
   "metadata": {},
   "outputs": [],
   "source": [
    "from sklearn.metrics import confusion_matrix\n",
    "from sklearn.metrics import ConfusionMatrixDisplay\n",
    "from sklearn.metrics import precision_recall_curve"
   ]
  },
  {
   "cell_type": "code",
   "execution_count": 11,
   "metadata": {},
   "outputs": [],
   "source": [
    "from imblearn.over_sampling import BorderlineSMOTE\n",
    "from sklearn.metrics import confusion_matrix"
   ]
  },
  {
   "cell_type": "code",
   "execution_count": 12,
   "metadata": {},
   "outputs": [],
   "source": [
    "#configurando o cross validation\n",
    "KFolds = KFold()\n",
    "#criando os valores de C baseado na base 10  \n",
    "C_vals_exponents = np.linspace(-1,0,7)\n",
    "C_vals = np.float(10)**C_vals_exponents"
   ]
  },
  {
   "cell_type": "code",
   "execution_count": 13,
   "metadata": {
    "scrolled": true
   },
   "outputs": [
    {
     "data": {
      "text/plain": [
       "5"
      ]
     },
     "execution_count": 13,
     "metadata": {},
     "output_type": "execute_result"
    }
   ],
   "source": [
    "KFolds.n_splits"
   ]
  },
  {
   "cell_type": "code",
   "execution_count": 14,
   "metadata": {
    "scrolled": true
   },
   "outputs": [
    {
     "data": {
      "text/plain": [
       "array([0.1       , 0.14677993, 0.21544347, 0.31622777, 0.46415888,\n",
       "       0.68129207, 1.        ])"
      ]
     },
     "execution_count": 14,
     "metadata": {},
     "output_type": "execute_result"
    }
   ],
   "source": [
    "C_vals"
   ]
  },
  {
   "cell_type": "code",
   "execution_count": 15,
   "metadata": {
    "scrolled": false
   },
   "outputs": [
    {
     "data": {
      "text/html": [
       "<div>\n",
       "<style scoped>\n",
       "    .dataframe tbody tr th:only-of-type {\n",
       "        vertical-align: middle;\n",
       "    }\n",
       "\n",
       "    .dataframe tbody tr th {\n",
       "        vertical-align: top;\n",
       "    }\n",
       "\n",
       "    .dataframe thead th {\n",
       "        text-align: right;\n",
       "    }\n",
       "</style>\n",
       "<table border=\"1\" class=\"dataframe\">\n",
       "  <thead>\n",
       "    <tr style=\"text-align: right;\">\n",
       "      <th></th>\n",
       "      <th>gender_female</th>\n",
       "      <th>gender_male</th>\n",
       "      <th>race/ethnicity_group A</th>\n",
       "      <th>race/ethnicity_group B</th>\n",
       "      <th>race/ethnicity_group C</th>\n",
       "      <th>race/ethnicity_group D</th>\n",
       "      <th>race/ethnicity_group E</th>\n",
       "      <th>parental_level_of_education_associate's degree</th>\n",
       "      <th>parental_level_of_education_bachelor's degree</th>\n",
       "      <th>parental_level_of_education_high school</th>\n",
       "      <th>parental_level_of_education_master's degree</th>\n",
       "      <th>parental_level_of_education_some college</th>\n",
       "      <th>parental_level_of_education_some high school</th>\n",
       "      <th>lunch_free/reduced</th>\n",
       "      <th>lunch_standard</th>\n",
       "      <th>test_preparation_course_completed</th>\n",
       "      <th>test_preparation_course_none</th>\n",
       "    </tr>\n",
       "  </thead>\n",
       "  <tbody>\n",
       "    <tr>\n",
       "      <th>0</th>\n",
       "      <td>1</td>\n",
       "      <td>0</td>\n",
       "      <td>0</td>\n",
       "      <td>1</td>\n",
       "      <td>0</td>\n",
       "      <td>0</td>\n",
       "      <td>0</td>\n",
       "      <td>0</td>\n",
       "      <td>1</td>\n",
       "      <td>0</td>\n",
       "      <td>0</td>\n",
       "      <td>0</td>\n",
       "      <td>0</td>\n",
       "      <td>0</td>\n",
       "      <td>1</td>\n",
       "      <td>0</td>\n",
       "      <td>1</td>\n",
       "    </tr>\n",
       "    <tr>\n",
       "      <th>1</th>\n",
       "      <td>1</td>\n",
       "      <td>0</td>\n",
       "      <td>0</td>\n",
       "      <td>0</td>\n",
       "      <td>1</td>\n",
       "      <td>0</td>\n",
       "      <td>0</td>\n",
       "      <td>0</td>\n",
       "      <td>0</td>\n",
       "      <td>0</td>\n",
       "      <td>0</td>\n",
       "      <td>1</td>\n",
       "      <td>0</td>\n",
       "      <td>0</td>\n",
       "      <td>1</td>\n",
       "      <td>1</td>\n",
       "      <td>0</td>\n",
       "    </tr>\n",
       "    <tr>\n",
       "      <th>2</th>\n",
       "      <td>1</td>\n",
       "      <td>0</td>\n",
       "      <td>0</td>\n",
       "      <td>1</td>\n",
       "      <td>0</td>\n",
       "      <td>0</td>\n",
       "      <td>0</td>\n",
       "      <td>0</td>\n",
       "      <td>0</td>\n",
       "      <td>0</td>\n",
       "      <td>1</td>\n",
       "      <td>0</td>\n",
       "      <td>0</td>\n",
       "      <td>0</td>\n",
       "      <td>1</td>\n",
       "      <td>0</td>\n",
       "      <td>1</td>\n",
       "    </tr>\n",
       "    <tr>\n",
       "      <th>3</th>\n",
       "      <td>0</td>\n",
       "      <td>1</td>\n",
       "      <td>1</td>\n",
       "      <td>0</td>\n",
       "      <td>0</td>\n",
       "      <td>0</td>\n",
       "      <td>0</td>\n",
       "      <td>1</td>\n",
       "      <td>0</td>\n",
       "      <td>0</td>\n",
       "      <td>0</td>\n",
       "      <td>0</td>\n",
       "      <td>0</td>\n",
       "      <td>1</td>\n",
       "      <td>0</td>\n",
       "      <td>0</td>\n",
       "      <td>1</td>\n",
       "    </tr>\n",
       "    <tr>\n",
       "      <th>4</th>\n",
       "      <td>0</td>\n",
       "      <td>1</td>\n",
       "      <td>0</td>\n",
       "      <td>0</td>\n",
       "      <td>1</td>\n",
       "      <td>0</td>\n",
       "      <td>0</td>\n",
       "      <td>0</td>\n",
       "      <td>0</td>\n",
       "      <td>0</td>\n",
       "      <td>0</td>\n",
       "      <td>1</td>\n",
       "      <td>0</td>\n",
       "      <td>0</td>\n",
       "      <td>1</td>\n",
       "      <td>0</td>\n",
       "      <td>1</td>\n",
       "    </tr>\n",
       "    <tr>\n",
       "      <th>...</th>\n",
       "      <td>...</td>\n",
       "      <td>...</td>\n",
       "      <td>...</td>\n",
       "      <td>...</td>\n",
       "      <td>...</td>\n",
       "      <td>...</td>\n",
       "      <td>...</td>\n",
       "      <td>...</td>\n",
       "      <td>...</td>\n",
       "      <td>...</td>\n",
       "      <td>...</td>\n",
       "      <td>...</td>\n",
       "      <td>...</td>\n",
       "      <td>...</td>\n",
       "      <td>...</td>\n",
       "      <td>...</td>\n",
       "      <td>...</td>\n",
       "    </tr>\n",
       "    <tr>\n",
       "      <th>995</th>\n",
       "      <td>1</td>\n",
       "      <td>0</td>\n",
       "      <td>0</td>\n",
       "      <td>0</td>\n",
       "      <td>0</td>\n",
       "      <td>0</td>\n",
       "      <td>1</td>\n",
       "      <td>0</td>\n",
       "      <td>0</td>\n",
       "      <td>0</td>\n",
       "      <td>1</td>\n",
       "      <td>0</td>\n",
       "      <td>0</td>\n",
       "      <td>0</td>\n",
       "      <td>1</td>\n",
       "      <td>1</td>\n",
       "      <td>0</td>\n",
       "    </tr>\n",
       "    <tr>\n",
       "      <th>996</th>\n",
       "      <td>0</td>\n",
       "      <td>1</td>\n",
       "      <td>0</td>\n",
       "      <td>0</td>\n",
       "      <td>1</td>\n",
       "      <td>0</td>\n",
       "      <td>0</td>\n",
       "      <td>0</td>\n",
       "      <td>0</td>\n",
       "      <td>1</td>\n",
       "      <td>0</td>\n",
       "      <td>0</td>\n",
       "      <td>0</td>\n",
       "      <td>1</td>\n",
       "      <td>0</td>\n",
       "      <td>0</td>\n",
       "      <td>1</td>\n",
       "    </tr>\n",
       "    <tr>\n",
       "      <th>997</th>\n",
       "      <td>1</td>\n",
       "      <td>0</td>\n",
       "      <td>0</td>\n",
       "      <td>0</td>\n",
       "      <td>1</td>\n",
       "      <td>0</td>\n",
       "      <td>0</td>\n",
       "      <td>0</td>\n",
       "      <td>0</td>\n",
       "      <td>1</td>\n",
       "      <td>0</td>\n",
       "      <td>0</td>\n",
       "      <td>0</td>\n",
       "      <td>1</td>\n",
       "      <td>0</td>\n",
       "      <td>1</td>\n",
       "      <td>0</td>\n",
       "    </tr>\n",
       "    <tr>\n",
       "      <th>998</th>\n",
       "      <td>1</td>\n",
       "      <td>0</td>\n",
       "      <td>0</td>\n",
       "      <td>0</td>\n",
       "      <td>0</td>\n",
       "      <td>1</td>\n",
       "      <td>0</td>\n",
       "      <td>0</td>\n",
       "      <td>0</td>\n",
       "      <td>0</td>\n",
       "      <td>0</td>\n",
       "      <td>1</td>\n",
       "      <td>0</td>\n",
       "      <td>0</td>\n",
       "      <td>1</td>\n",
       "      <td>1</td>\n",
       "      <td>0</td>\n",
       "    </tr>\n",
       "    <tr>\n",
       "      <th>999</th>\n",
       "      <td>1</td>\n",
       "      <td>0</td>\n",
       "      <td>0</td>\n",
       "      <td>0</td>\n",
       "      <td>0</td>\n",
       "      <td>1</td>\n",
       "      <td>0</td>\n",
       "      <td>0</td>\n",
       "      <td>0</td>\n",
       "      <td>0</td>\n",
       "      <td>0</td>\n",
       "      <td>1</td>\n",
       "      <td>0</td>\n",
       "      <td>1</td>\n",
       "      <td>0</td>\n",
       "      <td>0</td>\n",
       "      <td>1</td>\n",
       "    </tr>\n",
       "  </tbody>\n",
       "</table>\n",
       "<p>1000 rows × 17 columns</p>\n",
       "</div>"
      ],
      "text/plain": [
       "     gender_female  gender_male  race/ethnicity_group A  \\\n",
       "0                1            0                       0   \n",
       "1                1            0                       0   \n",
       "2                1            0                       0   \n",
       "3                0            1                       1   \n",
       "4                0            1                       0   \n",
       "..             ...          ...                     ...   \n",
       "995              1            0                       0   \n",
       "996              0            1                       0   \n",
       "997              1            0                       0   \n",
       "998              1            0                       0   \n",
       "999              1            0                       0   \n",
       "\n",
       "     race/ethnicity_group B  race/ethnicity_group C  race/ethnicity_group D  \\\n",
       "0                         1                       0                       0   \n",
       "1                         0                       1                       0   \n",
       "2                         1                       0                       0   \n",
       "3                         0                       0                       0   \n",
       "4                         0                       1                       0   \n",
       "..                      ...                     ...                     ...   \n",
       "995                       0                       0                       0   \n",
       "996                       0                       1                       0   \n",
       "997                       0                       1                       0   \n",
       "998                       0                       0                       1   \n",
       "999                       0                       0                       1   \n",
       "\n",
       "     race/ethnicity_group E  parental_level_of_education_associate's degree  \\\n",
       "0                         0                                               0   \n",
       "1                         0                                               0   \n",
       "2                         0                                               0   \n",
       "3                         0                                               1   \n",
       "4                         0                                               0   \n",
       "..                      ...                                             ...   \n",
       "995                       1                                               0   \n",
       "996                       0                                               0   \n",
       "997                       0                                               0   \n",
       "998                       0                                               0   \n",
       "999                       0                                               0   \n",
       "\n",
       "     parental_level_of_education_bachelor's degree  \\\n",
       "0                                                1   \n",
       "1                                                0   \n",
       "2                                                0   \n",
       "3                                                0   \n",
       "4                                                0   \n",
       "..                                             ...   \n",
       "995                                              0   \n",
       "996                                              0   \n",
       "997                                              0   \n",
       "998                                              0   \n",
       "999                                              0   \n",
       "\n",
       "     parental_level_of_education_high school  \\\n",
       "0                                          0   \n",
       "1                                          0   \n",
       "2                                          0   \n",
       "3                                          0   \n",
       "4                                          0   \n",
       "..                                       ...   \n",
       "995                                        0   \n",
       "996                                        1   \n",
       "997                                        1   \n",
       "998                                        0   \n",
       "999                                        0   \n",
       "\n",
       "     parental_level_of_education_master's degree  \\\n",
       "0                                              0   \n",
       "1                                              0   \n",
       "2                                              1   \n",
       "3                                              0   \n",
       "4                                              0   \n",
       "..                                           ...   \n",
       "995                                            1   \n",
       "996                                            0   \n",
       "997                                            0   \n",
       "998                                            0   \n",
       "999                                            0   \n",
       "\n",
       "     parental_level_of_education_some college  \\\n",
       "0                                           0   \n",
       "1                                           1   \n",
       "2                                           0   \n",
       "3                                           0   \n",
       "4                                           1   \n",
       "..                                        ...   \n",
       "995                                         0   \n",
       "996                                         0   \n",
       "997                                         0   \n",
       "998                                         1   \n",
       "999                                         1   \n",
       "\n",
       "     parental_level_of_education_some high school  lunch_free/reduced  \\\n",
       "0                                               0                   0   \n",
       "1                                               0                   0   \n",
       "2                                               0                   0   \n",
       "3                                               0                   1   \n",
       "4                                               0                   0   \n",
       "..                                            ...                 ...   \n",
       "995                                             0                   0   \n",
       "996                                             0                   1   \n",
       "997                                             0                   1   \n",
       "998                                             0                   0   \n",
       "999                                             0                   1   \n",
       "\n",
       "     lunch_standard  test_preparation_course_completed  \\\n",
       "0                 1                                  0   \n",
       "1                 1                                  1   \n",
       "2                 1                                  0   \n",
       "3                 0                                  0   \n",
       "4                 1                                  0   \n",
       "..              ...                                ...   \n",
       "995               1                                  1   \n",
       "996               0                                  0   \n",
       "997               0                                  1   \n",
       "998               1                                  1   \n",
       "999               0                                  0   \n",
       "\n",
       "     test_preparation_course_none  \n",
       "0                               1  \n",
       "1                               0  \n",
       "2                               1  \n",
       "3                               1  \n",
       "4                               1  \n",
       "..                            ...  \n",
       "995                             0  \n",
       "996                             1  \n",
       "997                             0  \n",
       "998                             0  \n",
       "999                             1  \n",
       "\n",
       "[1000 rows x 17 columns]"
      ]
     },
     "execution_count": 15,
     "metadata": {},
     "output_type": "execute_result"
    }
   ],
   "source": [
    "#Separando os dados entre variáveis(X) e target(Y)\n",
    "#aqui as variáveis categóricas \n",
    "dummies_categorical_variables = pd.get_dummies(df.iloc[:,0:5])\n",
    "dummies_categorical_variables"
   ]
  },
  {
   "cell_type": "code",
   "execution_count": 16,
   "metadata": {},
   "outputs": [],
   "source": [
    "X = dummies_categorical_variables\n",
    "Y = df[\"status\"]"
   ]
  },
  {
   "cell_type": "code",
   "execution_count": 17,
   "metadata": {
    "scrolled": false
   },
   "outputs": [
    {
     "data": {
      "text/html": [
       "<div>\n",
       "<style scoped>\n",
       "    .dataframe tbody tr th:only-of-type {\n",
       "        vertical-align: middle;\n",
       "    }\n",
       "\n",
       "    .dataframe tbody tr th {\n",
       "        vertical-align: top;\n",
       "    }\n",
       "\n",
       "    .dataframe thead th {\n",
       "        text-align: right;\n",
       "    }\n",
       "</style>\n",
       "<table border=\"1\" class=\"dataframe\">\n",
       "  <thead>\n",
       "    <tr style=\"text-align: right;\">\n",
       "      <th></th>\n",
       "      <th>gender_female</th>\n",
       "      <th>gender_male</th>\n",
       "      <th>race/ethnicity_group A</th>\n",
       "      <th>race/ethnicity_group B</th>\n",
       "      <th>race/ethnicity_group C</th>\n",
       "      <th>race/ethnicity_group D</th>\n",
       "      <th>race/ethnicity_group E</th>\n",
       "      <th>parental_level_of_education_associate's degree</th>\n",
       "      <th>parental_level_of_education_bachelor's degree</th>\n",
       "      <th>parental_level_of_education_high school</th>\n",
       "      <th>parental_level_of_education_master's degree</th>\n",
       "      <th>parental_level_of_education_some college</th>\n",
       "      <th>parental_level_of_education_some high school</th>\n",
       "      <th>lunch_free/reduced</th>\n",
       "      <th>lunch_standard</th>\n",
       "      <th>test_preparation_course_completed</th>\n",
       "      <th>test_preparation_course_none</th>\n",
       "    </tr>\n",
       "  </thead>\n",
       "  <tbody>\n",
       "    <tr>\n",
       "      <th>0</th>\n",
       "      <td>1</td>\n",
       "      <td>0</td>\n",
       "      <td>0</td>\n",
       "      <td>1</td>\n",
       "      <td>0</td>\n",
       "      <td>0</td>\n",
       "      <td>0</td>\n",
       "      <td>0</td>\n",
       "      <td>1</td>\n",
       "      <td>0</td>\n",
       "      <td>0</td>\n",
       "      <td>0</td>\n",
       "      <td>0</td>\n",
       "      <td>0</td>\n",
       "      <td>1</td>\n",
       "      <td>0</td>\n",
       "      <td>1</td>\n",
       "    </tr>\n",
       "    <tr>\n",
       "      <th>1</th>\n",
       "      <td>1</td>\n",
       "      <td>0</td>\n",
       "      <td>0</td>\n",
       "      <td>0</td>\n",
       "      <td>1</td>\n",
       "      <td>0</td>\n",
       "      <td>0</td>\n",
       "      <td>0</td>\n",
       "      <td>0</td>\n",
       "      <td>0</td>\n",
       "      <td>0</td>\n",
       "      <td>1</td>\n",
       "      <td>0</td>\n",
       "      <td>0</td>\n",
       "      <td>1</td>\n",
       "      <td>1</td>\n",
       "      <td>0</td>\n",
       "    </tr>\n",
       "    <tr>\n",
       "      <th>2</th>\n",
       "      <td>1</td>\n",
       "      <td>0</td>\n",
       "      <td>0</td>\n",
       "      <td>1</td>\n",
       "      <td>0</td>\n",
       "      <td>0</td>\n",
       "      <td>0</td>\n",
       "      <td>0</td>\n",
       "      <td>0</td>\n",
       "      <td>0</td>\n",
       "      <td>1</td>\n",
       "      <td>0</td>\n",
       "      <td>0</td>\n",
       "      <td>0</td>\n",
       "      <td>1</td>\n",
       "      <td>0</td>\n",
       "      <td>1</td>\n",
       "    </tr>\n",
       "    <tr>\n",
       "      <th>3</th>\n",
       "      <td>0</td>\n",
       "      <td>1</td>\n",
       "      <td>1</td>\n",
       "      <td>0</td>\n",
       "      <td>0</td>\n",
       "      <td>0</td>\n",
       "      <td>0</td>\n",
       "      <td>1</td>\n",
       "      <td>0</td>\n",
       "      <td>0</td>\n",
       "      <td>0</td>\n",
       "      <td>0</td>\n",
       "      <td>0</td>\n",
       "      <td>1</td>\n",
       "      <td>0</td>\n",
       "      <td>0</td>\n",
       "      <td>1</td>\n",
       "    </tr>\n",
       "    <tr>\n",
       "      <th>4</th>\n",
       "      <td>0</td>\n",
       "      <td>1</td>\n",
       "      <td>0</td>\n",
       "      <td>0</td>\n",
       "      <td>1</td>\n",
       "      <td>0</td>\n",
       "      <td>0</td>\n",
       "      <td>0</td>\n",
       "      <td>0</td>\n",
       "      <td>0</td>\n",
       "      <td>0</td>\n",
       "      <td>1</td>\n",
       "      <td>0</td>\n",
       "      <td>0</td>\n",
       "      <td>1</td>\n",
       "      <td>0</td>\n",
       "      <td>1</td>\n",
       "    </tr>\n",
       "  </tbody>\n",
       "</table>\n",
       "</div>"
      ],
      "text/plain": [
       "   gender_female  gender_male  race/ethnicity_group A  race/ethnicity_group B  \\\n",
       "0              1            0                       0                       1   \n",
       "1              1            0                       0                       0   \n",
       "2              1            0                       0                       1   \n",
       "3              0            1                       1                       0   \n",
       "4              0            1                       0                       0   \n",
       "\n",
       "   race/ethnicity_group C  race/ethnicity_group D  race/ethnicity_group E  \\\n",
       "0                       0                       0                       0   \n",
       "1                       1                       0                       0   \n",
       "2                       0                       0                       0   \n",
       "3                       0                       0                       0   \n",
       "4                       1                       0                       0   \n",
       "\n",
       "   parental_level_of_education_associate's degree  \\\n",
       "0                                               0   \n",
       "1                                               0   \n",
       "2                                               0   \n",
       "3                                               1   \n",
       "4                                               0   \n",
       "\n",
       "   parental_level_of_education_bachelor's degree  \\\n",
       "0                                              1   \n",
       "1                                              0   \n",
       "2                                              0   \n",
       "3                                              0   \n",
       "4                                              0   \n",
       "\n",
       "   parental_level_of_education_high school  \\\n",
       "0                                        0   \n",
       "1                                        0   \n",
       "2                                        0   \n",
       "3                                        0   \n",
       "4                                        0   \n",
       "\n",
       "   parental_level_of_education_master's degree  \\\n",
       "0                                            0   \n",
       "1                                            0   \n",
       "2                                            1   \n",
       "3                                            0   \n",
       "4                                            0   \n",
       "\n",
       "   parental_level_of_education_some college  \\\n",
       "0                                         0   \n",
       "1                                         1   \n",
       "2                                         0   \n",
       "3                                         0   \n",
       "4                                         1   \n",
       "\n",
       "   parental_level_of_education_some high school  lunch_free/reduced  \\\n",
       "0                                             0                   0   \n",
       "1                                             0                   0   \n",
       "2                                             0                   0   \n",
       "3                                             0                   1   \n",
       "4                                             0                   0   \n",
       "\n",
       "   lunch_standard  test_preparation_course_completed  \\\n",
       "0               1                                  0   \n",
       "1               1                                  1   \n",
       "2               1                                  0   \n",
       "3               0                                  0   \n",
       "4               1                                  0   \n",
       "\n",
       "   test_preparation_course_none  \n",
       "0                             1  \n",
       "1                             0  \n",
       "2                             1  \n",
       "3                             1  \n",
       "4                             1  "
      ]
     },
     "execution_count": 17,
     "metadata": {},
     "output_type": "execute_result"
    }
   ],
   "source": [
    "X.head(5)"
   ]
  },
  {
   "cell_type": "code",
   "execution_count": 18,
   "metadata": {
    "scrolled": false
   },
   "outputs": [
    {
     "data": {
      "text/plain": [
       "0    1\n",
       "1    1\n",
       "2    1\n",
       "3    0\n",
       "4    1\n",
       "Name: status, dtype: int64"
      ]
     },
     "execution_count": 18,
     "metadata": {},
     "output_type": "execute_result"
    }
   ],
   "source": [
    "Y.head(5)"
   ]
  },
  {
   "cell_type": "markdown",
   "metadata": {},
   "source": [
    "<p> Abaixo temos os métodos de grid search/cross validation para determinar o valor de C para a regularização lasso. Será utilizado o método de cross validation no qual se dividirá o dataset em 5 divisões e cada uma dessas divisões tem sua parte de teste e outra de treino. Para cada uma, será feito o grid search para encontrar o melhor valor de C em cada conjunto. Ao final, o valor de C mais repetido será o escolhido para fazer o modelo em todo o conjunto de treinamento. </p>"
   ]
  },
  {
   "cell_type": "code",
   "execution_count": 19,
   "metadata": {},
   "outputs": [],
   "source": [
    "def cross_val_C_selection_grid_search(model,X,Y,KFolds,get_params):\n",
    "    n_folds = KFolds.n_splits\n",
    "    results = {\"C\":[],\"mean_train_scores\":[],\"mean_test_scores\":[]}\n",
    "    for train_index,test_index in KFolds.split(X,Y):\n",
    "        X_cv_train,X_cv_test = X.loc[X.index.intersection(train_index)],X.loc[X.index.intersection(test_index)]\n",
    "        y_cv_train,y_cv_test = Y.loc[Y.index.intersection(train_index)],Y.loc[Y.index.intersection(test_index)]\n",
    "        \n",
    "        #searching the best param for that split \n",
    "        clf = GridSearchCV(model,get_params,scoring=\"roc_auc\")\n",
    "        clf.fit(X_cv_train,y_cv_train)\n",
    "        \n",
    "        \n",
    "        #getting the best C\n",
    "        best_C = clf.best_params_[\"C\"]\n",
    "        \n",
    "        #creating a model with the best C and tuning params\n",
    "        model.C = best_C\n",
    "        model.fit(X_cv_train,y_cv_train)\n",
    "        results[\"C\"].append(best_C)\n",
    "        \n",
    "        #adding the mean train score \n",
    "        results[\"mean_train_scores\"].append(clf.best_score_)\n",
    "        \n",
    "        #getting the mean test score\n",
    "        mean_test_scores = cross_val_score(model,X_cv_test,y_cv_test,cv=5,scoring=\"roc_auc\")\n",
    "        results[\"mean_test_scores\"].append(np.mean(mean_test_scores))\n",
    "\n",
    "    return results"
   ]
  },
  {
   "cell_type": "code",
   "execution_count": 20,
   "metadata": {
    "scrolled": false
   },
   "outputs": [],
   "source": [
    "#dividindo os dados em treinamento e teste \n",
    "X_train,X_test,y_train,y_test = train_test_split(X,Y,test_size=0.2,random_state=42)"
   ]
  },
  {
   "cell_type": "code",
   "execution_count": 21,
   "metadata": {
    "scrolled": true
   },
   "outputs": [
    {
     "data": {
      "text/html": [
       "<div>\n",
       "<style scoped>\n",
       "    .dataframe tbody tr th:only-of-type {\n",
       "        vertical-align: middle;\n",
       "    }\n",
       "\n",
       "    .dataframe tbody tr th {\n",
       "        vertical-align: top;\n",
       "    }\n",
       "\n",
       "    .dataframe thead th {\n",
       "        text-align: right;\n",
       "    }\n",
       "</style>\n",
       "<table border=\"1\" class=\"dataframe\">\n",
       "  <thead>\n",
       "    <tr style=\"text-align: right;\">\n",
       "      <th></th>\n",
       "      <th>gender_female</th>\n",
       "      <th>gender_male</th>\n",
       "      <th>race/ethnicity_group A</th>\n",
       "      <th>race/ethnicity_group B</th>\n",
       "      <th>race/ethnicity_group C</th>\n",
       "      <th>race/ethnicity_group D</th>\n",
       "      <th>race/ethnicity_group E</th>\n",
       "      <th>parental_level_of_education_associate's degree</th>\n",
       "      <th>parental_level_of_education_bachelor's degree</th>\n",
       "      <th>parental_level_of_education_high school</th>\n",
       "      <th>parental_level_of_education_master's degree</th>\n",
       "      <th>parental_level_of_education_some college</th>\n",
       "      <th>parental_level_of_education_some high school</th>\n",
       "      <th>lunch_free/reduced</th>\n",
       "      <th>lunch_standard</th>\n",
       "      <th>test_preparation_course_completed</th>\n",
       "      <th>test_preparation_course_none</th>\n",
       "    </tr>\n",
       "  </thead>\n",
       "  <tbody>\n",
       "    <tr>\n",
       "      <th>29</th>\n",
       "      <td>1</td>\n",
       "      <td>0</td>\n",
       "      <td>0</td>\n",
       "      <td>0</td>\n",
       "      <td>0</td>\n",
       "      <td>1</td>\n",
       "      <td>0</td>\n",
       "      <td>0</td>\n",
       "      <td>0</td>\n",
       "      <td>0</td>\n",
       "      <td>1</td>\n",
       "      <td>0</td>\n",
       "      <td>0</td>\n",
       "      <td>0</td>\n",
       "      <td>1</td>\n",
       "      <td>0</td>\n",
       "      <td>1</td>\n",
       "    </tr>\n",
       "    <tr>\n",
       "      <th>535</th>\n",
       "      <td>1</td>\n",
       "      <td>0</td>\n",
       "      <td>0</td>\n",
       "      <td>0</td>\n",
       "      <td>1</td>\n",
       "      <td>0</td>\n",
       "      <td>0</td>\n",
       "      <td>0</td>\n",
       "      <td>1</td>\n",
       "      <td>0</td>\n",
       "      <td>0</td>\n",
       "      <td>0</td>\n",
       "      <td>0</td>\n",
       "      <td>1</td>\n",
       "      <td>0</td>\n",
       "      <td>1</td>\n",
       "      <td>0</td>\n",
       "    </tr>\n",
       "    <tr>\n",
       "      <th>695</th>\n",
       "      <td>1</td>\n",
       "      <td>0</td>\n",
       "      <td>0</td>\n",
       "      <td>0</td>\n",
       "      <td>0</td>\n",
       "      <td>1</td>\n",
       "      <td>0</td>\n",
       "      <td>0</td>\n",
       "      <td>0</td>\n",
       "      <td>0</td>\n",
       "      <td>0</td>\n",
       "      <td>1</td>\n",
       "      <td>0</td>\n",
       "      <td>1</td>\n",
       "      <td>0</td>\n",
       "      <td>0</td>\n",
       "      <td>1</td>\n",
       "    </tr>\n",
       "    <tr>\n",
       "      <th>557</th>\n",
       "      <td>0</td>\n",
       "      <td>1</td>\n",
       "      <td>0</td>\n",
       "      <td>0</td>\n",
       "      <td>1</td>\n",
       "      <td>0</td>\n",
       "      <td>0</td>\n",
       "      <td>0</td>\n",
       "      <td>0</td>\n",
       "      <td>0</td>\n",
       "      <td>1</td>\n",
       "      <td>0</td>\n",
       "      <td>0</td>\n",
       "      <td>1</td>\n",
       "      <td>0</td>\n",
       "      <td>0</td>\n",
       "      <td>1</td>\n",
       "    </tr>\n",
       "    <tr>\n",
       "      <th>836</th>\n",
       "      <td>0</td>\n",
       "      <td>1</td>\n",
       "      <td>0</td>\n",
       "      <td>0</td>\n",
       "      <td>0</td>\n",
       "      <td>0</td>\n",
       "      <td>1</td>\n",
       "      <td>0</td>\n",
       "      <td>0</td>\n",
       "      <td>1</td>\n",
       "      <td>0</td>\n",
       "      <td>0</td>\n",
       "      <td>0</td>\n",
       "      <td>0</td>\n",
       "      <td>1</td>\n",
       "      <td>0</td>\n",
       "      <td>1</td>\n",
       "    </tr>\n",
       "  </tbody>\n",
       "</table>\n",
       "</div>"
      ],
      "text/plain": [
       "     gender_female  gender_male  race/ethnicity_group A  \\\n",
       "29               1            0                       0   \n",
       "535              1            0                       0   \n",
       "695              1            0                       0   \n",
       "557              0            1                       0   \n",
       "836              0            1                       0   \n",
       "\n",
       "     race/ethnicity_group B  race/ethnicity_group C  race/ethnicity_group D  \\\n",
       "29                        0                       0                       1   \n",
       "535                       0                       1                       0   \n",
       "695                       0                       0                       1   \n",
       "557                       0                       1                       0   \n",
       "836                       0                       0                       0   \n",
       "\n",
       "     race/ethnicity_group E  parental_level_of_education_associate's degree  \\\n",
       "29                        0                                               0   \n",
       "535                       0                                               0   \n",
       "695                       0                                               0   \n",
       "557                       0                                               0   \n",
       "836                       1                                               0   \n",
       "\n",
       "     parental_level_of_education_bachelor's degree  \\\n",
       "29                                               0   \n",
       "535                                              1   \n",
       "695                                              0   \n",
       "557                                              0   \n",
       "836                                              0   \n",
       "\n",
       "     parental_level_of_education_high school  \\\n",
       "29                                         0   \n",
       "535                                        0   \n",
       "695                                        0   \n",
       "557                                        0   \n",
       "836                                        1   \n",
       "\n",
       "     parental_level_of_education_master's degree  \\\n",
       "29                                             1   \n",
       "535                                            0   \n",
       "695                                            0   \n",
       "557                                            1   \n",
       "836                                            0   \n",
       "\n",
       "     parental_level_of_education_some college  \\\n",
       "29                                          0   \n",
       "535                                         0   \n",
       "695                                         1   \n",
       "557                                         0   \n",
       "836                                         0   \n",
       "\n",
       "     parental_level_of_education_some high school  lunch_free/reduced  \\\n",
       "29                                              0                   0   \n",
       "535                                             0                   1   \n",
       "695                                             0                   1   \n",
       "557                                             0                   1   \n",
       "836                                             0                   0   \n",
       "\n",
       "     lunch_standard  test_preparation_course_completed  \\\n",
       "29                1                                  0   \n",
       "535               0                                  1   \n",
       "695               0                                  0   \n",
       "557               0                                  0   \n",
       "836               1                                  0   \n",
       "\n",
       "     test_preparation_course_none  \n",
       "29                              1  \n",
       "535                             0  \n",
       "695                             1  \n",
       "557                             1  \n",
       "836                             1  "
      ]
     },
     "execution_count": 21,
     "metadata": {},
     "output_type": "execute_result"
    }
   ],
   "source": [
    "X_train[0:5]"
   ]
  },
  {
   "cell_type": "markdown",
   "metadata": {},
   "source": [
    "<p> É importante destacar que o dataset é desembalanceado, ou seja, as classes de reprovados e aprovados \n",
    "não estão em igual quantidade. Pela análise feita sabe-se que temos uma maior quantidade de reprovados (cerca de 54.1%). Logo, para os modelos terem melhor desempenho é necessário fazer um balanceamento de classes realizando um oversample, ou seja, acrescentar mais dados.</p>\n",
    "<p> Existem vários métodos para realizar essa tarefa um deles é o borderline, onde, mais exemplos da classe minoritária são adicionados, através de dois passos: 1 - Encontrar regiões em perigo, na qual, dado um valor de sample Xi e seus K-vizinhos, pelo menos, metade deles tem classe igual a Xi. 2 - Encontrada as regiões em perigo, é feito um <a href=\"https://imbalanced-learn.org/stable/over_sampling.html\">cálculo</a>, considerando Xi e seus vizinhos para gerar um novo valor de sample.  </p>"
   ]
  },
  {
   "cell_type": "code",
   "execution_count": 22,
   "metadata": {},
   "outputs": [],
   "source": [
    "from imblearn.over_sampling import BorderlineSMOTE\n",
    "X_resampled, y_resampled = BorderlineSMOTE(random_state=0).fit_resample(X, Y)"
   ]
  },
  {
   "cell_type": "code",
   "execution_count": 23,
   "metadata": {
    "scrolled": true
   },
   "outputs": [],
   "source": [
    "X2_train,X2_test,y2_train,y2_test = train_test_split(X_resampled,y_resampled,test_size=0.2,random_state=42)"
   ]
  },
  {
   "cell_type": "markdown",
   "metadata": {},
   "source": [
    "<p>O primeiro modelo a ser estudado foi o logistic regression  </p>"
   ]
  },
  {
   "cell_type": "code",
   "execution_count": 24,
   "metadata": {
    "scrolled": true
   },
   "outputs": [
    {
     "data": {
      "text/plain": [
       "LogisticRegression(penalty='l1', random_state=42, solver='liblinear', tol=0.001)"
      ]
     },
     "execution_count": 24,
     "metadata": {},
     "output_type": "execute_result"
    }
   ],
   "source": [
    "log_reg_model = LogisticRegression(penalty=\"l1\",solver=\"liblinear\",tol=0.001,random_state=42)\n",
    "log_reg_model"
   ]
  },
  {
   "cell_type": "code",
   "execution_count": 25,
   "metadata": {
    "scrolled": true
   },
   "outputs": [
    {
     "data": {
      "text/plain": [
       "{'C': [1.0, 0.6812920690579611, 1.0, 1.0, 0.46415888336127786],\n",
       " 'mean_train_scores': [0.6963096967600599,\n",
       "  0.7062917586706814,\n",
       "  0.7014920903954801,\n",
       "  0.713521332554062,\n",
       "  0.7206640522875818],\n",
       " 'mean_test_scores': [0.7148798076923077,\n",
       "  0.6434065934065935,\n",
       "  0.6879513888888888,\n",
       "  0.6483733974358975,\n",
       "  0.5278968253968255]}"
      ]
     },
     "execution_count": 25,
     "metadata": {},
     "output_type": "execute_result"
    }
   ],
   "source": [
    "#procurando o melhor paramêtro de C para o modelo de logistic regression \n",
    "cross_val_C_selection_grid_search(log_reg_model,X2_train,y2_train,KFolds,{\"C\":C_vals})"
   ]
  },
  {
   "cell_type": "markdown",
   "metadata": {},
   "source": [
    "<p> Com base na busca feita acima vimos que C = 1 se adaptou aos dados melhor para a regressão logística. Assim vamos utilzá-lo para analisar os pesos das variáveis de X para classificar os dados. </p>"
   ]
  },
  {
   "cell_type": "code",
   "execution_count": 26,
   "metadata": {
    "scrolled": false
   },
   "outputs": [],
   "source": [
    "clf_test = log_reg_model \n",
    "clf_test.C = 1\n",
    "clf_test = log_reg_model.fit(X2_train,y2_train)"
   ]
  },
  {
   "cell_type": "code",
   "execution_count": 27,
   "metadata": {},
   "outputs": [],
   "source": [
    "y_clf_scores = clf_test.predict_proba(X2_test)"
   ]
  },
  {
   "cell_type": "markdown",
   "metadata": {},
   "source": [
    "<p> A partir disso é necessário verificar outras métricas da classificação do modelos estudados: precision e recall. Ambas respondem a perguntas parecidas mas com sutís diferenças. A primeira, procura responder: A partir dos meus dados classificados como aprovados, qual a quantidade deles são verdadeiramente aprovados? Já a segunda responde: em relação a minha base de dados, qual a quantidade de verdadeiramente aprovados o modelo conseguiu classificar?. A imagem acima ilustra como os cálculos são feitos para essas medidas. </p>\n",
    "<p>Precision e recall, então, analisam diferentes problemas para a avaliação dos modelos, uma precision alta signfica que temos poucos falsos positivos (dados classificados como aprovado mas na verdade são alunos reprovados), já um recall alto diz que temos poucos falsos negativos (dados classificados como reprovados mas na verdade são alunos aprovados). Logo, dependendo do problema é importante verificar quais desses paramêtros deve ser alto. Para um problema na área de saúde, ter um falso negativo é preocupante (pode indicar uma doença não identificada por exemplo),logo, um recall alto é necessário, já para área de negócios, falso positivos são ruins (isso indica um gasto que não trouxe retorno), portanto, um valor alto de precision é importante. </p>\n",
    "<p> Com base no exposto é importante lembrar o objetivo dessa análise de dados: verificar quais são as variáveis categóricas mais importantes para definir se um aluno foi aprovado ou não, aqui, ter um falso negativo é um problema maior do que ter um falso positivo, pois indica que o modelo não foi assertivo em garantir que todos alunos aprovados fossem corretamente classificados.  <p>\n",
    "<p> Dito isso, abaixo terá o plote da curva de precision e recall para analisar quando temos um alto recall ou alta precisão a partir de diferentes limiares de decisão. Assim, conseguimos encontrar um ponto de equilíbrio entre essas duas métricas.  </p>"
   ]
  },
  {
   "cell_type": "code",
   "execution_count": 28,
   "metadata": {
    "scrolled": false
   },
   "outputs": [],
   "source": [
    "p,r,th = precision_recall_curve(y2_test,y_clf_scores[:,1])"
   ]
  },
  {
   "cell_type": "code",
   "execution_count": 29,
   "metadata": {
    "scrolled": false
   },
   "outputs": [
    {
     "data": {
      "text/plain": [
       "<matplotlib.legend.Legend at 0x17dd0d1f160>"
      ]
     },
     "execution_count": 29,
     "metadata": {},
     "output_type": "execute_result"
    },
    {
     "data": {
      "image/png": "[encoded data removed]",
      "text/plain": [
       "<Figure size 720x576 with 1 Axes>"
      ]
     },
     "metadata": {
      "needs_background": "light"
     },
     "output_type": "display_data"
    }
   ],
   "source": [
    "plt.figure(figsize=(10,8))\n",
    "plt.title(\"Precision x Recall x thresholds curve\")\n",
    "plt.plot(th,p[:-1],'--',label=\"precision\",color=\"blue\")\n",
    "plt.plot(th,r[:-1],'-',label=\"recall\",color=\"red\")\n",
    "plt.ylabel(\"Scores\")\n",
    "plt.xlabel(\"Decision Thresholds\")\n",
    "plt.legend(loc=\"best\")"
   ]
  },
  {
   "cell_type": "markdown",
   "metadata": {},
   "source": [
    "<p>Para esse modelo de logistic regression, um bom ponto de equilíbrio de precision e recall ocorre com \n",
    "uma decision threshold abaixo de 0.5, em torno de 0.45 e 0.4, para obtermos um recall em torno de 70 % e precision proximo de 60%. Abaixo vamos verificar os resultados obtidos para esse valor. </p>"
   ]
  },
  {
   "cell_type": "code",
   "execution_count": 30,
   "metadata": {
    "scrolled": false
   },
   "outputs": [
    {
     "data": {
      "text/plain": [
       "LogisticRegression(C=1, penalty='l1', random_state=42, solver='liblinear',\n",
       "                   tol=0.001)"
      ]
     },
     "execution_count": 30,
     "metadata": {},
     "output_type": "execute_result"
    }
   ],
   "source": [
    "clf_test"
   ]
  },
  {
   "cell_type": "code",
   "execution_count": 31,
   "metadata": {
    "scrolled": true
   },
   "outputs": [
    {
     "data": {
      "image/png": "[encoded data removed]",
      "text/plain": [
       "<Figure size 432x288 with 2 Axes>"
      ]
     },
     "metadata": {
      "needs_background": "light"
     },
     "output_type": "display_data"
    }
   ],
   "source": [
    "y_pred = clf_test.predict(X2_test)\n",
    "cm = confusion_matrix(y2_test, y_pred)\n",
    "\n",
    "cm_display = ConfusionMatrixDisplay(cm).plot()"
   ]
  },
  {
   "cell_type": "markdown",
   "metadata": {},
   "source": [
    "<p> Aqui vamos definir uma função adjusted_scores para modificar a classificação de acordo com a probabilidade calculada de uma instância pertencer a classe. No caso, o padrão de decision threshold para uma instancia pertencer a uma classe é ela ter 51% de probabilidade dela pertencer a mesma. Dito isso, o que essa função irá fazer é dimunuir ou aumentar esse valor.  </p>"
   ]
  },
  {
   "cell_type": "code",
   "execution_count": 32,
   "metadata": {},
   "outputs": [],
   "source": [
    "def adjusted_scores(y_scores,t):\n",
    "    return [1 if y>=t else 0 for y in y_scores]"
   ]
  },
  {
   "cell_type": "code",
   "execution_count": 33,
   "metadata": {},
   "outputs": [],
   "source": [
    "y_pred_adj = adjusted_scores(y_clf_scores[:,1],0.43)\n"
   ]
  },
  {
   "cell_type": "code",
   "execution_count": 34,
   "metadata": {},
   "outputs": [
    {
     "data": {
      "image/png": "[encoded data removed]",
      "text/plain": [
       "<Figure size 432x288 with 2 Axes>"
      ]
     },
     "metadata": {
      "needs_background": "light"
     },
     "output_type": "display_data"
    }
   ],
   "source": [
    "cm2 = confusion_matrix(y2_test, y_pred_adj)\n",
    "\n",
    "cm2_display = ConfusionMatrixDisplay(cm2).plot()"
   ]
  },
  {
   "cell_type": "code",
   "execution_count": 35,
   "metadata": {
    "scrolled": true
   },
   "outputs": [],
   "source": [
    "#aplicando no dataset real esse modelo com valor de decision thresold para 0.45 \n",
    "y_clf_scores_2 = clf_test.predict_proba(X_test)"
   ]
  },
  {
   "cell_type": "code",
   "execution_count": 36,
   "metadata": {
    "scrolled": true
   },
   "outputs": [],
   "source": [
    "y_pred_adj2 = adjusted_scores(y_clf_scores_2[:,1],0.46)"
   ]
  },
  {
   "cell_type": "code",
   "execution_count": 37,
   "metadata": {
    "scrolled": true
   },
   "outputs": [
    {
     "data": {
      "image/png": "[encoded data removed]",
      "text/plain": [
       "<Figure size 432x288 with 2 Axes>"
      ]
     },
     "metadata": {
      "needs_background": "light"
     },
     "output_type": "display_data"
    }
   ],
   "source": [
    "cm3 = confusion_matrix(y_test, y_pred_adj2)\n",
    "\n",
    "cm3_display = ConfusionMatrixDisplay(cm3).plot()"
   ]
  },
  {
   "cell_type": "markdown",
   "metadata": {},
   "source": [
    "<p>Criando o modelo de linear SVC. Ele é o algoritmo de support vector machines aplicado a classificação. Logo, sua função sera encontrar a reta que melhor segmenta o espaço</p>"
   ]
  },
  {
   "cell_type": "code",
   "execution_count": 38,
   "metadata": {
    "scrolled": true
   },
   "outputs": [
    {
     "data": {
      "text/plain": [
       "LinearSVC(C=1, dual=False, penalty='l1', random_state=0, tol=0.001)"
      ]
     },
     "execution_count": 38,
     "metadata": {},
     "output_type": "execute_result"
    }
   ],
   "source": [
    "from sklearn.svm import LinearSVC\n",
    "svc = LinearSVC(penalty=\"l1\",C=1,tol=0.001,loss=\"squared_hinge\",dual=False,random_state=0)\n",
    "svc"
   ]
  },
  {
   "cell_type": "code",
   "execution_count": 39,
   "metadata": {},
   "outputs": [],
   "source": [
    "#criando os valores de C baseado na base 10  \n",
    "C_vals_exponents_svc = np.linspace(-1,0,5)\n",
    "C_vals_svc = np.float(10)**C_vals_exponents_svc"
   ]
  },
  {
   "cell_type": "code",
   "execution_count": 40,
   "metadata": {
    "scrolled": false
   },
   "outputs": [
    {
     "data": {
      "text/plain": [
       "{'C': [1.0, 0.1, 0.5623413251903491, 0.31622776601683794, 0.1],\n",
       " 'mean_train_scores': [0.6973641185287673,\n",
       "  0.7069442845990856,\n",
       "  0.7026271186440678,\n",
       "  0.7146691992986558,\n",
       "  0.7213640522875816],\n",
       " 'mean_test_scores': [0.7129674145299145,\n",
       "  0.596153846153846,\n",
       "  0.6910870726495727,\n",
       "  0.6395993589743589,\n",
       "  0.48583333333333334]}"
      ]
     },
     "execution_count": 40,
     "metadata": {},
     "output_type": "execute_result"
    }
   ],
   "source": [
    "results_svc = cross_val_C_selection_grid_search(svc,X2_train,y2_train,KFolds,{\"C\":C_vals_svc})\n",
    "results_svc"
   ]
  },
  {
   "cell_type": "markdown",
   "metadata": {},
   "source": [
    "<p>Aqui o melhor valor de C é de 0.1 para o LinearSVC </p>"
   ]
  },
  {
   "cell_type": "code",
   "execution_count": 41,
   "metadata": {},
   "outputs": [
    {
     "data": {
      "text/plain": [
       "LinearSVC(C=0.1, dual=False, penalty='l1', random_state=0, tol=0.001)"
      ]
     },
     "execution_count": 41,
     "metadata": {},
     "output_type": "execute_result"
    }
   ],
   "source": [
    "best_C = results_svc[\"C\"][1]\n",
    "svc_test = svc\n",
    "svc_test.C = best_C\n",
    "svc_test"
   ]
  },
  {
   "cell_type": "code",
   "execution_count": 42,
   "metadata": {},
   "outputs": [
    {
     "data": {
      "text/plain": [
       "LinearSVC(C=0.1, dual=False, penalty='l1', random_state=0, tol=0.001)"
      ]
     },
     "execution_count": 42,
     "metadata": {},
     "output_type": "execute_result"
    }
   ],
   "source": [
    "svc_test.fit(X2_train,y2_train)"
   ]
  },
  {
   "cell_type": "code",
   "execution_count": 43,
   "metadata": {},
   "outputs": [
    {
     "data": {
      "image/png": "[encoded data removed]",
      "text/plain": [
       "<Figure size 432x288 with 2 Axes>"
      ]
     },
     "metadata": {
      "needs_background": "light"
     },
     "output_type": "display_data"
    }
   ],
   "source": [
    "y_pred_svc = svc_test.predict(X2_test)\n",
    "cm_svc = confusion_matrix(y2_test, y_pred_svc)\n",
    "\n",
    "cm_svc_display = ConfusionMatrixDisplay(cm_svc).plot()"
   ]
  },
  {
   "cell_type": "code",
   "execution_count": 44,
   "metadata": {
    "scrolled": true
   },
   "outputs": [
    {
     "data": {
      "text/plain": [
       "CalibratedClassifierCV(base_estimator=LinearSVC(C=0.1, dual=False, penalty='l1',\n",
       "                                                random_state=0, tol=0.001))"
      ]
     },
     "execution_count": 44,
     "metadata": {},
     "output_type": "execute_result"
    }
   ],
   "source": [
    "from sklearn.calibration import CalibratedClassifierCV\n",
    "#criando o classificador calibrated classifier para poder utilizar o predict_proba para modificar o decision\n",
    "#thresold já que utilizando apenas LinearSVC() não temos essa opção.\n",
    "cclf = CalibratedClassifierCV(svc_test)\n",
    "cclf"
   ]
  },
  {
   "cell_type": "code",
   "execution_count": 45,
   "metadata": {
    "scrolled": true
   },
   "outputs": [
    {
     "data": {
      "text/plain": [
       "CalibratedClassifierCV(base_estimator=LinearSVC(C=0.1, dual=False, penalty='l1',\n",
       "                                                random_state=0, tol=0.001))"
      ]
     },
     "execution_count": 45,
     "metadata": {},
     "output_type": "execute_result"
    }
   ],
   "source": [
    "cclf.fit(X2_train,y2_train)"
   ]
  },
  {
   "cell_type": "code",
   "execution_count": 46,
   "metadata": {
    "scrolled": false
   },
   "outputs": [],
   "source": [
    "y_clf_scores_svc = cclf.predict_proba(X2_test)"
   ]
  },
  {
   "cell_type": "code",
   "execution_count": 47,
   "metadata": {},
   "outputs": [],
   "source": [
    "p_svc,r_svc,th_svc = precision_recall_curve(y2_test,y_clf_scores_svc[:,1])"
   ]
  },
  {
   "cell_type": "code",
   "execution_count": 48,
   "metadata": {
    "scrolled": true
   },
   "outputs": [
    {
     "data": {
      "text/plain": [
       "<matplotlib.legend.Legend at 0x17dd31a2048>"
      ]
     },
     "execution_count": 48,
     "metadata": {},
     "output_type": "execute_result"
    },
    {
     "data": {
      "image/png": "[encoded data removed]",
      "text/plain": [
       "<Figure size 720x576 with 1 Axes>"
      ]
     },
     "metadata": {
      "needs_background": "light"
     },
     "output_type": "display_data"
    }
   ],
   "source": [
    "plt.figure(figsize=(10,8))\n",
    "plt.title(\"Precision x Recall x thresholds curve\")\n",
    "plt.plot(th_svc,p_svc[:-1],'--',label=\"precision\",color=\"blue\")\n",
    "plt.plot(th_svc,r_svc[:-1],'-',label=\"recall\",color=\"red\")\n",
    "plt.ylabel(\"Scores\")\n",
    "plt.xlabel(\"Decision Thresholds\")\n",
    "plt.legend(loc=\"best\")"
   ]
  },
  {
   "cell_type": "markdown",
   "metadata": {},
   "source": [
    "<p>Para esse modelo de linear SVC, um bom ponto de equilíbrio de precision e recall ocorre com \n",
    "uma decision threshold abaixo de 0.5, em torno de 0.45 e 0.47, para obtermos um recall em torno de 70 % e precision proximo de 60%. Abaixo vamos verificar os resultados obtidos para esse valor. </p>"
   ]
  },
  {
   "cell_type": "code",
   "execution_count": 49,
   "metadata": {
    "scrolled": true
   },
   "outputs": [],
   "source": [
    "y_pred_adj_svc = adjusted_scores(y_clf_scores_svc[:,1],0.47)"
   ]
  },
  {
   "cell_type": "code",
   "execution_count": 50,
   "metadata": {
    "scrolled": false
   },
   "outputs": [
    {
     "data": {
      "image/png": "[encoded data removed]",
      "text/plain": [
       "<Figure size 432x288 with 2 Axes>"
      ]
     },
     "metadata": {
      "needs_background": "light"
     },
     "output_type": "display_data"
    }
   ],
   "source": [
    "cm_svc_balanc = confusion_matrix(y2_test, y_pred_adj_svc)\n",
    "\n",
    "cm_svc_balanc_disp = ConfusionMatrixDisplay(cm_svc_balanc).plot()"
   ]
  },
  {
   "cell_type": "code",
   "execution_count": 51,
   "metadata": {},
   "outputs": [],
   "source": [
    "#aplicando no dataset real\n",
    "y_scores_svc_imbal = cclf.predict_proba(X_test)\n"
   ]
  },
  {
   "cell_type": "code",
   "execution_count": 52,
   "metadata": {},
   "outputs": [],
   "source": [
    "y_pred_adj_svc2 = adjusted_scores(y_scores_svc_imbal[:,1],0.47)"
   ]
  },
  {
   "cell_type": "code",
   "execution_count": 53,
   "metadata": {
    "scrolled": false
   },
   "outputs": [
    {
     "data": {
      "image/png": "[encoded data removed]",
      "text/plain": [
       "<Figure size 432x288 with 2 Axes>"
      ]
     },
     "metadata": {
      "needs_background": "light"
     },
     "output_type": "display_data"
    }
   ],
   "source": [
    "cm_svc_imbalanc = confusion_matrix(y_test, y_pred_adj_svc2)\n",
    "\n",
    "cm_svc_imbalanc_disp = ConfusionMatrixDisplay(cm_svc_imbalanc).plot()"
   ]
  },
  {
   "cell_type": "markdown",
   "metadata": {},
   "source": [
    "<p> Aqui vamos analisar os valores de precision, recall e AUC (área sob a curva - do gráfico de relação dos falsos positivos e e verdadeiros positivos) para os novos valores de decision thresehold. A AUC vai nos dizer se os dados estão bem ajustados ao modelo e se existiu ou não under/overfiting.</p>\n",
    "<p> Treinamos o modelo com os dados baleanceados, contudo, o modelo não irá encontrar valores baleanceados quando tiver sendo aplicado na realidade. Dito isso, é importante analisar como ele irá se adaptar aos valores não baleanceados com o decision thresehold diferente. Abaixo, a função cross_vall_precision_recall vai analisar justamente essa resposta.   </p>"
   ]
  },
  {
   "cell_type": "code",
   "execution_count": 54,
   "metadata": {},
   "outputs": [],
   "source": [
    "#função para fazer o cross validation com os dados reais e novo decision threshold\n",
    "def cross_val_precision_recall(model,X,Y,KFolds,t):\n",
    "    n_folds = KFolds.n_splits\n",
    "    results = {\"precision_values_train\":[],\"recall_values_train\":[],\"AUC_train\":[],\n",
    "             \"precision_values_teste\":[],\"recall_values_teste\":[],\"AUC_teste\":[]}\n",
    "    for train_index,test_index in KFolds.split(X,Y):\n",
    "            #sepearating the train data and test data\n",
    "            X_cv_train,X_cv_test = X.loc[X.index.intersection(train_index)],X.loc[X.index.intersection(test_index)]\n",
    "            y_cv_train,y_cv_test = Y.loc[Y.index.intersection(train_index)],Y.loc[Y.index.intersection(test_index)]\n",
    "\n",
    "            X_cv_train_resamp, y_cv_train_resamp = BorderlineSMOTE().fit_resample(X_cv_train, y_cv_train)\n",
    "            #fitting the model\n",
    "            model.fit(X_cv_train_resamp,y_cv_train_resamp)\n",
    "            \n",
    "            #getting the train predict proba\n",
    "            y_cv_train_predict_proba = model.predict_proba(X_cv_train_resamp)\n",
    "            AUC_train = roc_auc_score(y_cv_train_resamp,y_cv_train_predict_proba[:,1])\n",
    "            results[\"AUC_train\"].append(AUC_train)\n",
    "            y_cv_train_pred_adj = adjusted_scores(y_cv_train_predict_proba[:,1],t)\n",
    "            \n",
    "            \n",
    "            #getting the testing predict proba\n",
    "            y_cv_test_predict_proba = model.predict_proba(X_cv_test)\n",
    "            AUC = roc_auc_score(y_cv_test,y_cv_test_predict_proba[:,1])\n",
    "            results[\"AUC_teste\"].append(AUC)\n",
    "            y_cv_test_pred_adj = adjusted_scores(y_cv_test_predict_proba[:,1],t)\n",
    "            \n",
    "           #getting the confusion matrix and calculating the precision and recall \n",
    "            tn_train, fp_train, fn_train, tp_train = confusion_matrix(y_cv_train_resamp, y_cv_train_pred_adj).ravel()\n",
    "            recall_train = tp_train/(tp_train+fn_train)\n",
    "            results[\"recall_values_train\"].append(recall_train)\n",
    "            precision_train = tp_train/(tp_train+fp_train)\n",
    "            results[\"precision_values_train\"].append(precision_train)\n",
    "            \n",
    "            \n",
    "            tn_test, fp_test, fn_test, tp_test = confusion_matrix(y_cv_test, y_cv_test_pred_adj).ravel()\n",
    "            recall_test = tp_test/(tp_test+fn_test)\n",
    "            results[\"recall_values_teste\"].append(recall_test)\n",
    "            precision_test = tp_test/(tp_test+fp_test)\n",
    "            results[\"precision_values_teste\"].append(precision_test)\n",
    "            \n",
    "\n",
    "        \n",
    "    return results"
   ]
  },
  {
   "cell_type": "code",
   "execution_count": 55,
   "metadata": {
    "scrolled": true
   },
   "outputs": [
    {
     "data": {
      "text/plain": [
       "{'precision_values_train': [0.6746203904555315,\n",
       "  0.6680327868852459,\n",
       "  0.6619144602851323,\n",
       "  0.6579476861167002,\n",
       "  0.6715176715176715],\n",
       " 'recall_values_train': [0.7300469483568075,\n",
       "  0.7477064220183486,\n",
       "  0.7505773672055427,\n",
       "  0.7551963048498845,\n",
       "  0.7408256880733946],\n",
       " 'AUC_train': [0.7588496550508057,\n",
       "  0.7651607608787138,\n",
       "  0.7526921579399325,\n",
       "  0.7607406301169668,\n",
       "  0.755939104452487],\n",
       " 'precision_values_teste': [0.5526315789473685,\n",
       "  0.6138613861386139,\n",
       "  0.6086956521739131,\n",
       "  0.6176470588235294,\n",
       "  0.6326530612244898],\n",
       " 'recall_values_teste': [0.7411764705882353,\n",
       "  0.6526315789473685,\n",
       "  0.7608695652173914,\n",
       "  0.6847826086956522,\n",
       "  0.6526315789473685],\n",
       " 'AUC_teste': [0.7158056265984655,\n",
       "  0.6996491228070176,\n",
       "  0.7447665056360709,\n",
       "  0.7321859903381642,\n",
       "  0.7258145363408522]}"
      ]
     },
     "execution_count": 55,
     "metadata": {},
     "output_type": "execute_result"
    }
   ],
   "source": [
    "results_logreg = cross_val_precision_recall(clf_test,X,Y,KFolds,0.46)\n",
    "results_logreg"
   ]
  },
  {
   "cell_type": "code",
   "execution_count": 56,
   "metadata": {},
   "outputs": [],
   "source": [
    "#calculando as médias gerais\n",
    "#logistic regression\n",
    "media_auc_train = np.mean(results_logreg[\"AUC_train\"])\n",
    "media_auc_teste = np.mean(results_logreg[\"AUC_teste\"])\n",
    "media_precision_train = np.mean(results_logreg[\"precision_values_train\"])\n",
    "media_precision_teste = np.mean(results_logreg[\"precision_values_teste\"])\n",
    "media_recall_train = np.mean(results_logreg[\"recall_values_train\"])\n",
    "media_recall_teste = np.mean(results_logreg[\"recall_values_teste\"])"
   ]
  },
  {
   "cell_type": "code",
   "execution_count": 57,
   "metadata": {},
   "outputs": [
    {
     "name": "stdout",
     "output_type": "stream",
     "text": [
      "média dos valores de AUC no conjunto de treinamento: 0.76\n",
      "média dos valores de AUC no conjunto de teste: 0.72\n"
     ]
    }
   ],
   "source": [
    "print(f\"média dos valores de AUC no conjunto de treinamento: {media_auc_train:.2f}\")\n",
    "print(f\"média dos valores de AUC no conjunto de teste: {media_auc_teste:.2f}\")"
   ]
  },
  {
   "cell_type": "code",
   "execution_count": 58,
   "metadata": {
    "scrolled": false
   },
   "outputs": [
    {
     "name": "stdout",
     "output_type": "stream",
     "text": [
      "média dos valores de precisão no conjunto de treinamento: 0.67\n",
      "média dos valores de precisão no cojunto de teste: 0.61\n"
     ]
    }
   ],
   "source": [
    "print(f\"média dos valores de precisão no conjunto de treinamento: {media_precision_train:.2f}\")\n",
    "print(f\"média dos valores de precisão no cojunto de teste: {media_precision_teste:.2f}\")"
   ]
  },
  {
   "cell_type": "code",
   "execution_count": 59,
   "metadata": {
    "scrolled": false
   },
   "outputs": [
    {
     "name": "stdout",
     "output_type": "stream",
     "text": [
      "média de recall no conjunto de treinamento: 0.74\n",
      "média de recall no conjunto de teste: 0.70\n"
     ]
    }
   ],
   "source": [
    "print(f\"média de recall no conjunto de treinamento: {media_recall_train:.2f}\")\n",
    "print(f\"média de recall no conjunto de teste: {media_recall_teste:.2f}\")"
   ]
  },
  {
   "cell_type": "code",
   "execution_count": 60,
   "metadata": {
    "scrolled": false
   },
   "outputs": [
    {
     "data": {
      "text/plain": [
       "{'precision_values_train': [0.6618852459016393,\n",
       "  0.6514285714285715,\n",
       "  0.6593186372745491,\n",
       "  0.6378986866791745,\n",
       "  0.6492985971943888],\n",
       " 'recall_values_train': [0.7582159624413145,\n",
       "  0.7844036697247706,\n",
       "  0.7598152424942263,\n",
       "  0.7852193995381063,\n",
       "  0.7431192660550459],\n",
       " 'AUC_train': [0.7464954043509886,\n",
       "  0.7636378461408972,\n",
       "  0.7520574540373037,\n",
       "  0.7537455530724468,\n",
       "  0.7440845677973236],\n",
       " 'precision_values_teste': [0.5491803278688525,\n",
       "  0.6055045871559633,\n",
       "  0.5982905982905983,\n",
       "  0.5609756097560976,\n",
       "  0.63],\n",
       " 'recall_values_teste': [0.788235294117647,\n",
       "  0.6947368421052632,\n",
       "  0.7608695652173914,\n",
       "  0.75,\n",
       "  0.6631578947368421],\n",
       " 'AUC_teste': [0.720613810741688,\n",
       "  0.6892230576441103,\n",
       "  0.7376207729468599,\n",
       "  0.7174919484702094,\n",
       "  0.7169924812030075]}"
      ]
     },
     "execution_count": 60,
     "metadata": {},
     "output_type": "execute_result"
    }
   ],
   "source": [
    "results_svc = cross_val_precision_recall(cclf,X,Y,KFolds,0.47)\n",
    "results_svc"
   ]
  },
  {
   "cell_type": "code",
   "execution_count": 61,
   "metadata": {},
   "outputs": [],
   "source": [
    "media_auc_train_svc = np.mean(results_svc[\"AUC_train\"])\n",
    "media_auc_teste_svc = np.mean(results_svc[\"AUC_teste\"])\n",
    "media_precision_train_svc = np.mean(results_svc[\"precision_values_train\"])\n",
    "media_precision_teste_svc = np.mean(results_svc[\"precision_values_teste\"])\n",
    "media_recall_train_svc = np.mean(results_svc[\"recall_values_train\"])\n",
    "media_recall_teste_svc = np.mean(results_svc[\"recall_values_teste\"])"
   ]
  },
  {
   "cell_type": "code",
   "execution_count": 62,
   "metadata": {},
   "outputs": [
    {
     "name": "stdout",
     "output_type": "stream",
     "text": [
      "média dos valores de AUC no conjunto de treinamento: 0.75\n",
      "média dos valores de AUC no conjunto de teste: 0.72\n"
     ]
    }
   ],
   "source": [
    "print(f\"média dos valores de AUC no conjunto de treinamento: {media_auc_train_svc:.2f}\")\n",
    "print(f\"média dos valores de AUC no conjunto de teste: {media_auc_teste_svc:.2f}\")"
   ]
  },
  {
   "cell_type": "code",
   "execution_count": 63,
   "metadata": {},
   "outputs": [
    {
     "name": "stdout",
     "output_type": "stream",
     "text": [
      "média dos valores de precisão no conjunto de treinamento: 0.65\n",
      "média dos valores de precisão no cojunto de teste: 0.59\n"
     ]
    }
   ],
   "source": [
    "print(f\"média dos valores de precisão no conjunto de treinamento: {media_precision_train_svc:.2f}\")\n",
    "print(f\"média dos valores de precisão no cojunto de teste: {media_precision_teste_svc:.2f}\")"
   ]
  },
  {
   "cell_type": "code",
   "execution_count": 64,
   "metadata": {},
   "outputs": [
    {
     "name": "stdout",
     "output_type": "stream",
     "text": [
      "média de recall no conjunto de treinamento: 0.77\n",
      "média de recall no conjunto de teste: 0.73\n"
     ]
    }
   ],
   "source": [
    "print(f\"média de recall no conjunto de treinamento: {media_recall_train_svc:.2f}\")\n",
    "print(f\"média de recall no conjunto de teste: {media_recall_teste_svc:.2f}\")"
   ]
  },
  {
   "cell_type": "markdown",
   "metadata": {},
   "source": [
    "<p> Vamos armazenar os dados em um dict para poder comparar diferentes modelos ao final da análise. </p>"
   ]
  },
  {
   "cell_type": "code",
   "execution_count": 205,
   "metadata": {},
   "outputs": [],
   "source": [
    "models_results = {\n",
    "    \"models\":[],\n",
    "    \"auc_train\":[],\n",
    "    \"auc_test\":[],\n",
    "    \"precision_train\":[],\n",
    "    \"precision_test\":[],\n",
    "    \"recall_train\":[],\n",
    "    \"recall_test\":[]\n",
    "}"
   ]
  },
  {
   "cell_type": "code",
   "execution_count": 206,
   "metadata": {
    "scrolled": true
   },
   "outputs": [],
   "source": [
    "#adicionando dados da logistic regression\n",
    "models_results[\"models\"].append(clf_test)\n",
    "models_results[\"auc_train\"].append(str(round(np.mean(results_logreg[\"AUC_train\"]),2))+ \" +/- \" +\n",
    "                             str(round(np.std(results_logreg[\"AUC_train\"]),2)))\n",
    "models_results[\"auc_test\"].append(str(round(np.mean(results_logreg[\"AUC_teste\"]),2))+ \" +/- \" +\n",
    "                             str(round(np.std(results_logreg[\"AUC_teste\"]),2)))\n",
    "models_results[\"precision_train\"].append(str(round(np.mean(results_logreg[\"precision_values_train\"]),2))+ \" +/- \" +\n",
    "                             str(round(np.std(results_logreg[\"precision_values_train\"]),2)))\n",
    "models_results[\"precision_test\"].append(str(round(np.mean(results_logreg[\"precision_values_teste\"]),2))+ \" +/- \" +\n",
    "                             str(round(np.std(results_logreg[\"precision_values_teste\"]),2)))\n",
    "models_results[\"recall_train\"].append(str(round(np.mean(results_logreg[\"recall_values_train\"]),2))+ \" +/- \" +\n",
    "                             str(round(np.std(results_logreg[\"recall_values_train\"]),2)))\n",
    "\n",
    "models_results[\"recall_test\"].append(str(round(np.mean(results_logreg[\"recall_values_teste\"]),2))+ \" +/- \" +\n",
    "                             str(round(np.std(results_logreg[\"recall_values_teste\"]),2)))\n",
    "\n"
   ]
  },
  {
   "cell_type": "code",
   "execution_count": 207,
   "metadata": {},
   "outputs": [],
   "source": [
    "#adicionando dados da LinearSVC\n",
    "models_results[\"models\"].append(cclf.base_estimator)\n",
    "models_results[\"auc_train\"].append(str(round(np.mean(results_svc[\"AUC_train\"]),2))+ \" +/- \" +\n",
    "                             str(round(np.std(results_svc[\"AUC_train\"]),2)))\n",
    "models_results[\"auc_test\"].append(str(round(np.mean(results_svc[\"AUC_teste\"]),2))+ \" +/- \" +\n",
    "                             str(round(np.std(results_svc[\"AUC_teste\"]),2))) \n",
    "models_results[\"precision_train\"].append(str(round(np.mean(results_svc[\"precision_values_train\"]),2))+ \" +/- \" +\n",
    "                             str(round(np.std(results_svc[\"precision_values_train\"]),2)))\n",
    "models_results[\"precision_test\"].append(str(round(np.mean(results_svc[\"precision_values_teste\"]),2))+ \" +/- \" +\n",
    "                             str(round(np.std(results_svc[\"precision_values_teste\"]),2)))\n",
    "models_results[\"recall_train\"].append(str(round(np.mean(results_svc[\"recall_values_train\"]),2))+ \" +/- \" +\n",
    "                             str(round(np.std(results_svc[\"recall_values_train\"]),2)))\n",
    "models_results[\"recall_test\"].append(str(round(np.mean(results_svc[\"recall_values_teste\"]),2))+ \" +/- \" +\n",
    "                             str(round(np.std(results_svc[\"recall_values_teste\"]),2)))"
   ]
  },
  {
   "cell_type": "code",
   "execution_count": 68,
   "metadata": {},
   "outputs": [
    {
     "data": {
      "text/plain": [
       "{'models': [LogisticRegression(C=1, penalty='l1', random_state=42, solver='liblinear',\n",
       "                     tol=0.001),\n",
       "  LinearSVC(C=0.1, dual=False, penalty='l1', random_state=0, tol=0.001)],\n",
       " 'auc_train': ['0.76 +/- 0.0', '0.75 +/- 0.01'],\n",
       " 'auc_test': ['0.72 +/- 0.02', '0.72 +/- 0.02'],\n",
       " 'precision_train': ['0.67 +/- 0.01', '0.65 +/- 0.01'],\n",
       " 'precision_test': ['0.61 +/- 0.03', '0.59 +/- 0.03'],\n",
       " 'recall_train': ['0.74 +/- 0.01', '0.77 +/- 0.02'],\n",
       " 'recall_test': ['0.7 +/- 0.04', '0.73 +/- 0.05']}"
      ]
     },
     "execution_count": 68,
     "metadata": {},
     "output_type": "execute_result"
    }
   ],
   "source": [
    "models_results"
   ]
  },
  {
   "cell_type": "markdown",
   "metadata": {},
   "source": [
    "<p> A partir do que foi feito para os modelos lineares (logistic regression e linearSVC) é possível analisar também para as árvores de decisão. A vantagens delas é poder analisar comportamentos não lineares das variáveis em X. Contudo, nesse caso o hiperparametro C não existe e são procurados ajustar outros valores como profundiade da árvore e o máximo de folhas por nó. </p>\n",
    "<p> Em uma árvore de decisão é importante que ela não seja tão grande pois isso significa que ao invés dela genaralizar ela está apredendo comportamentos muito específicos os quais não acontecem com tanta frequência na realidade por isso é importante analisar e procurar os valores de profundidade que evitam o overfitting realizado o grid search e o cross validation feitos anteiormente</p>"
   ]
  },
  {
   "cell_type": "code",
   "execution_count": null,
   "metadata": {},
   "outputs": [],
   "source": [
    "## decision tree"
   ]
  },
  {
   "cell_type": "code",
   "execution_count": 69,
   "metadata": {},
   "outputs": [],
   "source": [
    "depth_values = np.linspace(3,20,8).round()"
   ]
  },
  {
   "cell_type": "code",
   "execution_count": 70,
   "metadata": {},
   "outputs": [
    {
     "data": {
      "text/plain": [
       "array([ 3.,  5.,  8., 10., 13., 15., 18., 20.])"
      ]
     },
     "execution_count": 70,
     "metadata": {},
     "output_type": "execute_result"
    }
   ],
   "source": [
    "depth_values"
   ]
  },
  {
   "cell_type": "code",
   "execution_count": 71,
   "metadata": {},
   "outputs": [
    {
     "data": {
      "text/plain": [
       "array([ 9, 10, 11, 12, 13, 14, 15, 16])"
      ]
     },
     "execution_count": 71,
     "metadata": {},
     "output_type": "execute_result"
    }
   ],
   "source": [
    "max_leaf_nodes = np.arange(9,17,1)\n",
    "max_leaf_nodes"
   ]
  },
  {
   "cell_type": "code",
   "execution_count": 72,
   "metadata": {
    "scrolled": true
   },
   "outputs": [],
   "source": [
    "X3_train,X3_test,y3_train,y3_test = train_test_split(X_resampled,y_resampled,test_size=0.2,random_state=12)"
   ]
  },
  {
   "cell_type": "code",
   "execution_count": 73,
   "metadata": {},
   "outputs": [],
   "source": [
    "def cross_val_depth_selection_grid_search(model,X,Y,KFolds,get_params):\n",
    "    n_folds = KFolds.n_splits\n",
    "    results = {\"max_depth\":[],\"max_leaf_nodes\":[],\"mean_train_score\":[],\"mean_test_score\":[]}\n",
    "    for train_index,test_index in KFolds.split(X,Y):\n",
    "        X_cv_train,X_cv_test = X.loc[X.index.intersection(train_index)],X.loc[X.index.intersection(test_index)]\n",
    "        y_cv_train,y_cv_test = Y.loc[Y.index.intersection(train_index)],Y.loc[Y.index.intersection(test_index)]\n",
    "        \n",
    "        #searching the best param for that split \n",
    "        clf = GridSearchCV(model,get_params,scoring=\"roc_auc\")\n",
    "        clf.fit(X_cv_train,y_cv_train)\n",
    "        \n",
    "        #getting the best C\n",
    "        best_depth = clf.best_params_[\"max_depth\"]\n",
    "        best_max_leafs = clf.best_params_[\"max_leaf_nodes\"]\n",
    "        \n",
    "        #creating a model with the best C and tuning params\n",
    "        model.max_depth = best_depth\n",
    "        model.max_leaf_nodes = best_max_leafs\n",
    "        model.fit(X_cv_train,y_cv_train)\n",
    "        results[\"max_depth\"].append(best_depth)\n",
    "        results[\"max_leaf_nodes\"].append(best_max_leafs)\n",
    "        \n",
    "        #adding the mean train score \n",
    "        results[\"mean_train_score\"].append(clf.best_score_)\n",
    "        \n",
    "        #getting the mean test score\n",
    "        mean_test_score = cross_val_score(model,X_cv_test,y_cv_test,cv=5,scoring=\"roc_auc\")\n",
    "        results[\"mean_test_score\"].append(np.mean(mean_test_score))\n",
    "\n",
    "    return results\n"
   ]
  },
  {
   "cell_type": "code",
   "execution_count": 74,
   "metadata": {},
   "outputs": [],
   "source": [
    "from sklearn.tree import DecisionTreeClassifier"
   ]
  },
  {
   "cell_type": "code",
   "execution_count": 75,
   "metadata": {},
   "outputs": [
    {
     "data": {
      "text/plain": [
       "DecisionTreeClassifier(random_state=8)"
      ]
     },
     "execution_count": 75,
     "metadata": {},
     "output_type": "execute_result"
    }
   ],
   "source": [
    "model_tree = DecisionTreeClassifier(random_state=8)\n",
    "model_tree"
   ]
  },
  {
   "cell_type": "code",
   "execution_count": 76,
   "metadata": {
    "scrolled": false
   },
   "outputs": [
    {
     "data": {
      "text/plain": [
       "{'max_depth': [8.0, 5.0, 3.0, 5.0, 5.0],\n",
       " 'max_leaf_nodes': [16, 10, 9, 13, 12],\n",
       " 'mean_train_score': [0.6319316508577886,\n",
       "  0.6202812628137082,\n",
       "  0.6355190524218346,\n",
       "  0.6482554613323336,\n",
       "  0.6887106734448574],\n",
       " 'mean_test_score': [0.6357772435897436,\n",
       "  0.5623489010989011,\n",
       "  0.6777683854606931,\n",
       "  0.5979094714809,\n",
       "  0.5988042909471482]}"
      ]
     },
     "execution_count": 76,
     "metadata": {},
     "output_type": "execute_result"
    }
   ],
   "source": [
    "cross_val_depth_selection_grid_search(model_tree,X3_train,y3_train,KFolds,{\"max_depth\":depth_values,\n",
    "                                                                           \"max_leaf_nodes\":max_leaf_nodes})"
   ]
  },
  {
   "cell_type": "code",
   "execution_count": 77,
   "metadata": {},
   "outputs": [
    {
     "data": {
      "text/plain": [
       "KFold(n_splits=7, random_state=None, shuffle=False)"
      ]
     },
     "execution_count": 77,
     "metadata": {},
     "output_type": "execute_result"
    }
   ],
   "source": [
    "#aumentando o numero de divisões\n",
    "KFolds2 = KFold(n_splits=7, random_state=None, shuffle=False)\n",
    "KFolds2"
   ]
  },
  {
   "cell_type": "code",
   "execution_count": 78,
   "metadata": {},
   "outputs": [
    {
     "data": {
      "text/plain": [
       "{'max_depth': [8.0, 5.0, 8.0, 8.0, 8.0, 8.0, 5.0],\n",
       " 'max_leaf_nodes': [11, 9, 13, 12, 9, 9, 10],\n",
       " 'mean_train_score': [0.637803173295264,\n",
       "  0.6072464667813928,\n",
       "  0.6540443851564395,\n",
       "  0.6450363026241199,\n",
       "  0.6501385632540131,\n",
       "  0.6388859255823542,\n",
       "  0.6764154778864105],\n",
       " 'mean_test_score': [0.6875000000000001,\n",
       "  0.6251818181818182,\n",
       "  0.4981515151515151,\n",
       "  0.6611111111111111,\n",
       "  0.5628888888888889,\n",
       "  0.5344949494949496,\n",
       "  0.4952272727272726]}"
      ]
     },
     "execution_count": 78,
     "metadata": {},
     "output_type": "execute_result"
    }
   ],
   "source": [
    "cross_val_depth_selection_grid_search(model_tree,X3_train,y3_train,KFolds2,{\"max_depth\":depth_values,\n",
    "                                                                           \"max_leaf_nodes\":max_leaf_nodes})"
   ]
  },
  {
   "cell_type": "code",
   "execution_count": 79,
   "metadata": {},
   "outputs": [
    {
     "data": {
      "text/plain": [
       "DecisionTreeClassifier(max_depth=8, max_leaf_nodes=9, random_state=24)"
      ]
     },
     "execution_count": 79,
     "metadata": {},
     "output_type": "execute_result"
    }
   ],
   "source": [
    "clf = DecisionTreeClassifier(max_depth=8,max_leaf_nodes=9,random_state=24)\n",
    "clf.fit(X3_train,y3_train)\n"
   ]
  },
  {
   "cell_type": "code",
   "execution_count": 80,
   "metadata": {},
   "outputs": [
    {
     "data": {
      "text/plain": [
       "0.656760374832664"
      ]
     },
     "execution_count": 80,
     "metadata": {},
     "output_type": "execute_result"
    }
   ],
   "source": [
    "clf_train_predict = clf.predict(X3_train)\n",
    "roc_auc_score(y3_train,clf_train_predict)"
   ]
  },
  {
   "cell_type": "code",
   "execution_count": 81,
   "metadata": {},
   "outputs": [
    {
     "data": {
      "text/plain": [
       "0.605006105006105"
      ]
     },
     "execution_count": 81,
     "metadata": {},
     "output_type": "execute_result"
    }
   ],
   "source": [
    "y3_test_predict = clf.predict(X3_test)\n",
    "roc_auc_score(y3_test,y3_test_predict)"
   ]
  },
  {
   "cell_type": "code",
   "execution_count": 82,
   "metadata": {},
   "outputs": [],
   "source": [
    "y_clf_scores_dt = clf.predict_proba(X3_test)"
   ]
  },
  {
   "cell_type": "code",
   "execution_count": 83,
   "metadata": {
    "scrolled": true
   },
   "outputs": [],
   "source": [
    "#verificando a curva de precision e recall para o modelo de decision tree\n",
    "p_dt,r_dt,th_dt = precision_recall_curve(y3_test,y_clf_scores_dt[:,1])"
   ]
  },
  {
   "cell_type": "code",
   "execution_count": 84,
   "metadata": {
    "scrolled": false
   },
   "outputs": [
    {
     "data": {
      "text/plain": [
       "<matplotlib.legend.Legend at 0x17dd337ec50>"
      ]
     },
     "execution_count": 84,
     "metadata": {},
     "output_type": "execute_result"
    },
    {
     "data": {
      "image/png": "[encoded data removed]",
      "text/plain": [
       "<Figure size 720x576 with 1 Axes>"
      ]
     },
     "metadata": {
      "needs_background": "light"
     },
     "output_type": "display_data"
    }
   ],
   "source": [
    "plt.figure(figsize=(10,8))\n",
    "plt.title(\"Precision x Recall x thresholds curve\")\n",
    "plt.plot(th_dt,p_dt[:-1],'--',label=\"precision\",color=\"blue\")\n",
    "plt.plot(th_dt,r_dt[:-1],'-',label=\"recall\",color=\"red\")\n",
    "plt.ylabel(\"Scores\")\n",
    "plt.xlabel(\"Decision Thresholds\")\n",
    "plt.legend(loc=\"best\")"
   ]
  },
  {
   "cell_type": "code",
   "execution_count": 147,
   "metadata": {
    "scrolled": true
   },
   "outputs": [],
   "source": [
    "y_pred_adj_dt= adjusted_scores(y_clf_scores_dt[:,1],0.51)"
   ]
  },
  {
   "cell_type": "code",
   "execution_count": 148,
   "metadata": {
    "scrolled": false
   },
   "outputs": [
    {
     "data": {
      "image/png": "[encoded data removed]",
      "text/plain": [
       "<Figure size 432x288 with 2 Axes>"
      ]
     },
     "metadata": {
      "needs_background": "light"
     },
     "output_type": "display_data"
    }
   ],
   "source": [
    "#analisando a matriz confusão para dados balanceados\n",
    "cm_dt_balanc = confusion_matrix(y3_test, y_pred_adj_dt)\n",
    "\n",
    "cm_dt_balanc_disp = ConfusionMatrixDisplay(cm_dt_balanc).plot()"
   ]
  },
  {
   "cell_type": "code",
   "execution_count": 149,
   "metadata": {},
   "outputs": [],
   "source": [
    "#aplicando no dataset real\n",
    "y_scores_dt_imbal = clf.predict_proba(X3_test)"
   ]
  },
  {
   "cell_type": "code",
   "execution_count": 150,
   "metadata": {},
   "outputs": [],
   "source": [
    "y_pred_adj_dt2 = adjusted_scores(y_scores_dt_imbal[:,1],0.51)"
   ]
  },
  {
   "cell_type": "code",
   "execution_count": 151,
   "metadata": {
    "scrolled": false
   },
   "outputs": [
    {
     "data": {
      "image/png": "[encoded data removed]",
      "text/plain": [
       "<Figure size 432x288 with 2 Axes>"
      ]
     },
     "metadata": {
      "needs_background": "light"
     },
     "output_type": "display_data"
    }
   ],
   "source": [
    "cm_dt_imbalanc = confusion_matrix(y3_test, y_pred_adj_dt2)\n",
    "\n",
    "cm_dt_imbalanc_disp = ConfusionMatrixDisplay(cm_dt_imbalanc).plot()"
   ]
  },
  {
   "cell_type": "code",
   "execution_count": 105,
   "metadata": {
    "scrolled": false
   },
   "outputs": [
    {
     "data": {
      "text/plain": [
       "{'precision_values_train': [0.6346153846153846,\n",
       "  0.6117455138662317,\n",
       "  0.6538461538461539,\n",
       "  0.6265306122448979,\n",
       "  0.5953846153846154],\n",
       " 'recall_values_train': [0.6971830985915493,\n",
       "  0.8600917431192661,\n",
       "  0.628175519630485,\n",
       "  0.7090069284064665,\n",
       "  0.8876146788990825],\n",
       " 'AUC_train': [0.6927720469924398,\n",
       "  0.7047597003619224,\n",
       "  0.6965341966728715,\n",
       "  0.6962195115446773,\n",
       "  0.692510626209915],\n",
       " 'precision_values_teste': [0.5229357798165137,\n",
       "  0.562962962962963,\n",
       "  0.5922330097087378,\n",
       "  0.5714285714285714,\n",
       "  0.5652173913043478],\n",
       " 'recall_values_teste': [0.6705882352941176,\n",
       "  0.8,\n",
       "  0.6630434782608695,\n",
       "  0.6956521739130435,\n",
       "  0.8210526315789474],\n",
       " 'AUC_teste': [0.6718158567774937,\n",
       "  0.6486215538847118,\n",
       "  0.6896638486312399,\n",
       "  0.6571557971014492,\n",
       "  0.6287218045112781]}"
      ]
     },
     "execution_count": 105,
     "metadata": {},
     "output_type": "execute_result"
    }
   ],
   "source": [
    "#realizando o cross validantion com decision thresold de 0.51 no dataset real\n",
    "results_dt = cross_val_precision_recall(clf,X,Y,KFolds,0.51)\n",
    "results_dt"
   ]
  },
  {
   "cell_type": "code",
   "execution_count": 106,
   "metadata": {},
   "outputs": [],
   "source": [
    "media_auc_train2 = np.mean(results_dt[\"AUC_train\"])\n",
    "media_auc_teste2 = np.mean(results_dt[\"AUC_teste\"])\n",
    "media_precision_train2 = np.mean(results_dt[\"precision_values_train\"])\n",
    "media_precision_teste2 = np.mean(results_dt[\"precision_values_teste\"])\n",
    "media_recall_train2 = np.mean(results_dt[\"recall_values_train\"])\n",
    "media_recall_teste2 = np.mean(results_dt[\"recall_values_teste\"])"
   ]
  },
  {
   "cell_type": "code",
   "execution_count": 107,
   "metadata": {},
   "outputs": [
    {
     "name": "stdout",
     "output_type": "stream",
     "text": [
      "média dos valores de AUC no conjunto de treinamento: 0.70\n",
      "média dos valores de AUC no conjunto de teste: 0.66\n"
     ]
    }
   ],
   "source": [
    "print(f\"média dos valores de AUC no conjunto de treinamento: {media_auc_train2:.2f}\")\n",
    "print(f\"média dos valores de AUC no conjunto de teste: {media_auc_teste2:.2f}\")"
   ]
  },
  {
   "cell_type": "code",
   "execution_count": 108,
   "metadata": {},
   "outputs": [
    {
     "name": "stdout",
     "output_type": "stream",
     "text": [
      "média dos valores de precisão no conjunto de treinamento: 0.62\n",
      "média dos valores de precisão no conjunto de teste: 0.56\n"
     ]
    }
   ],
   "source": [
    "print(f\"média dos valores de precisão no conjunto de treinamento: {media_precision_train2:.2f}\")\n",
    "print(f\"média dos valores de precisão no conjunto de teste: {media_precision_teste2:.2f}\")"
   ]
  },
  {
   "cell_type": "code",
   "execution_count": 109,
   "metadata": {},
   "outputs": [
    {
     "name": "stdout",
     "output_type": "stream",
     "text": [
      "média dos valores de recall no conjunto de treinamento: 0.76\n",
      "média dos valores de recall no conjunto de teste: 0.73\n"
     ]
    }
   ],
   "source": [
    "print(f\"média dos valores de recall no conjunto de treinamento: {media_recall_train2:.2f}\")\n",
    "print(f\"média dos valores de recall no conjunto de teste: {media_recall_teste2:.2f}\")"
   ]
  },
  {
   "cell_type": "code",
   "execution_count": 110,
   "metadata": {
    "scrolled": true
   },
   "outputs": [
    {
     "data": {
      "text/plain": [
       "array([ 10,  30,  50,  70,  90, 110, 130])"
      ]
     },
     "execution_count": 110,
     "metadata": {},
     "output_type": "execute_result"
    }
   ],
   "source": [
    "#RandomForest\n",
    "from sklearn.ensemble import RandomForestClassifier\n",
    "n_estimators = np.arange(10,150,20)\n",
    "n_estimators"
   ]
  },
  {
   "cell_type": "code",
   "execution_count": 111,
   "metadata": {
    "scrolled": false
   },
   "outputs": [],
   "source": [
    "model_random_forest = RandomForestClassifier(max_depth=3,n_estimators=10,random_state=10)"
   ]
  },
  {
   "cell_type": "code",
   "execution_count": 112,
   "metadata": {},
   "outputs": [],
   "source": [
    "def cross_val_depth_estimator_selection_grid_search(model,X,Y,KFolds,get_params):\n",
    "    n_folds = KFolds.n_splits\n",
    "    results = {\"max_depth\":[],\"n_estimators\":[],\"mean_train_score\":[],\"mean_test_score\":[]}\n",
    "    for train_index,test_index in KFolds.split(X,Y):\n",
    "        X_cv_train,X_cv_test = X.loc[X.index.intersection(train_index)],X.loc[X.index.intersection(test_index)]\n",
    "        y_cv_train,y_cv_test = Y.loc[Y.index.intersection(train_index)],Y.loc[Y.index.intersection(test_index)]\n",
    "        \n",
    "        #searching the best param for that split \n",
    "        clf = GridSearchCV(model_random_forest,scoring=\"roc_auc\",\n",
    "                   param_grid={\"max_depth\":depth_values,\"n_estimators\":n_estimators})\n",
    "        clf.fit(X_cv_train,y_cv_train)\n",
    "        \n",
    "        #getting the best estimator\n",
    "        best_depth = clf.best_estimator_.max_depth\n",
    "        best_n_estimators = clf.best_estimator_.n_estimators\n",
    "        results[\"max_depth\"].append(best_depth)\n",
    "        results[\"n_estimators\"].append(best_n_estimators)\n",
    "        \n",
    "        #creating a model with the best C and tuning params\n",
    "        model.max_depth = best_depth\n",
    "        model.n_estimators = best_n_estimators\n",
    "        model.fit(X_cv_train,y_cv_train)\n",
    "    \n",
    "        \n",
    "        #adding the mean train score \n",
    "        results[\"mean_train_score\"].append(clf.best_score_)\n",
    "        \n",
    "        #getting the mean test score\n",
    "        mean_test_score = cross_val_score(model,X_cv_test,y_cv_test,cv=5,scoring=\"roc_auc\")\n",
    "        results[\"mean_test_score\"].append(np.mean(mean_test_score))\n",
    "\n",
    "    return results\n"
   ]
  },
  {
   "cell_type": "code",
   "execution_count": 113,
   "metadata": {
    "scrolled": true
   },
   "outputs": [
    {
     "data": {
      "text/plain": [
       "{'max_depth': [3.0, 3.0, 3.0, 3.0, 3.0],\n",
       " 'n_estimators': [50, 130, 110, 30, 30],\n",
       " 'mean_train_score': [0.7003937740203421,\n",
       "  0.6971456216739236,\n",
       "  0.6917868666617467,\n",
       "  0.7116741836948491,\n",
       "  0.7104799135449864],\n",
       " 'mean_test_score': [0.7252644230769231,\n",
       "  0.6443269230769231,\n",
       "  0.7328825021132713,\n",
       "  0.6448220826792257,\n",
       "  0.6621009942438514]}"
      ]
     },
     "execution_count": 113,
     "metadata": {},
     "output_type": "execute_result"
    }
   ],
   "source": [
    "cross_val_depth_estimator_selection_grid_search(model_random_forest,X3_train,y3_train,KFolds,\n",
    "                                                {\"max_depth\":depth_values,\"n_estimators\":n_estimators})"
   ]
  },
  {
   "cell_type": "code",
   "execution_count": 114,
   "metadata": {},
   "outputs": [],
   "source": [
    "clf_rand_forest = RandomForestClassifier(max_depth=3,n_estimators=30,random_state=12)"
   ]
  },
  {
   "cell_type": "code",
   "execution_count": 115,
   "metadata": {},
   "outputs": [
    {
     "data": {
      "text/plain": [
       "RandomForestClassifier(max_depth=3, n_estimators=30, random_state=12)"
      ]
     },
     "execution_count": 115,
     "metadata": {},
     "output_type": "execute_result"
    }
   ],
   "source": [
    "clf_rand_forest.fit(X3_train,y3_train)"
   ]
  },
  {
   "cell_type": "code",
   "execution_count": 116,
   "metadata": {},
   "outputs": [],
   "source": [
    "y_clf_scores_randforest = clf_rand_forest.predict_proba(X3_test)"
   ]
  },
  {
   "cell_type": "code",
   "execution_count": 117,
   "metadata": {},
   "outputs": [],
   "source": [
    "#precision recall curve para random forest\n",
    "p_rf,r_rf,th_rf = precision_recall_curve(y3_test,y_clf_scores_randforest[:,1])"
   ]
  },
  {
   "cell_type": "code",
   "execution_count": 118,
   "metadata": {
    "scrolled": false
   },
   "outputs": [
    {
     "data": {
      "text/plain": [
       "<matplotlib.legend.Legend at 0x17dd31e1828>"
      ]
     },
     "execution_count": 118,
     "metadata": {},
     "output_type": "execute_result"
    },
    {
     "data": {
      "image/png": "[encoded data removed]",
      "text/plain": [
       "<Figure size 720x576 with 1 Axes>"
      ]
     },
     "metadata": {
      "needs_background": "light"
     },
     "output_type": "display_data"
    }
   ],
   "source": [
    "plt.figure(figsize=(10,8))\n",
    "plt.title(\"Precision x Recall x thresholds curve\")\n",
    "plt.plot(th_rf,p_rf[:-1],'--',label=\"precision\",color=\"blue\")\n",
    "plt.plot(th_rf,r_rf[:-1],'-',label=\"recall\",color=\"red\")\n",
    "plt.ylabel(\"Scores\")\n",
    "plt.xlabel(\"Decision Thresholds\")\n",
    "plt.legend(loc=\"best\")"
   ]
  },
  {
   "cell_type": "code",
   "execution_count": null,
   "metadata": {},
   "outputs": [],
   "source": [
    "#analisando a matriz confusão da random forest "
   ]
  },
  {
   "cell_type": "code",
   "execution_count": 192,
   "metadata": {
    "scrolled": true
   },
   "outputs": [],
   "source": [
    "y_pred_adj_rf= adjusted_scores(y_clf_scores_randforest[:,1],0.51)"
   ]
  },
  {
   "cell_type": "code",
   "execution_count": 193,
   "metadata": {
    "scrolled": false
   },
   "outputs": [
    {
     "data": {
      "image/png": "[encoded data removed]",
      "text/plain": [
       "<Figure size 432x288 with 2 Axes>"
      ]
     },
     "metadata": {
      "needs_background": "light"
     },
     "output_type": "display_data"
    }
   ],
   "source": [
    "#analisando a matriz confusão para dados balanceados\n",
    "cm_rf_balanc = confusion_matrix(y3_test, y_pred_adj_rf)\n",
    "\n",
    "cm_rf_balanc_disp = ConfusionMatrixDisplay(cm_rf_balanc).plot()"
   ]
  },
  {
   "cell_type": "code",
   "execution_count": 155,
   "metadata": {},
   "outputs": [],
   "source": [
    "#aplicando no dataset real\n",
    "y_scores_rf_imbal = clf_rand_forest.predict_proba(X_test)"
   ]
  },
  {
   "cell_type": "code",
   "execution_count": 194,
   "metadata": {},
   "outputs": [],
   "source": [
    "y_pred_adj_rf2 = adjusted_scores(y_scores_rf_imbal[:,1],0.51)"
   ]
  },
  {
   "cell_type": "code",
   "execution_count": 195,
   "metadata": {
    "scrolled": true
   },
   "outputs": [
    {
     "data": {
      "image/png": "[encoded data removed]",
      "text/plain": [
       "<Figure size 432x288 with 2 Axes>"
      ]
     },
     "metadata": {
      "needs_background": "light"
     },
     "output_type": "display_data"
    }
   ],
   "source": [
    "cm_rf_imbalanc = confusion_matrix(y_test, y_pred_adj_rf2)\n",
    "\n",
    "cm_rf_imbalanc_disp = ConfusionMatrixDisplay(cm_rf_imbalanc).plot()"
   ]
  },
  {
   "cell_type": "code",
   "execution_count": null,
   "metadata": {},
   "outputs": [],
   "source": [
    "#realizando o cross validation com o valor de threshold de 0.51 no dataset real"
   ]
  },
  {
   "cell_type": "code",
   "execution_count": 196,
   "metadata": {
    "scrolled": true
   },
   "outputs": [
    {
     "data": {
      "text/plain": [
       "{'precision_values_train': [0.6623093681917211,\n",
       "  0.655011655011655,\n",
       "  0.6476793248945147,\n",
       "  0.6403846153846153,\n",
       "  0.6546610169491526],\n",
       " 'recall_values_train': [0.7136150234741784,\n",
       "  0.6444954128440367,\n",
       "  0.7090069284064665,\n",
       "  0.76905311778291,\n",
       "  0.7087155963302753],\n",
       " 'AUC_train': [0.7286831316537723,\n",
       "  0.7232635089638919,\n",
       "  0.7105883545167984,\n",
       "  0.7206502781496514,\n",
       "  0.7244050374547597],\n",
       " 'precision_values_teste': [0.5689655172413793,\n",
       "  0.6063829787234043,\n",
       "  0.6068376068376068,\n",
       "  0.5714285714285714,\n",
       "  0.65],\n",
       " 'recall_values_teste': [0.7764705882352941,\n",
       "  0.6,\n",
       "  0.7717391304347826,\n",
       "  0.6956521739130435,\n",
       "  0.6842105263157895],\n",
       " 'AUC_teste': [0.7180051150895139,\n",
       "  0.6838095238095238,\n",
       "  0.7237822061191627,\n",
       "  0.7115539452495974,\n",
       "  0.729172932330827]}"
      ]
     },
     "execution_count": 196,
     "metadata": {},
     "output_type": "execute_result"
    }
   ],
   "source": [
    "results_rf = cross_val_precision_recall(clf_rand_forest,X,Y,KFolds,0.51)\n",
    "results_rf"
   ]
  },
  {
   "cell_type": "code",
   "execution_count": 197,
   "metadata": {},
   "outputs": [],
   "source": [
    "media_auc_train3 = np.mean(results_rf[\"AUC_train\"])\n",
    "media_auc_teste3 = np.mean(results_rf[\"AUC_teste\"])\n",
    "media_precision_train3 = np.mean(results_rf[\"precision_values_train\"])\n",
    "media_precision_teste3 = np.mean(results_rf[\"precision_values_teste\"])\n",
    "media_recall_train3 = np.mean(results_rf[\"recall_values_train\"])\n",
    "media_recall_teste3 = np.mean(results_rf[\"recall_values_teste\"])"
   ]
  },
  {
   "cell_type": "code",
   "execution_count": 198,
   "metadata": {},
   "outputs": [
    {
     "name": "stdout",
     "output_type": "stream",
     "text": [
      "média dos valores de AUC no conjunto de treinamento: 0.72\n",
      "média dos valores de AUC no conjunto de teste: 0.71\n"
     ]
    }
   ],
   "source": [
    "print(f\"média dos valores de AUC no conjunto de treinamento: {media_auc_train3:.2f}\")\n",
    "print(f\"média dos valores de AUC no conjunto de teste: {media_auc_teste3:.2f}\")"
   ]
  },
  {
   "cell_type": "code",
   "execution_count": 199,
   "metadata": {},
   "outputs": [
    {
     "name": "stdout",
     "output_type": "stream",
     "text": [
      "média dos valores de precisão no conjunto de treinamento: 0.65\n",
      "média dos valores de precisão no conjunto de teste: 0.60\n"
     ]
    }
   ],
   "source": [
    "print(f\"média dos valores de precisão no conjunto de treinamento: {media_precision_train3:.2f}\")\n",
    "print(f\"média dos valores de precisão no conjunto de teste: {media_precision_teste3:.2f}\")"
   ]
  },
  {
   "cell_type": "code",
   "execution_count": 200,
   "metadata": {},
   "outputs": [
    {
     "name": "stdout",
     "output_type": "stream",
     "text": [
      "média dos valores de recall no conjunto de treinamento: 0.71\n",
      "média dos valores de recall no conjunto de teste: 0.71\n"
     ]
    }
   ],
   "source": [
    "print(f\"média dos valores de recall no conjunto de treinamento: {media_recall_train3:.2f}\")\n",
    "print(f\"média dos valores de recall no conjunto de teste: {media_recall_teste3:.2f}\")"
   ]
  },
  {
   "cell_type": "code",
   "execution_count": 208,
   "metadata": {},
   "outputs": [],
   "source": [
    "#adicionando dados da decision tree \n",
    "models_results[\"models\"].append(clf)\n",
    "models_results[\"auc_train\"].append(str(round(np.mean(results_dt[\"AUC_train\"]),2))+ \" +/- \" +\n",
    "                             str(round(np.std(results_dt[\"AUC_train\"]),2)))\n",
    "models_results[\"auc_test\"].append(str(round(np.mean(results_dt[\"AUC_teste\"]),2))+ \" +/- \" +\n",
    "                             str(round(np.std(results_dt[\"AUC_teste\"]),2)))\n",
    "models_results[\"precision_train\"].append(str(round(np.mean(results_dt[\"precision_values_train\"]),2))+ \" +/- \" +\n",
    "                             str(round(np.std(results_dt[\"precision_values_train\"]),2)))\n",
    "models_results[\"precision_test\"].append(str(round(np.mean(results_dt[\"precision_values_teste\"]),2))+ \" +/- \" +\n",
    "                             str(round(np.std(results_dt[\"precision_values_teste\"]),2)))\n",
    "models_results[\"recall_train\"].append(str(round(np.mean(results_dt[\"recall_values_train\"]),2))+ \" +/- \" +\n",
    "                             str(round(np.std(results_dt[\"recall_values_train\"]),2)))\n",
    "\n",
    "models_results[\"recall_test\"].append(str(round(np.mean(results_dt[\"recall_values_teste\"]),2))+ \" +/- \" +\n",
    "                             str(round(np.std(results_dt[\"recall_values_teste\"]),2)))\n"
   ]
  },
  {
   "cell_type": "code",
   "execution_count": 209,
   "metadata": {},
   "outputs": [],
   "source": [
    "#adicionando dados de random forest \n",
    "models_results[\"models\"].append(clf_rand_forest)\n",
    "models_results[\"auc_train\"].append(str(round(np.mean(results_rf[\"AUC_train\"]),2))+ \" +/- \" +\n",
    "                             str(round(np.std(results_rf[\"AUC_train\"]),2)))\n",
    "models_results[\"auc_test\"].append(str(round(np.mean(results_rf[\"AUC_teste\"]),2))+ \" +/- \" +\n",
    "                             str(round(np.std(results_rf[\"AUC_teste\"]),2)))\n",
    "models_results[\"precision_train\"].append(str(round(np.mean(results_rf[\"precision_values_train\"]),2))+ \" +/- \" +\n",
    "                             str(round(np.std(results_rf[\"precision_values_train\"]),2)))\n",
    "models_results[\"precision_test\"].append(str(round(np.mean(results_rf[\"precision_values_teste\"]),2))+ \" +/- \" +\n",
    "                             str(round(np.std(results_rf[\"precision_values_teste\"]),2)))\n",
    "models_results[\"recall_train\"].append(str(round(np.mean(results_rf[\"recall_values_train\"]),2))+ \" +/- \" +\n",
    "                             str(round(np.std(results_rf[\"recall_values_train\"]),2)))\n",
    "\n",
    "models_results[\"recall_test\"].append(str(round(np.mean(results_rf[\"recall_values_teste\"]),2))+ \" +/- \" +\n",
    "                             str(round(np.std(results_rf[\"recall_values_teste\"]),2)))\n"
   ]
  },
  {
   "cell_type": "code",
   "execution_count": 210,
   "metadata": {},
   "outputs": [
    {
     "data": {
      "text/html": [
       "<div>\n",
       "<style scoped>\n",
       "    .dataframe tbody tr th:only-of-type {\n",
       "        vertical-align: middle;\n",
       "    }\n",
       "\n",
       "    .dataframe tbody tr th {\n",
       "        vertical-align: top;\n",
       "    }\n",
       "\n",
       "    .dataframe thead th {\n",
       "        text-align: right;\n",
       "    }\n",
       "</style>\n",
       "<table border=\"1\" class=\"dataframe\">\n",
       "  <thead>\n",
       "    <tr style=\"text-align: right;\">\n",
       "      <th></th>\n",
       "      <th>models</th>\n",
       "      <th>auc_train</th>\n",
       "      <th>auc_test</th>\n",
       "      <th>precision_train</th>\n",
       "      <th>precision_test</th>\n",
       "      <th>recall_train</th>\n",
       "      <th>recall_test</th>\n",
       "    </tr>\n",
       "  </thead>\n",
       "  <tbody>\n",
       "    <tr>\n",
       "      <th>0</th>\n",
       "      <td>DecisionTreeClassifier(max_depth=8, max_leaf_n...</td>\n",
       "      <td>0.7 +/- 0.0</td>\n",
       "      <td>0.66 +/- 0.02</td>\n",
       "      <td>0.62 +/- 0.02</td>\n",
       "      <td>0.56 +/- 0.02</td>\n",
       "      <td>0.76 +/- 0.1</td>\n",
       "      <td>0.73 +/- 0.07</td>\n",
       "    </tr>\n",
       "    <tr>\n",
       "      <th>1</th>\n",
       "      <td>LinearSVC(C=0.1, dual=False, penalty='l1', ran...</td>\n",
       "      <td>0.75 +/- 0.01</td>\n",
       "      <td>0.72 +/- 0.02</td>\n",
       "      <td>0.65 +/- 0.01</td>\n",
       "      <td>0.59 +/- 0.03</td>\n",
       "      <td>0.77 +/- 0.02</td>\n",
       "      <td>0.73 +/- 0.05</td>\n",
       "    </tr>\n",
       "    <tr>\n",
       "      <th>2</th>\n",
       "      <td>(DecisionTreeClassifier(max_depth=3, max_featu...</td>\n",
       "      <td>0.72 +/- 0.01</td>\n",
       "      <td>0.71 +/- 0.02</td>\n",
       "      <td>0.65 +/- 0.01</td>\n",
       "      <td>0.6 +/- 0.03</td>\n",
       "      <td>0.71 +/- 0.04</td>\n",
       "      <td>0.71 +/- 0.06</td>\n",
       "    </tr>\n",
       "    <tr>\n",
       "      <th>3</th>\n",
       "      <td>LogisticRegression(C=1, penalty='l1', random_s...</td>\n",
       "      <td>0.76 +/- 0.0</td>\n",
       "      <td>0.72 +/- 0.02</td>\n",
       "      <td>0.67 +/- 0.01</td>\n",
       "      <td>0.61 +/- 0.03</td>\n",
       "      <td>0.74 +/- 0.01</td>\n",
       "      <td>0.7 +/- 0.04</td>\n",
       "    </tr>\n",
       "  </tbody>\n",
       "</table>\n",
       "</div>"
      ],
      "text/plain": [
       "                                              models      auc_train  \\\n",
       "0  DecisionTreeClassifier(max_depth=8, max_leaf_n...    0.7 +/- 0.0   \n",
       "1  LinearSVC(C=0.1, dual=False, penalty='l1', ran...  0.75 +/- 0.01   \n",
       "2  (DecisionTreeClassifier(max_depth=3, max_featu...  0.72 +/- 0.01   \n",
       "3  LogisticRegression(C=1, penalty='l1', random_s...   0.76 +/- 0.0   \n",
       "\n",
       "        auc_test precision_train precision_test   recall_train    recall_test  \n",
       "0  0.66 +/- 0.02   0.62 +/- 0.02  0.56 +/- 0.02   0.76 +/- 0.1  0.73 +/- 0.07  \n",
       "1  0.72 +/- 0.02   0.65 +/- 0.01  0.59 +/- 0.03  0.77 +/- 0.02  0.73 +/- 0.05  \n",
       "2  0.71 +/- 0.02   0.65 +/- 0.01   0.6 +/- 0.03  0.71 +/- 0.04  0.71 +/- 0.06  \n",
       "3  0.72 +/- 0.02   0.67 +/- 0.01  0.61 +/- 0.03  0.74 +/- 0.01   0.7 +/- 0.04  "
      ]
     },
     "execution_count": 210,
     "metadata": {},
     "output_type": "execute_result"
    }
   ],
   "source": [
    "#analisando os resultados dos modelos obtidos \n",
    "df_results = pd.DataFrame(models_results)\n",
    "df_results.sort_values([\"recall_test\"],ascending=False,ignore_index=True)"
   ]
  },
  {
   "cell_type": "markdown",
   "metadata": {
    "scrolled": true
   },
   "source": [
    "<p> Todos os modelos tiverem bons auc_train e auc_test, logo, todos os modelos tiveram bom encaixe aos dados. Apesar disso, linearSVC e decision trees tiverem resultados finais similares para recall similares. Assim, analisando as outras colunas é visto que o linear SVC teve um melhor desempenho como um todo (olhando precisão e auc). Assim, vamos analisar quais variaveis são importantes para os dois modelos (pelo grau de importância de random forest e valores dos coeficientes pela svc)</p>"
   ]
  },
  {
   "cell_type": "code",
   "execution_count": 138,
   "metadata": {},
   "outputs": [],
   "source": [
    "coef_svc = pd.DataFrame(data = df_results.loc[0][\"models\"].coef_.reshape(-1,1),index=X.columns,\n",
    "                              columns=[\"grau de importancia\"])"
   ]
  },
  {
   "cell_type": "code",
   "execution_count": 139,
   "metadata": {},
   "outputs": [
    {
     "data": {
      "text/html": [
       "<div>\n",
       "<style scoped>\n",
       "    .dataframe tbody tr th:only-of-type {\n",
       "        vertical-align: middle;\n",
       "    }\n",
       "\n",
       "    .dataframe tbody tr th {\n",
       "        vertical-align: top;\n",
       "    }\n",
       "\n",
       "    .dataframe thead th {\n",
       "        text-align: right;\n",
       "    }\n",
       "</style>\n",
       "<table border=\"1\" class=\"dataframe\">\n",
       "  <thead>\n",
       "    <tr style=\"text-align: right;\">\n",
       "      <th></th>\n",
       "      <th>grau de importancia</th>\n",
       "    </tr>\n",
       "  </thead>\n",
       "  <tbody>\n",
       "    <tr>\n",
       "      <th>gender_female</th>\n",
       "      <td>0.772867</td>\n",
       "    </tr>\n",
       "    <tr>\n",
       "      <th>gender_male</th>\n",
       "      <td>0.199376</td>\n",
       "    </tr>\n",
       "    <tr>\n",
       "      <th>race/ethnicity_group A</th>\n",
       "      <td>0.028934</td>\n",
       "    </tr>\n",
       "    <tr>\n",
       "      <th>race/ethnicity_group B</th>\n",
       "      <td>0.096540</td>\n",
       "    </tr>\n",
       "    <tr>\n",
       "      <th>race/ethnicity_group C</th>\n",
       "      <td>0.292022</td>\n",
       "    </tr>\n",
       "    <tr>\n",
       "      <th>race/ethnicity_group D</th>\n",
       "      <td>0.699199</td>\n",
       "    </tr>\n",
       "    <tr>\n",
       "      <th>race/ethnicity_group E</th>\n",
       "      <td>0.974942</td>\n",
       "    </tr>\n",
       "    <tr>\n",
       "      <th>parental_level_of_education_associate's degree</th>\n",
       "      <td>0.561343</td>\n",
       "    </tr>\n",
       "    <tr>\n",
       "      <th>parental_level_of_education_bachelor's degree</th>\n",
       "      <td>0.867340</td>\n",
       "    </tr>\n",
       "    <tr>\n",
       "      <th>parental_level_of_education_high school</th>\n",
       "      <td>0.121029</td>\n",
       "    </tr>\n",
       "    <tr>\n",
       "      <th>parental_level_of_education_master's degree</th>\n",
       "      <td>0.747308</td>\n",
       "    </tr>\n",
       "    <tr>\n",
       "      <th>parental_level_of_education_some college</th>\n",
       "      <td>0.311978</td>\n",
       "    </tr>\n",
       "    <tr>\n",
       "      <th>parental_level_of_education_some high school</th>\n",
       "      <td>0.060050</td>\n",
       "    </tr>\n",
       "    <tr>\n",
       "      <th>lunch_free/reduced</th>\n",
       "      <td>0.089604</td>\n",
       "    </tr>\n",
       "    <tr>\n",
       "      <th>lunch_standard</th>\n",
       "      <td>1.121037</td>\n",
       "    </tr>\n",
       "    <tr>\n",
       "      <th>test_preparation_course_completed</th>\n",
       "      <td>1.022067</td>\n",
       "    </tr>\n",
       "    <tr>\n",
       "      <th>test_preparation_course_none</th>\n",
       "      <td>0.066767</td>\n",
       "    </tr>\n",
       "  </tbody>\n",
       "</table>\n",
       "</div>"
      ],
      "text/plain": [
       "                                                grau de importancia\n",
       "gender_female                                              0.772867\n",
       "gender_male                                                0.199376\n",
       "race/ethnicity_group A                                     0.028934\n",
       "race/ethnicity_group B                                     0.096540\n",
       "race/ethnicity_group C                                     0.292022\n",
       "race/ethnicity_group D                                     0.699199\n",
       "race/ethnicity_group E                                     0.974942\n",
       "parental_level_of_education_associate's degree             0.561343\n",
       "parental_level_of_education_bachelor's degree              0.867340\n",
       "parental_level_of_education_high school                    0.121029\n",
       "parental_level_of_education_master's degree                0.747308\n",
       "parental_level_of_education_some college                   0.311978\n",
       "parental_level_of_education_some high school               0.060050\n",
       "lunch_free/reduced                                         0.089604\n",
       "lunch_standard                                             1.121037\n",
       "test_preparation_course_completed                          1.022067\n",
       "test_preparation_course_none                               0.066767"
      ]
     },
     "execution_count": 139,
     "metadata": {},
     "output_type": "execute_result"
    }
   ],
   "source": [
    "coef_svc"
   ]
  },
  {
   "cell_type": "code",
   "execution_count": 140,
   "metadata": {},
   "outputs": [
    {
     "data": {
      "text/plain": [
       "<matplotlib.axes._subplots.AxesSubplot at 0x17dd4b1bc50>"
      ]
     },
     "execution_count": 140,
     "metadata": {},
     "output_type": "execute_result"
    },
    {
     "data": {
      "image/png": "[encoded data removed]",
      "text/plain": [
       "<Figure size 432x288 with 1 Axes>"
      ]
     },
     "metadata": {
      "needs_background": "light"
     },
     "output_type": "display_data"
    }
   ],
   "source": [
    "sns.barplot(x=coef_svc[\"grau de importancia\"],y=coef_svc.index,palette=\"Blues\")"
   ]
  },
  {
   "cell_type": "markdown",
   "metadata": {},
   "source": [
    "<p> A partir do gráfico acima as variaveis mais importantes para definir aprovação são test_preparation_course e lunch, logo, para test_preparation_course_completed e lunch_standard com valores altos é um grande indicador de aluno aprovado. Dito isso, outras variaveis importantes são race/ethnicity (principalmente no grupo D e E) além de parental_level_of_education (com pesos altos para bachelor e masters) e gender (com maior peso para female). \n",
    "<p>Apesar de todas as variáveis terem certa importância nesse dataset para um caso com mais dados e atributos essa análise é importante para realizar uma redução ou filtragem de variáveis.</p>\n",
    "<p>Por fim, mesmo com pequeno dataset conseguimos encontrar informações importantes a respeiro dos dados adquiridos. Ao se verificar caracteristicas importantes para definir a aprovação de alunos e conclui-se com essa análise também quais alunos estão correndo risco de reprovação ao se estudar quais alunos percetencem a grupos de menores pesos de aprovação.</p>"
   ]
  }
 ],
 "metadata": {
  "kernelspec": {
   "display_name": "Python 3",
   "language": "python",
   "name": "python3"
  },
  "language_info": {
   "codemirror_mode": {
    "name": "ipython",
    "version": 3
   },
   "file_extension": ".py",
   "mimetype": "text/x-python",
   "name": "python",
   "nbconvert_exporter": "python",
   "pygments_lexer": "ipython3",
   "version": "3.7.3"
  }
 },
 "nbformat": 4,
 "nbformat_minor": 2
}
